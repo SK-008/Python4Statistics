{
 "cells": [
  {
   "cell_type": "code",
   "execution_count": null,
   "id": "e1d0d1ee-f0b0-4cfd-ad0c-ff5c8af8cdb8",
   "metadata": {},
   "outputs": [],
   "source": [
    "#Generating Data with Numpy\n",
    "#Generate 10 values between zero and 100) from a uniform distribution\n",
    "x = np.random.randint(100, size=(10))\n",
    "print(x)\n",
    "print(type(x)) #Output is in the form of Numpy arrays, not lists\n",
    "\n",
    "#Generate 10 valeus between 50 and 100\n",
    "y = np.random.randint(50, 100, size=(10))\n",
    "print(y)"
   ]
  },
  {
   "cell_type": "code",
   "execution_count": null,
   "id": "bef7c7ac-67e2-45e2-9812-d0eb658118ee",
   "metadata": {},
   "outputs": [],
   "source": [
    "#Generate 2 sets of 10 values between 1 and 100\n",
    "x = np.random.randint(100, size=(10,2))\n",
    "print(x)"
   ]
  },
  {
   "cell_type": "code",
   "execution_count": null,
   "id": "ad89bdea-5058-4d54-9039-a08e2c7ec1c8",
   "metadata": {},
   "outputs": [],
   "source": [
    "#Convert the Numpy array into a Pandas dataframe\n",
    "df = pd.DataFrame(x, columns = ['A','B'])\n",
    "df"
   ]
  },
  {
   "cell_type": "code",
   "execution_count": null,
   "id": "c931acd1-8743-46e8-bdc9-32aff2d0345f",
   "metadata": {},
   "outputs": [],
   "source": [
    "#Generating Normally Distributed Random Data\n",
    "# loc = mean, scale = standard deviation, size = sample size (n)\n",
    "n = np.random.normal(loc=0, scale=1, size=(10))\n",
    "print(n)"
   ]
  },
  {
   "cell_type": "code",
   "execution_count": null,
   "id": "bd03716d-785d-4159-8808-756c243c8444",
   "metadata": {},
   "outputs": [],
   "source": [
    "#For uniform, low = lowest number, high = highest number, size = sample size\n",
    "u = np.random.uniform(low=1, high=100, size=10)\n",
    "print(u)"
   ]
  },
  {
   "cell_type": "code",
   "execution_count": null,
   "id": "8c2e2bc1-8250-4a60-8b48-886503e7ab7a",
   "metadata": {},
   "outputs": [],
   "source": [
    "#Generating Binomial and Poisson Distributed Data\n",
    "\n",
    "#For binomial,n = number of trials, p = probability of success for a given trial, size = sample size\n",
    "b = np.random.binomial(n=50, p=0.25, size=10)\n",
    "print(b)\n",
    "\n",
    "#For poisson, lam = rate of occurrance, size = sample size\n",
    "p = np.random.poisson(lam=5, size=10)\n",
    "print(p)"
   ]
  },
  {
   "cell_type": "code",
   "execution_count": null,
   "id": "2425f0b2-61e0-4ffd-ac69-684ed933598e",
   "metadata": {},
   "outputs": [],
   "source": [
    "#Createing span variables\n",
    "#Create span of numbers ranging from the lowest value of a series to the highest, incremented evenly along n observations\n",
    "span = np.linspace(df['age'].min(), df['age'].max(), len(df['age']))"
   ]
  }
 ],
 "metadata": {
  "kernelspec": {
   "display_name": "Python 3 (ipykernel)",
   "language": "python",
   "name": "python3"
  },
  "language_info": {
   "codemirror_mode": {
    "name": "ipython",
    "version": 3
   },
   "file_extension": ".py",
   "mimetype": "text/x-python",
   "name": "python",
   "nbconvert_exporter": "python",
   "pygments_lexer": "ipython3",
   "version": "3.10.9"
  }
 },
 "nbformat": 4,
 "nbformat_minor": 5
}
