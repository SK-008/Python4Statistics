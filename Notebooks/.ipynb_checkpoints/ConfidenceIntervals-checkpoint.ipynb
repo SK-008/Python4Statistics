{
 "cells": [
  {
   "cell_type": "code",
   "execution_count": 1,
   "id": "800649d7-28de-4958-973e-9c97dc996852",
   "metadata": {},
   "outputs": [
    {
     "name": "stdout",
     "output_type": "stream",
     "text": [
      "The sample mean is 4.0.\n",
      "The test used is a T Test and the critical value of T is 0.06537400065804291.\n",
      "The sample mean has a margin of error of: 0.049418099414444125.\n",
      "The sample mean has an upper confidence interval of: 4.049418099414444\n",
      "The sample mean has a lower confidence interval of 3.950581900585556\n",
      "At the 95% confidence level, the actual populaiton mean will be within 3.950581900585556 and 4.049418099414444, 95 out of 100 times.\n"
     ]
    }
   ],
   "source": [
    "#Confidence Intervals\n",
    "import numpy as np\n",
    "from scipy.stats import norm\n",
    "from scipy.stats import t\n",
    "\n",
    "x = [1, 2, 3, 4, 5, 6, 7]\n",
    "\n",
    "def confidence_intervals(series, level):\n",
    "    mean = np.mean(series)\n",
    "    std = np.std(series)\n",
    "    n = len(series)\n",
    "    df = n - 1\n",
    "    se = std / np.sqrt(n)\n",
    "    z_cv= norm.ppf(level)\n",
    "    t_cv = t.ppf(1 - level / 2, df=df)\n",
    "    pctconfident = str(int(level * 100))\n",
    "    cl = pctconfident + \"% confidence level\"\n",
    "    if len(series) >= 30:\n",
    "        cv = z_cv\n",
    "        me = cv * se\n",
    "        test = 'Z Test '\n",
    "        letter = 'T '\n",
    "    else: \n",
    "        cv = t_cv\n",
    "        me = cv * se\n",
    "        test = 'T Test '\n",
    "        letter = 'T '\n",
    "\n",
    "\n",
    "    print(f'The sample mean is {mean}.')\n",
    "    print(f'The test used is a {test}and the critical value of {letter}is {cv}.')\n",
    "    print(f'The sample mean has a margin of error of: {me}.')\n",
    "    print(f'The sample mean has an upper confidence interval of: {mean + me}')\n",
    "    print(f'The sample mean has a lower confidence interval of {mean - me}')\n",
    "    print(f'At the {cl}, the actual populaiton mean will be within {mean - me} and {mean + me}, {pctconfident} out of 100 times.')\n",
    "\n",
    "\n",
    "levels = [0.90, 0.95, 0.99]\n",
    "confidence_intervals(x,0.95)"
   ]
  }
 ],
 "metadata": {
  "kernelspec": {
   "display_name": "Python 3 (ipykernel)",
   "language": "python",
   "name": "python3"
  },
  "language_info": {
   "codemirror_mode": {
    "name": "ipython",
    "version": 3
   },
   "file_extension": ".py",
   "mimetype": "text/x-python",
   "name": "python",
   "nbconvert_exporter": "python",
   "pygments_lexer": "ipython3",
   "version": "3.10.9"
  }
 },
 "nbformat": 4,
 "nbformat_minor": 5
}
