{
 "cells": [
  {
   "cell_type": "code",
   "execution_count": 2,
   "id": "800649d7-28de-4958-973e-9c97dc996852",
   "metadata": {},
   "outputs": [
    {
     "name": "stdout",
     "output_type": "stream",
     "text": [
      "The sample mean is 52.7010473574868.\n",
      "The test used is a T Test and the critical value of T is 1.8331129326536335.\n",
      "The sample mean has a margin of error of: 5.217786392321554.\n",
      "The sample mean has an upper confidence interval of: 57.91883374980836\n",
      "The sample mean has a lower confidence interval of 47.48326096516524\n",
      "At the 90% confidence level, the actual populaiton mean will be within 47.48326096516524 and 57.91883374980836, 90 out of 100 times.\n",
      "The sample mean is 52.7010473574868.\n",
      "The test used is a T Test and the critical value of T is 2.262157162740991.\n",
      "The sample mean has a margin of error of: 6.4390211049113475.\n",
      "The sample mean has an upper confidence interval of: 59.14006846239815\n",
      "The sample mean has a lower confidence interval of 46.26202625257545\n",
      "At the 95% confidence level, the actual populaiton mean will be within 46.26202625257545 and 59.14006846239815, 95 out of 100 times.\n",
      "The sample mean is 52.7010473574868.\n",
      "The test used is a T Test and the critical value of T is 3.2498355440153697.\n",
      "The sample mean has a margin of error of: 9.250356252901046.\n",
      "The sample mean has an upper confidence interval of: 61.95140361038784\n",
      "The sample mean has a lower confidence interval of 43.45069110458576\n",
      "At the 99% confidence level, the actual populaiton mean will be within 43.45069110458576 and 61.95140361038784, 99 out of 100 times.\n"
     ]
    }
   ],
   "source": [
    "#Confidence Intervals\n",
    "import numpy as np\n",
    "from scipy.stats import norm\n",
    "from scipy.stats import t\n",
    "\n",
    "#z = 1.65\n",
    "x = [1, 2, 3, 4, 5, 6, 7]\n",
    "\n",
    "def confidence_intervals(series, level):\n",
    "    mean = np.mean(series)\n",
    "    std = np.std(series)\n",
    "    n = len(series)\n",
    "    df = n - 1\n",
    "    se = std / np.sqrt(n)\n",
    "    z_cv= norm.ppf(level)\n",
    "    t_cv = t.ppf(1 - (1 - level) / 2, df=df)\n",
    "    pctconfident = str(int(level * 100))\n",
    "    cl = pctconfident + \"% confidence level\"\n",
    "    if len(series) >= 30:\n",
    "        cv = z_cv\n",
    "        me = cv * se \n",
    "        test = 'Z Test '\n",
    "        letter = ' '\n",
    "    else: \n",
    "        cv = t_cv\n",
    "        me = cv * se \n",
    "        test = 'T Test '\n",
    "        letter = 'T '\n",
    "\n",
    "    print(f'The sample mean is {mean}.')\n",
    "    print(f'The test used is a {test}and the critical value of {letter}is {cv}.')\n",
    "    print(f'The sample mean has a margin of error of: {me}.')\n",
    "    print(f'The sample mean has an upper confidence interval of: {mean + me}')\n",
    "    print(f'The sample mean has a lower confidence interval of {mean - me}')\n",
    "    print(f'At the {cl}, the actual populaiton mean will be within {mean - me} and {mean + me}, {pctconfident} out of 100 times.')\n",
    "\n",
    "x = np.random.normal(50, 10, 10)\n",
    "\n",
    "levels = [0.90, 0.95, 0.99]\n",
    "\n",
    "for i in levels:\n",
    "    confidence_intervals(x,i)\n",
    "    \n"
   ]
  },
  {
   "cell_type": "code",
   "execution_count": 41,
   "id": "20cdd6af-6e15-4a26-a945-482c035af0db",
   "metadata": {},
   "outputs": [
    {
     "data": {
      "text/plain": [
       "-0.06429814614428311"
      ]
     },
     "execution_count": 41,
     "metadata": {},
     "output_type": "execute_result"
    }
   ],
   "source": [
    "t_cv = t.ppf(((1 - 0.05) / 2), df=10)\n",
    "t_cv"
   ]
  }
 ],
 "metadata": {
  "kernelspec": {
   "display_name": "Python 3 (ipykernel)",
   "language": "python",
   "name": "python3"
  },
  "language_info": {
   "codemirror_mode": {
    "name": "ipython",
    "version": 3
   },
   "file_extension": ".py",
   "mimetype": "text/x-python",
   "name": "python",
   "nbconvert_exporter": "python",
   "pygments_lexer": "ipython3",
   "version": "3.10.9"
  }
 },
 "nbformat": 4,
 "nbformat_minor": 5
}
