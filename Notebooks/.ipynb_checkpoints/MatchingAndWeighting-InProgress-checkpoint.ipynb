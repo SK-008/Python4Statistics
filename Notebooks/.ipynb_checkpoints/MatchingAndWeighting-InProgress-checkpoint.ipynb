{
 "cells": [
  {
   "cell_type": "code",
   "execution_count": 5,
   "id": "e8001018-e107-4668-890e-4ba549116817",
   "metadata": {
    "tags": []
   },
   "outputs": [
    {
     "name": "stdout",
     "output_type": "stream",
     "text": [
      "          age        income  education_years  treatment        outcome  \\\n",
      "0   55.960570  70990.331549        10.649643          1  152339.853676   \n",
      "1   48.340828  63869.505244        11.710963          1  152799.125155   \n",
      "3   68.276358  40295.948334        11.384077          1  102945.315002   \n",
      "8   44.366307  65743.290730        13.318491          1  141945.021478   \n",
      "11  44.411243  52963.994070        10.474550          1  111423.439722   \n",
      "\n",
      "    propensity_score  \n",
      "0           0.494437  \n",
      "1           0.494995  \n",
      "3           0.496842  \n",
      "8           0.494848  \n",
      "11          0.495849  \n"
     ]
    }
   ],
   "source": [
    "import pandas as pd\n",
    "from sklearn.linear_model import LogisticRegression\n",
    "from sklearn.metrics import log_loss\n",
    "from causalml.match import NearestNeighborMatch\n",
    "\n",
    "df = pd.read_csv('matchandweight.csv')"
   ]
  },
  {
   "cell_type": "code",
   "execution_count": 11,
   "id": "65b82234-030d-4ce8-8eeb-7f250fff4781",
   "metadata": {
    "tags": []
   },
   "outputs": [],
   "source": [
    "model = LogisticRegression()\n",
    "X = df[['age', 'income', 'education_years']]\n",
    "y = df['treatment']\n",
    "\n",
    "model.fit(X, y)\n",
    "data['propensity_score'] = model.predict_proba(X)[:, 1]  #Probability of receiving treatment"
   ]
  },
  {
   "cell_type": "code",
   "execution_count": 13,
   "id": "ef7cce6e-fe08-4199-973d-2f4082387fea",
   "metadata": {
    "tags": []
   },
   "outputs": [
    {
     "name": "stdout",
     "output_type": "stream",
     "text": [
      "          age        income  education_years  treatment        outcome  \\\n",
      "0   55.960570  70990.331549        10.649643          1  152339.853676   \n",
      "1   48.340828  63869.505244        11.710963          1  152799.125155   \n",
      "3   68.276358  40295.948334        11.384077          1  102945.315002   \n",
      "8   44.366307  65743.290730        13.318491          1  141945.021478   \n",
      "11  44.411243  52963.994070        10.474550          1  111423.439722   \n",
      "\n",
      "    propensity_score    weight  \n",
      "0           0.494437  2.022503  \n",
      "1           0.494995  2.020223  \n",
      "3           0.496842  2.012712  \n",
      "8           0.494848  2.020823  \n",
      "11          0.495849  2.016742  \n"
     ]
    }
   ],
   "source": [
    "#Matching based on propensity score\n",
    "nnm = NearestNeighborMatch(replace=True, ratio=1, random_state=1663)\n",
    "matched_data = nnm.match(data=data, treatment_col='treatment', score_cols=['propensity_score'])\n",
    "\n",
    "print(matched_data.head())"
   ]
  },
  {
   "cell_type": "code",
   "execution_count": 15,
   "id": "0490393d-0d82-40b3-9e21-1b79af1c1bf5",
   "metadata": {
    "tags": []
   },
   "outputs": [
    {
     "name": "stdout",
     "output_type": "stream",
     "text": [
      "Estimated ATE using IPTW: 6795.826325286602\n"
     ]
    }
   ],
   "source": [
    "#Calculating the Inverse Probability of Treatment Weight (IPTW)\n",
    "data['weight'] = np.where(data['treatment'] == 1,\n",
    "                          1 / data['propensity_score'],\n",
    "                          1 / (1 - data['propensity_score']))\n",
    "\n",
    "#Using weights to estimate the Average Treatment Effect (ATE)\n",
    "weighted_outcome_treated = np.average(data[data['treatment'] == 1]['outcome'], weights=data[data['treatment'] == 1]['weight'])\n",
    "weighted_outcome_control = np.average(data[data['treatment'] == 0]['outcome'], weights=data[data['treatment'] == 0]['weight'])\n",
    "\n",
    "ate = weighted_outcome_treated - weighted_outcome_control\n",
    "print(f\"Estimated ATE using IPTW: {ate}\")"
   ]
  }
 ],
 "metadata": {
  "kernelspec": {
   "display_name": "Python 3 (ipykernel)",
   "language": "python",
   "name": "python3"
  },
  "language_info": {
   "codemirror_mode": {
    "name": "ipython",
    "version": 3
   },
   "file_extension": ".py",
   "mimetype": "text/x-python",
   "name": "python",
   "nbconvert_exporter": "python",
   "pygments_lexer": "ipython3",
   "version": "3.11.0"
  }
 },
 "nbformat": 4,
 "nbformat_minor": 5
}
