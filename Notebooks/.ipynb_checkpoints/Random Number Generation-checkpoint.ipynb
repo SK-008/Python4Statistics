{
 "cells": [
  {
   "cell_type": "code",
   "execution_count": null,
   "id": "d00bac9c-a378-4b34-95a0-93499dec978b",
   "metadata": {},
   "outputs": [],
   "source": [
    "#Generating Random Data with Numpy\n",
    "#Generate 10 values between zero and 100) from a uniform distribution\n",
    "x = np.random.randint(100, size=(10))\n",
    "print(x)\n",
    "print(type(x)) #Output is in the form of Numpy arrays, not lists\n",
    "\n",
    "#Generate 10 valeus between 50 and 100\n",
    "y = np.random.randint(50, 100, size=(10))\n",
    "print(y)"
   ]
  },
  {
   "cell_type": "code",
   "execution_count": null,
   "id": "5a7e6664-0dc2-4fb3-8771-a913723bd420",
   "metadata": {},
   "outputs": [],
   "source": [
    "#Generate 2 sets of 10 values between 1 and 100\n",
    "x = np.random.randint(100, size=(10,2))\n",
    "print(x)"
   ]
  },
  {
   "cell_type": "code",
   "execution_count": null,
   "id": "5b3a8f64-f9ba-4ecf-b288-f8485cac2d64",
   "metadata": {},
   "outputs": [],
   "source": [
    "#Generating Normally Distributed Random Data\n",
    "# loc = mean, scale = standard deviation, size = sample size (n)\n",
    "n = np.random.normal(loc=0, scale=1, size=(10))\n",
    "print(n)"
   ]
  },
  {
   "cell_type": "code",
   "execution_count": null,
   "id": "b5ba5d98-5684-4694-9959-df991ae2bba7",
   "metadata": {},
   "outputs": [],
   "source": [
    "#For uniform, low = lowest number, high = highest number, size = sample size\n",
    "u = np.random.uniform(low=1, high=100, size=10)\n",
    "print(u)"
   ]
  },
  {
   "cell_type": "code",
   "execution_count": null,
   "id": "7bdfe697-1f5d-4115-b4e4-a5a01f9d4304",
   "metadata": {},
   "outputs": [],
   "source": [
    "#Generating Binomial Distributed Data\n",
    "#For binomial,n = number of trials, p = probability of success for a given trial, size = sample size\n",
    "b = np.random.binomial(n=50, p=0.25, size=10)\n",
    "print(b)"
   ]
  },
  {
   "cell_type": "code",
   "execution_count": null,
   "id": "53bbfde7-bcd6-4134-9ca5-bb82a5f72858",
   "metadata": {},
   "outputs": [],
   "source": [
    "#Generating Poisson Distributed Data\n",
    "#For poisson, lam = rate of occurrance, size = sample size\n",
    "p = np.random.poisson(lam=5, size=10)\n",
    "print(p)"
   ]
  },
  {
   "cell_type": "code",
   "execution_count": null,
   "id": "2ec10055-9644-49f7-986e-b5f664008f42",
   "metadata": {},
   "outputs": [],
   "source": [
    "import seaborn as sns\n",
    "sns.displot(p)\n",
    "sns.displot(b)\n",
    "sns.displot(n)\n",
    "sns.displot(u)"
   ]
  }
 ],
 "metadata": {
  "kernelspec": {
   "display_name": "Python 3 (ipykernel)",
   "language": "python",
   "name": "python3"
  },
  "language_info": {
   "codemirror_mode": {
    "name": "ipython",
    "version": 3
   },
   "file_extension": ".py",
   "mimetype": "text/x-python",
   "name": "python",
   "nbconvert_exporter": "python",
   "pygments_lexer": "ipython3",
   "version": "3.10.9"
  }
 },
 "nbformat": 4,
 "nbformat_minor": 5
}
