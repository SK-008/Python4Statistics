{
 "cells": [
  {
   "cell_type": "markdown",
   "id": "6c5dd0bc-bed0-4108-b65d-00352db1cf83",
   "metadata": {},
   "source": [
    "## Shapiro-Wilk Test For Normality"
   ]
  },
  {
   "cell_type": "code",
   "execution_count": 23,
   "id": "eb2ac485-b2bc-4de8-a458-53009d22828e",
   "metadata": {},
   "outputs": [],
   "source": [
    "import pandas as pd\n",
    "from scipy.stats import shapiro\n",
    "df = pd.read_csv('../data/incomes.csv')"
   ]
  },
  {
   "cell_type": "code",
   "execution_count": 29,
   "id": "8358226a-8df7-48ec-aac0-9ee13951495f",
   "metadata": {},
   "outputs": [
    {
     "name": "stdout",
     "output_type": "stream",
     "text": [
      "The Shapiro-Wilk test statistic is 0.9786182641983032\n",
      "The Shapiro-Wilk test statistic p-value is 0.7585194110870361\n",
      "Data are normal at the 0.95% confidence level.\n"
     ]
    }
   ],
   "source": [
    "#Statistical test for normally distributed residuals - Shapiro-Wilk\n",
    "#HO: Normally distributed data, HA: Non-normally distributed data\n",
    "#If p-value is less than alpha, reject null of normally distributed data\n",
    "shapiro_test = shapiro(df['Income_Normal'])\n",
    "shapiro_stat = shapiro_test[0]\n",
    "shapiro_p = shapiro_test[1]\n",
    "\n",
    "alpha = 0.05\n",
    "\n",
    "print(f'The Shapiro-Wilk test statistic is {shapiro_stat}')\n",
    "print(f'The Shapiro-Wilk test statistic p-value is {shapiro_p}')\n",
    "\n",
    "if shapiro_p < alpha:\n",
    "    print(f'Data are non normal at the {1 - alpha}% confidence level.')\n",
    "else:\n",
    "    print(f'Data are normal at the {1 - alpha}% confidence level.')\n",
    "\n"
   ]
  },
  {
   "cell_type": "code",
   "execution_count": 31,
   "id": "d52e6567-25b1-4437-a791-7c1610ea04d9",
   "metadata": {},
   "outputs": [
    {
     "name": "stdout",
     "output_type": "stream",
     "text": [
      "The Shapiro-Wilk test statistic is 0.9786182641983032\n",
      "The Shapiro-Wilk test statistic p-value is 0.7585194110870361\n",
      "Data are normal at the 0.95% confidence level.\n",
      "0.7585194110870361\n"
     ]
    }
   ],
   "source": [
    "#Statistical test for normally distributed residuals - Shapiro-Wilk\n",
    "#HO: Normally distributed data, HA: Non-normally distributed data\n",
    "#If p-value is less than alpha, reject null of normally distributed data\n",
    "shapiro_test = shapiro(df['Income_Normal'])\n",
    "shapiro_stat = shapiro_test[0]\n",
    "shapiro_p = shapiro_test[1]\n",
    "\n",
    "alpha = 0.05\n",
    "\n",
    "print(f'The Shapiro-Wilk test statistic is {shapiro_stat}')\n",
    "print(f'The Shapiro-Wilk test statistic p-value is {shapiro_p}')\n",
    "\n",
    "if shapiro_p < alpha:\n",
    "    print(f'Data are non normal at the {1 - alpha}% confidence level.')\n",
    "else:\n",
    "    print(f'Data are normal at the {1 - alpha}% confidence level.')\n",
    "    \n",
    "print(shapiro_p)"
   ]
  },
  {
   "cell_type": "code",
   "execution_count": 25,
   "id": "edbb66da-079c-4a08-8794-096085ae2113",
   "metadata": {},
   "outputs": [
    {
     "name": "stdout",
     "output_type": "stream",
     "text": [
      "Data are non normal at the 0.95% confidence level.\n",
      "0.028921006247401237\n"
     ]
    }
   ],
   "source": [
    "#Statistical test for normally distributed residuals - Shapiro-Wilk\n",
    "#HO: Normally distributed data, HA: Non-normally distributed data\n",
    "#If p-value is less than alpha, reject null of normally distributed data\n",
    "shapiro_test = shapiro(df['Income_Uniform'])\n",
    "shapiro_stat = shapiro_test[0]\n",
    "shapiro_p = shapiro_test[1]\n",
    "\n",
    "alpha = 0.05\n",
    "\n",
    "if shapiro_p < alpha:\n",
    "    print(f'Data are non normal at the {1 - alpha}% confidence level.')\n",
    "else:\n",
    "    print(f'Data are normal at the {1 - alpha}% confidence level.')\n",
    "    \n",
    "print(shapiro_p)"
   ]
  }
 ],
 "metadata": {
  "kernelspec": {
   "display_name": "Python 3 (ipykernel)",
   "language": "python",
   "name": "python3"
  },
  "language_info": {
   "codemirror_mode": {
    "name": "ipython",
    "version": 3
   },
   "file_extension": ".py",
   "mimetype": "text/x-python",
   "name": "python",
   "nbconvert_exporter": "python",
   "pygments_lexer": "ipython3",
   "version": "3.11.7"
  }
 },
 "nbformat": 4,
 "nbformat_minor": 5
}
