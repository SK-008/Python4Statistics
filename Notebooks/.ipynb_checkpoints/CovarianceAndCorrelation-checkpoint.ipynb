{
 "cells": [
  {
   "cell_type": "code",
   "execution_count": 25,
   "id": "6d238f67",
   "metadata": {},
   "outputs": [
    {
     "name": "stdout",
     "output_type": "stream",
     "text": [
      "The covariance of the two series is -7.8999999999999995.\n"
     ]
    }
   ],
   "source": [
    "import numpy as np\n",
    "\n",
    "#Covariance\n",
    "\n",
    "series_x = [1, 3, 3, 7, 10]\n",
    "series_y = [8, 4, 2, 2, 1]\n",
    "\n",
    "#Calculate the means of the series\n",
    "mean_x = sum(series_x) / len(series_x)\n",
    "mean_y = sum(series_y) / len(series_y)\n",
    "\n",
    "#Calculate the differences from the means\n",
    "diff_x = [x - mean_x for x in series_x]\n",
    "diff_y = [y - mean_y for y in series_y]\n",
    "\n",
    "#Multiply the differences\n",
    "diffXdiff = np.multiply(diff_x,diff_y)\n",
    "\n",
    "#Sum the products\n",
    "sum_diffXdiff = np.sum(diffXdiff)\n",
    "\n",
    "#Divide by N or n-1\n",
    "covariance = sum_diffXdiff / (len(series_x) - 1)\n",
    "\n",
    "print(f\"The covariance of the two series is {covariance}.\")\n"
   ]
  },
  {
   "cell_type": "code",
   "execution_count": 26,
   "id": "e32d2b5b",
   "metadata": {},
   "outputs": [
    {
     "data": {
      "text/plain": [
       "-0.7785613213856255"
      ]
     },
     "execution_count": 26,
     "metadata": {},
     "output_type": "execute_result"
    }
   ],
   "source": [
    "#Correlation\n",
    "\n",
    "series_x = [1, 3, 3, 7, 10]\n",
    "series_y = [8, 4, 2, 2, 1]\n",
    "\n",
    "#Calculate the means of the series\n",
    "mean_x = sum(series_x) / len(series_x)\n",
    "mean_y = sum(series_y) / len(series_y)\n",
    "\n",
    "#Calculate the differences from the means\n",
    "diff_x = [x - mean_x for x in series_x]\n",
    "diff_y = [y - mean_y for y in series_y]\n",
    "\n",
    "#Multiply the differences\n",
    "diffXdiff = np.multiply(diff_x,diff_y)\n",
    "\n",
    "#Sum the products\n",
    "sum_diffXdiff = np.sum(diffXdiff)\n",
    "\n",
    "#Square the differences\n",
    "diff_x_squared = [x ** 2 for x in diff_x]\n",
    "diff_y_squared = [y ** 2 for y in diff_y]\n",
    "\n",
    "#Sum the squared differences\n",
    "sum_diff_x_squared = np.sum(diff_x_squared)\n",
    "sum_diff_y_squared = np.sum(diff_y_squared)\n",
    "\n",
    "#Multiply the sums\n",
    "sdxsXsdys = sum_diff_x_squared * sum_diff_y_squared\n",
    "\n",
    "#Take the square root of the multiplied sums\n",
    "sqrt_sdxsXsdys = np.sqrt(sdxsXsdys)\n",
    "\n",
    "\n",
    "correlation = sum_diffXdiff / sqrt_sdxsXsdys\n",
    "\n",
    "correlation"
   ]
  }
 ],
 "metadata": {
  "kernelspec": {
   "display_name": "Python 3 (ipykernel)",
   "language": "python",
   "name": "python3"
  },
  "language_info": {
   "codemirror_mode": {
    "name": "ipython",
    "version": 3
   },
   "file_extension": ".py",
   "mimetype": "text/x-python",
   "name": "python",
   "nbconvert_exporter": "python",
   "pygments_lexer": "ipython3",
   "version": "3.10.9"
  }
 },
 "nbformat": 4,
 "nbformat_minor": 5
}
