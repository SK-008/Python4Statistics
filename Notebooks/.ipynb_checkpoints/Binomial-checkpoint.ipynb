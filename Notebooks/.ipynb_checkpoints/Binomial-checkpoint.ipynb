{
 "cells": [
  {
   "cell_type": "markdown",
   "id": "4c9fafbf-9ea1-4a3b-a6ef-6bdacfeecf71",
   "metadata": {},
   "source": [
    "The Binomial Distribution "
   ]
  },
  {
   "cell_type": "code",
   "execution_count": 45,
   "id": "5c4bda68-b820-442d-b91c-382a89670b88",
   "metadata": {},
   "outputs": [
    {
     "data": {
      "text/plain": [
       "120"
      ]
     },
     "execution_count": 45,
     "metadata": {},
     "output_type": "execute_result"
    }
   ],
   "source": [
    "#Factorials\n",
    "#Factorials = n! = Multiply a number by all the integers below it \n",
    "#5! = 5x4x3x2x1 = 120\n",
    "#0! = 1, 1! = 1\n",
    "\n",
    "def factorial(n):\n",
    "    if n == 0 or n == 1:\n",
    "        return 1\n",
    "    else:\n",
    "        result = 1\n",
    "        for i in range(2, n + 1): #n + 1 since range stops before last number\n",
    "            result *= i #inplace multiplication\n",
    "        return result\n",
    "    \n",
    "factorial(5)"
   ]
  },
  {
   "cell_type": "code",
   "execution_count": 46,
   "id": "004872cb-c60a-4f96-b3b8-4ac68baea34a",
   "metadata": {},
   "outputs": [
    {
     "data": {
      "text/plain": [
       "210"
      ]
     },
     "execution_count": 46,
     "metadata": {},
     "output_type": "execute_result"
    }
   ],
   "source": [
    "#Combinations\n",
    "#Combinations = How many sets of k-size can be made out of n-items, if order doesnt matter\n",
    "\n",
    "def combination(n, k):\n",
    "    combinations = factorial(n) / ((factorial(k) * factorial(n - k)))\n",
    "    return int(combinations)\n",
    "\n",
    "combination(10,4)"
   ]
  },
  {
   "cell_type": "code",
   "execution_count": 47,
   "id": "a4fad561-b5c6-47f0-a62a-6e8138e16bba",
   "metadata": {},
   "outputs": [
    {
     "name": "stdout",
     "output_type": "stream",
     "text": [
      "120\n",
      "210\n"
     ]
    }
   ],
   "source": [
    "#Alternatively...\n",
    "import math\n",
    "print(math.factorial(5))\n",
    "print(math.comb(10,4))"
   ]
  },
  {
   "cell_type": "code",
   "execution_count": 48,
   "id": "49597dbc-fdaa-42bc-8eb6-923b13f6359e",
   "metadata": {},
   "outputs": [
    {
     "data": {
      "text/plain": [
       "0.32805"
      ]
     },
     "execution_count": 48,
     "metadata": {},
     "output_type": "execute_result"
    }
   ],
   "source": [
    "def binomial(x,n,pi):\n",
    "    c = combination(n,x)\n",
    "    p = c * (pi**x)*(1-pi)**(n-x)\n",
    "    return p\n",
    "\n",
    "binomial(1,5,0.1)"
   ]
  },
  {
   "cell_type": "code",
   "execution_count": 49,
   "id": "250afe42-30b1-4369-b1b1-31c3dfb3d2b3",
   "metadata": {},
   "outputs": [
    {
     "data": {
      "text/plain": [
       "0.011160261000000003"
      ]
     },
     "execution_count": 49,
     "metadata": {},
     "output_type": "execute_result"
    }
   ],
   "source": [
    "#p(x=4)\n",
    "n = 10\n",
    "x = 4\n",
    "pi = 0.10\n",
    "binomial(x,n,pi)"
   ]
  },
  {
   "cell_type": "code",
   "execution_count": 50,
   "id": "295781df-f36e-4288-af56-c36ac986ddc9",
   "metadata": {},
   "outputs": [
    {
     "name": "stdout",
     "output_type": "stream",
     "text": [
      "[0.3486784401000001, 0.3874204890000001, 0.19371024450000007, 0.05739562800000002, 0.011160261000000003, 0.0014880348000000005, 0.00013778100000000007]\n"
     ]
    }
   ],
   "source": [
    "#Creating a probability distribution\n",
    "successes = [0,1,2,3,4,5,6]\n",
    "pi = 0.1\n",
    "n = 10\n",
    "probs = []\n",
    "\n",
    "for i in successes:\n",
    "    p = binomial(i,n,pi)\n",
    "    probs.append(p)\n",
    "    \n",
    "print(probs)"
   ]
  },
  {
   "cell_type": "code",
   "execution_count": 51,
   "id": "b531c469-89d2-42fc-bbe8-03fd225e4526",
   "metadata": {},
   "outputs": [
    {
     "name": "stdout",
     "output_type": "stream",
     "text": [
      "0.9983650626000002\n"
     ]
    }
   ],
   "source": [
    "#p(x<=4)\n",
    "n = 10\n",
    "x = 4\n",
    "pi = 0.10\n",
    "c = 0\n",
    "\n",
    "for i in range(0,x+1): #x+1 instead of x for <= vs <\n",
    "    c += binomial(i,n,pi)\n",
    "\n",
    "print(c)"
   ]
  },
  {
   "cell_type": "code",
   "execution_count": 52,
   "id": "92c890b8-25bc-4a90-b5c1-0117b39b3405",
   "metadata": {},
   "outputs": [
    {
     "name": "stdout",
     "output_type": "stream",
     "text": [
      "0.9872048016000002\n"
     ]
    }
   ],
   "source": [
    "#p(x<4)\n",
    "n = 10\n",
    "x = 4\n",
    "pi = 0.10\n",
    "c = 0\n",
    "\n",
    "for i in range(0,x): #x instead of x+1 for < vs <=\n",
    "    c += binomial(i,n,pi)\n",
    "\n",
    "print(c)"
   ]
  },
  {
   "cell_type": "code",
   "execution_count": 53,
   "id": "f0eb62c8-9e0a-4298-a233-a1e379fd9e73",
   "metadata": {},
   "outputs": [
    {
     "name": "stdout",
     "output_type": "stream",
     "text": [
      "0.0016349373999997585\n"
     ]
    }
   ],
   "source": [
    "#(x>4)\n",
    "n = 10\n",
    "x = 4\n",
    "pi = 0.10\n",
    "c = 0\n",
    "\n",
    "for i in range(0,x+1):\n",
    "    c += binomial(i,n,pi)\n",
    "    \n",
    "print(1-c)"
   ]
  },
  {
   "cell_type": "code",
   "execution_count": 54,
   "id": "60bb9f4a-cebb-424f-af4a-160461a37b24",
   "metadata": {},
   "outputs": [
    {
     "name": "stdout",
     "output_type": "stream",
     "text": [
      "0.012795198399999763\n"
     ]
    }
   ],
   "source": [
    "#(x>=4)\n",
    "n = 10\n",
    "x = 4\n",
    "pi = 0.10\n",
    "c = 0\n",
    "\n",
    "for i in range(0,x):\n",
    "    c += binomial(i,n,pi)\n",
    "    \n",
    "print(1-c)"
   ]
  }
 ],
 "metadata": {
  "kernelspec": {
   "display_name": "Python 3 (ipykernel)",
   "language": "python",
   "name": "python3"
  },
  "language_info": {
   "codemirror_mode": {
    "name": "ipython",
    "version": 3
   },
   "file_extension": ".py",
   "mimetype": "text/x-python",
   "name": "python",
   "nbconvert_exporter": "python",
   "pygments_lexer": "ipython3",
   "version": "3.10.9"
  }
 },
 "nbformat": 4,
 "nbformat_minor": 5
}
