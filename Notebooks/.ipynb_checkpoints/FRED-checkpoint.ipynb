{
 "cells": [
  {
   "cell_type": "code",
   "execution_count": 2,
   "id": "56010cae",
   "metadata": {
    "scrolled": true
   },
   "outputs": [
    {
     "data": {
      "text/html": [
       "<div>\n",
       "<style scoped>\n",
       "    .dataframe tbody tr th:only-of-type {\n",
       "        vertical-align: middle;\n",
       "    }\n",
       "\n",
       "    .dataframe tbody tr th {\n",
       "        vertical-align: top;\n",
       "    }\n",
       "\n",
       "    .dataframe thead th {\n",
       "        text-align: right;\n",
       "    }\n",
       "</style>\n",
       "<table border=\"1\" class=\"dataframe\">\n",
       "  <thead>\n",
       "    <tr style=\"text-align: right;\">\n",
       "      <th></th>\n",
       "      <th>GDP</th>\n",
       "      <th>UNRATE</th>\n",
       "      <th>CPIAUCSL</th>\n",
       "      <th>FEDFUNDS</th>\n",
       "    </tr>\n",
       "  </thead>\n",
       "  <tbody>\n",
       "    <tr>\n",
       "      <th>2000-01-01</th>\n",
       "      <td>10250.952</td>\n",
       "      <td>4.0</td>\n",
       "      <td>172.192</td>\n",
       "      <td>6.24</td>\n",
       "    </tr>\n",
       "    <tr>\n",
       "      <th>2001-01-01</th>\n",
       "      <td>10581.929</td>\n",
       "      <td>4.7</td>\n",
       "      <td>177.042</td>\n",
       "      <td>3.89</td>\n",
       "    </tr>\n",
       "    <tr>\n",
       "      <th>2002-01-01</th>\n",
       "      <td>10929.108</td>\n",
       "      <td>5.8</td>\n",
       "      <td>179.867</td>\n",
       "      <td>1.67</td>\n",
       "    </tr>\n",
       "    <tr>\n",
       "      <th>2003-01-01</th>\n",
       "      <td>11456.450</td>\n",
       "      <td>6.0</td>\n",
       "      <td>184.000</td>\n",
       "      <td>1.13</td>\n",
       "    </tr>\n",
       "    <tr>\n",
       "      <th>2004-01-01</th>\n",
       "      <td>12217.196</td>\n",
       "      <td>5.5</td>\n",
       "      <td>188.908</td>\n",
       "      <td>1.35</td>\n",
       "    </tr>\n",
       "  </tbody>\n",
       "</table>\n",
       "</div>"
      ],
      "text/plain": [
       "                  GDP  UNRATE  CPIAUCSL  FEDFUNDS\n",
       "2000-01-01  10250.952     4.0   172.192      6.24\n",
       "2001-01-01  10581.929     4.7   177.042      3.89\n",
       "2002-01-01  10929.108     5.8   179.867      1.67\n",
       "2003-01-01  11456.450     6.0   184.000      1.13\n",
       "2004-01-01  12217.196     5.5   188.908      1.35"
      ]
     },
     "execution_count": 2,
     "metadata": {},
     "output_type": "execute_result"
    }
   ],
   "source": [
    "#FRED \n",
    "import pandas as pd\n",
    "import matplotlib.pyplot as plt\n",
    "from fredapi import Fred\n",
    "\n",
    "fred = Fred(api_key='4df2eca0f8e50e893ab9de7a4c006757')\n",
    "\n",
    "series_set = ['GDP','UNRATE','CPIAUCSL','FEDFUNDS']\n",
    "\n",
    "df = pd.DataFrame()\n",
    "\n",
    "for i in series_set:\n",
    "    data = fred.get_series(series_id=i, observation_start='2000-1-1',observation_end='2022-12-31', frequency=\"a\")\n",
    "    df[i] = data\n",
    "    \n",
    "df.head()"
   ]
  },
  {
   "cell_type": "code",
   "execution_count": 3,
   "id": "5982be0d",
   "metadata": {},
   "outputs": [
    {
     "data": {
      "text/plain": [
       "[<matplotlib.lines.Line2D at 0x12f7b7400>]"
      ]
     },
     "execution_count": 3,
     "metadata": {},
     "output_type": "execute_result"
    },
    {
     "data": {
      "image/png": "[encoded data removed]",
      "text/plain": [
       "<Figure size 640x480 with 1 Axes>"
      ]
     },
     "metadata": {},
     "output_type": "display_data"
    }
   ],
   "source": [
    "plt.plot(df['GDP'])"
   ]
  },
  {
   "cell_type": "code",
   "execution_count": 37,
   "id": "95c240b5",
   "metadata": {},
   "outputs": [],
   "source": [
    "#Function to get series \n",
    "#fred.get_series(PARAMETERS-GO-HERE)\n",
    "\n",
    "#Some Paramerters\n",
    "\n",
    "#series_id=\"GDP\" \n",
    "#observation_start=\"1990-01-01\" \n",
    "#observation_end=\"2012-01-01\" \n",
    "#frequency=\"Annual\" \n",
    "#units=\"Billions of Chained 2009 Dollars\" \n",
    "#seasonal_adjustment=\"Not Seasonally Adjusted\" "
   ]
  },
  {
   "cell_type": "code",
   "execution_count": 1,
   "id": "9ad3a179",
   "metadata": {},
   "outputs": [
    {
     "ename": "NameError",
     "evalue": "name 'plt' is not defined",
     "output_type": "error",
     "traceback": [
      "\u001b[0;31m---------------------------------------------------------------------------\u001b[0m",
      "\u001b[0;31mNameError\u001b[0m                                 Traceback (most recent call last)",
      "Cell \u001b[0;32mIn[1], line 1\u001b[0m\n\u001b[0;32m----> 1\u001b[0m fig,axs \u001b[39m=\u001b[39m plt\u001b[39m.\u001b[39msubplots(\u001b[39m2\u001b[39m, \u001b[39m2\u001b[39m, figsize\u001b[39m=\u001b[39m(\u001b[39m10\u001b[39m,\u001b[39m5\u001b[39m))\n\u001b[1;32m      2\u001b[0m fig\u001b[39m.\u001b[39msuptitle(\u001b[39m'\u001b[39m\u001b[39mSelect Indicators of the US Economy 2000-2022\u001b[39m\u001b[39m'\u001b[39m)\n\u001b[1;32m      3\u001b[0m plt\u001b[39m.\u001b[39msubplots_adjust(hspace\u001b[39m=\u001b[39m\u001b[39m0.5\u001b[39m)\n",
      "\u001b[0;31mNameError\u001b[0m: name 'plt' is not defined"
     ]
    }
   ],
   "source": [
    "fig,axs = plt.subplots(2, 2, figsize=(10,5))\n",
    "fig.suptitle('Select Indicators of the US Economy 2000-2022')\n",
    "plt.subplots_adjust(hspace=0.5)\n",
    "\n",
    "axs[0][0].plot(df['GDP'])\n",
    "axs[0][0].set_title(\"Gross Domestic Product\")\n",
    "axs[0][0].set_ylabel(\"Billions of $\")\n",
    "axs[0][0].set_xlabel(\"Year\")\n",
    "\n",
    "axs[0][1].plot(df['UNRATE'])\n",
    "axs[0][1].set_title(\"Unemployment Rate\")\n",
    "axs[0][1].set_ylabel(\"% Unemployed\")\n",
    "axs[0][1].set_xlabel(\"Year\")\n",
    "\n",
    "axs[1][0].plot(df['CPIAUCSL'])\n",
    "axs[1][0].set_title(\"Consumer Price Index\")\n",
    "axs[1][0].set_ylabel(\"CPI Index - Base Year 1984\")\n",
    "axs[1][0].set_xlabel(\"Year\")\n",
    "\n",
    "axs[1][1].plot(df['FEDFUNDS'])\n",
    "axs[1][1].set_title(\"Federal Funds Rate\")\n",
    "axs[1][1].set_ylabel(\"Interest Rate as %\")\n",
    "axs[1][1].set_xlabel(\"Year\")\n"
   ]
  },
  {
   "cell_type": "code",
   "execution_count": null,
   "id": "9cabc597",
   "metadata": {},
   "outputs": [],
   "source": []
  },
  {
   "cell_type": "code",
   "execution_count": null,
   "id": "401aae5a",
   "metadata": {},
   "outputs": [],
   "source": []
  }
 ],
 "metadata": {
  "kernelspec": {
   "display_name": "Python 3 (ipykernel)",
   "language": "python",
   "name": "python3"
  },
  "language_info": {
   "codemirror_mode": {
    "name": "ipython",
    "version": 3
   },
   "file_extension": ".py",
   "mimetype": "text/x-python",
   "name": "python",
   "nbconvert_exporter": "python",
   "pygments_lexer": "ipython3",
   "version": "3.10.9"
  }
 },
 "nbformat": 4,
 "nbformat_minor": 5
}
