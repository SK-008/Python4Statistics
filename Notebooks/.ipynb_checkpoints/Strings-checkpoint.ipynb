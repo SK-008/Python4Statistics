{
 "cells": [
  {
   "cell_type": "code",
   "execution_count": 2,
   "id": "4be4aefc",
   "metadata": {},
   "outputs": [],
   "source": [
    "#Strings\n",
    "#In coding, text is often referred to as a string \n",
    "#Python has lots of useful and easy methods for manipulating text strings"
   ]
  },
  {
   "cell_type": "code",
   "execution_count": 3,
   "id": "f1fa0e7e",
   "metadata": {},
   "outputs": [
    {
     "name": "stdout",
     "output_type": "stream",
     "text": [
      "Hello World\n"
     ]
    }
   ],
   "source": [
    "#Concatenation\n",
    "str1 = \"Hello\"\n",
    "str2 = \"World\"\n",
    "string = str1 + \" \" + str2\n",
    "print(string)"
   ]
  },
  {
   "cell_type": "code",
   "execution_count": 4,
   "id": "5fea7290",
   "metadata": {},
   "outputs": [
    {
     "name": "stdout",
     "output_type": "stream",
     "text": [
      "11\n"
     ]
    }
   ],
   "source": [
    "#String Length\n",
    "length = len(string)\n",
    "print(length)"
   ]
  },
  {
   "cell_type": "code",
   "execution_count": 5,
   "id": "0f74f41b",
   "metadata": {},
   "outputs": [
    {
     "name": "stdout",
     "output_type": "stream",
     "text": [
      "H\n",
      "l\n",
      "d\n",
      "r\n",
      "llo Worl\n"
     ]
    }
   ],
   "source": [
    "#Slicing Strings\n",
    "string = \"Hello World\"\n",
    "\n",
    "#Print the first letter of the string (indexed to zero)\n",
    "c1 = string[0]\n",
    "print(c1)\n",
    "\n",
    "#Print the second letter in the index (the third in the string)\n",
    "c3 = string[2]\n",
    "print(c3)\n",
    "\n",
    "#Print the 10th letter in the index (the 9th in the string)\n",
    "c10 = string[10]\n",
    "print(c10)\n",
    "\n",
    "#Print the third from the last letter in the string\n",
    "cminus3 = string[-3]\n",
    "print(cminus3)\n",
    "\n",
    "#Print the 3rd letter through the 9th letter\n",
    "substring = string[2:10] \n",
    "print(substring)"
   ]
  },
  {
   "cell_type": "code",
   "execution_count": 6,
   "id": "b4a6c801",
   "metadata": {},
   "outputs": [],
   "source": [
    "#Capitalization (or not)\n",
    "uppercase = string.upper()\n",
    "lowercase = string.lower()"
   ]
  },
  {
   "cell_type": "code",
   "execution_count": 7,
   "id": "75fb01cf",
   "metadata": {},
   "outputs": [
    {
     "name": "stdout",
     "output_type": "stream",
     "text": [
      "['Hello World']\n"
     ]
    }
   ],
   "source": [
    "#Splitting / Delimiters\n",
    "split = string.split(\",\")\n",
    "print(split)"
   ]
  },
  {
   "cell_type": "code",
   "execution_count": 8,
   "id": "fd441c1a",
   "metadata": {},
   "outputs": [
    {
     "name": "stdout",
     "output_type": "stream",
     "text": [
      "My name is Robert and I'm 36 years old.\n"
     ]
    }
   ],
   "source": [
    "#Formatting\n",
    "name = \"Robert\"\n",
    "age = \"36\"\n",
    "\n",
    "formatted_string = \"My name is {} and I'm {} years old.\".format(name, age)\n",
    "\n",
    "print(formatted_string)"
   ]
  },
  {
   "cell_type": "code",
   "execution_count": 9,
   "id": "e6e0c3a8",
   "metadata": {
    "scrolled": true
   },
   "outputs": [
    {
     "name": "stdout",
     "output_type": "stream",
     "text": [
      "My name is Robert and I'm 36 years old\n"
     ]
    }
   ],
   "source": [
    "#F String Interpolation\n",
    "name = \"Robert\"\n",
    "age = \"36\"\n",
    "\n",
    "print(f\"My name is {name} and I'm {age} years old\")"
   ]
  },
  {
   "cell_type": "code",
   "execution_count": 10,
   "id": "c6d439d3",
   "metadata": {},
   "outputs": [
    {
     "data": {
      "text/plain": [
       "\"Python is way too easy.  It's so easy I can't believe it!\""
      ]
     },
     "execution_count": 10,
     "metadata": {},
     "output_type": "execute_result"
    }
   ],
   "source": [
    "#Replacing\n",
    "string = \"Python is way too hard.  It's so hard I can't believe it!\"\n",
    "new_string = string.replace(\"hard\", \"easy\")\n",
    "new_string"
   ]
  },
  {
   "cell_type": "code",
   "execution_count": 11,
   "id": "61edbd30",
   "metadata": {},
   "outputs": [
    {
     "name": "stdout",
     "output_type": "stream",
     "text": [
      "4\n",
      "1\n"
     ]
    }
   ],
   "source": [
    "#Counting\n",
    "count = string.count(\"a\")\n",
    "print(count)\n",
    "count2 = string.count(\"lie\")\n",
    "print(count2)"
   ]
  }
 ],
 "metadata": {
  "kernelspec": {
   "display_name": "Python 3 (ipykernel)",
   "language": "python",
   "name": "python3"
  },
  "language_info": {
   "codemirror_mode": {
    "name": "ipython",
    "version": 3
   },
   "file_extension": ".py",
   "mimetype": "text/x-python",
   "name": "python",
   "nbconvert_exporter": "python",
   "pygments_lexer": "ipython3",
   "version": "3.10.9"
  }
 },
 "nbformat": 4,
 "nbformat_minor": 5
}
