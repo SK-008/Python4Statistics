{
 "cells": [
  {
   "cell_type": "code",
   "execution_count": 51,
   "id": "94661586-4fa2-432c-bf13-1ce7dd5bb333",
   "metadata": {
    "tags": []
   },
   "outputs": [],
   "source": [
    "#Web Scraping with BeautifulSoup (and selector gadget)\n",
    "import requests\n",
    "from bs4 import BeautifulSoup\n",
    " \n",
    "r = requests.get('https://www.bommaritochevysouth.com/searchnew.aspx?Year=2024&make=Chevrolet&ModelAndTrim=Equinox')\n",
    "soup = BeautifulSoup(r.content, 'html.parser')\n",
    "#soup"
   ]
  },
  {
   "cell_type": "code",
   "execution_count": 59,
   "id": "781ce175-fca6-4edc-9b98-a34a12cf0688",
   "metadata": {
    "tags": []
   },
   "outputs": [],
   "source": [
    "content = soup.select('.ca-gpc-close-button-primary , .featuredPrice .vehiclePricingHighlightAmount')\n",
    "#content\n",
    "for i in content:\n",
    "    print(i.text)"
   ]
  },
  {
   "cell_type": "code",
   "execution_count": 77,
   "id": "ea36e22c-b650-4314-b6bd-d231f17b5e09",
   "metadata": {
    "tags": []
   },
   "outputs": [
    {
     "name": "stdout",
     "output_type": "stream",
     "text": [
      "$6,751\n",
      "$22,999\n",
      "$6,751\n",
      "$22,999\n",
      "$6,751\n",
      "$22,999\n",
      "$6,751\n",
      "$22,999\n",
      "$6,751\n",
      "$23,039\n",
      "$6,751\n",
      "$23,039\n",
      "$6,751\n",
      "$23,039\n",
      "$6,751\n",
      "$23,039\n",
      "$6,751\n",
      "$23,039\n",
      "$6,751\n",
      "$23,039\n",
      "$6,751\n",
      "$23,039\n",
      "$6,751\n",
      "$23,039\n",
      "$6,751\n",
      "$23,039\n",
      "$6,751\n",
      "$23,039\n",
      "$6,751\n",
      "$23,039\n",
      "$6,751\n",
      "$23,039\n",
      "$6,751\n",
      "$23,319\n",
      "$6,751\n",
      "$23,319\n",
      "$6,751\n",
      "$23,319\n",
      "$6,751\n",
      "$23,319\n",
      "$6,751\n",
      "$23,319\n",
      "$6,751\n",
      "$23,319\n",
      "$6,751\n",
      "$23,319\n",
      "$6,751\n",
      "$23,319\n",
      "$6,751\n",
      "$23,664\n",
      "$6,751\n",
      "$23,664\n",
      "$6,751\n",
      "$23,664\n",
      "$6,751\n",
      "$23,664\n",
      "$6,751\n",
      "$23,664\n",
      "$6,751\n",
      "$23,664\n",
      "$6,751\n",
      "$23,664\n",
      "$6,751\n",
      "$23,664\n",
      "$6,751\n",
      "$23,664\n",
      "$6,751\n",
      "$23,664\n",
      "$6,751\n",
      "$23,664\n",
      "$6,751\n",
      "$23,664\n",
      "$6,751\n",
      "$23,664\n",
      "$6,751\n",
      "$23,664\n",
      "$6,751\n",
      "$23,664\n",
      "$6,751\n",
      "$23,664\n",
      "$6,751\n",
      "$23,664\n",
      "$6,751\n",
      "$23,664\n",
      "$6,751\n",
      "$23,664\n",
      "$6,751\n",
      "$23,664\n",
      "$6,751\n",
      "$23,664\n",
      "$6,751\n",
      "$23,664\n",
      "$6,751\n",
      "$23,664\n",
      "$6,751\n",
      "$23,664\n"
     ]
    }
   ],
   "source": [
    "content2 = soup.select(\".vehiclePricingHighlightAmount\")\n",
    "#content2\n",
    "for i in content2:\n",
    "    print(i.text)"
   ]
  }
 ],
 "metadata": {
  "kernelspec": {
   "display_name": "Python 3 (ipykernel)",
   "language": "python",
   "name": "python3"
  },
  "language_info": {
   "codemirror_mode": {
    "name": "ipython",
    "version": 3
   },
   "file_extension": ".py",
   "mimetype": "text/x-python",
   "name": "python",
   "nbconvert_exporter": "python",
   "pygments_lexer": "ipython3",
   "version": "3.11.0"
  }
 },
 "nbformat": 4,
 "nbformat_minor": 5
}
