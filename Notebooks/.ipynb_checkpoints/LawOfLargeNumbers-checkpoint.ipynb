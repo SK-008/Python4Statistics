{
 "cells": [
  {
   "cell_type": "code",
   "execution_count": 1,
   "id": "7ade8af3",
   "metadata": {},
   "outputs": [
    {
     "name": "stdout",
     "output_type": "stream",
     "text": [
      "100.12497813005592\n"
     ]
    }
   ],
   "source": [
    "#The \"Law of Large Numbers\" shows us that the larger our sample is, relative to the population, the closer our sample mean will be to the population mean / expected value\n",
    "\n",
    "import numpy as np\n",
    "import matplotlib.pyplot as plt\n",
    "\n",
    "#Generate normally distributed data\n",
    "mean = 100\n",
    "std_dev = 25\n",
    "size = 10000\n",
    "data = np.random.normal(mean, std_dev, size)\n",
    "population_mean = np.mean(data)\n",
    "print(population_mean)"
   ]
  },
  {
   "cell_type": "code",
   "execution_count": 2,
   "id": "751c57f7",
   "metadata": {},
   "outputs": [
    {
     "name": "stdout",
     "output_type": "stream",
     "text": [
      "The sample mean is 93.56004321314654\n",
      "\n",
      "The difference between the population and sample mean is 6.56493491690938 when the sample size is 10 \n",
      "\n",
      "The sample mean is 98.86300181249675\n",
      "\n",
      "The difference between the population and sample mean is 1.2619763175591743 when the sample size is 50 \n",
      "\n",
      "The sample mean is 99.41955078688045\n",
      "\n",
      "The difference between the population and sample mean is 0.7054273431754723 when the sample size is 100 \n",
      "\n",
      "The sample mean is 98.57673654324786\n",
      "\n",
      "The difference between the population and sample mean is 1.5482415868080608 when the sample size is 250 \n",
      "\n",
      "The sample mean is 100.59161330083253\n",
      "\n",
      "The difference between the population and sample mean is 0.46663517077661254 when the sample size is 500 \n",
      "\n",
      "The sample mean is 98.62643479233938\n",
      "\n",
      "The difference between the population and sample mean is 1.4985433377165407 when the sample size is 750 \n",
      "\n",
      "The sample mean is 100.169171463299\n",
      "\n",
      "The difference between the population and sample mean is 0.044193333243072175 when the sample size is 999 \n",
      "\n",
      "The sample mean is 98.97630314169194\n",
      "\n",
      "The difference between the population and sample mean is 1.1486749883639789 when the sample size is 2500 \n",
      "\n",
      "The sample mean is 100.61325953854221\n",
      "\n",
      "The difference between the population and sample mean is 0.4882814084862872 when the sample size is 5000 \n",
      "\n",
      "The sample mean is 100.2743256597881\n",
      "\n",
      "The difference between the population and sample mean is 0.14934752973218224 when the sample size is 7500 \n",
      "\n",
      "The sample mean is 100.0849362314526\n",
      "\n",
      "The difference between the population and sample mean is 0.04004189860332019 when the sample size is 9000 \n",
      "\n",
      "The sample mean is 99.95095795840837\n",
      "\n",
      "The difference between the population and sample mean is 0.17402017164755534 when the sample size is 9999 \n",
      "\n"
     ]
    }
   ],
   "source": [
    "#Sample the data\n",
    "sample_sizes = [10, 50, 100, 250, 500, 750, 999, 2500 ,5000, 7500, 9000, 9999]\n",
    "#Create empty lists to store calculations\n",
    "means = []\n",
    "differences = []\n",
    "\n",
    "#Loop through the sample_sizes list and take a sample of each size\n",
    "#Calculate the mean of each sample, then append it to the means list\n",
    "#Calculate how far the each sample mean is from the population mean, then append it to the differences list\n",
    "for i in sample_sizes:\n",
    "    sample = np.random.choice(data, size=i)\n",
    "    mean = np.mean(sample)\n",
    "    print(f\"The sample mean is {mean}\\n\")\n",
    "    means.append(mean)\n",
    "    dif = abs(population_mean - mean)\n",
    "    print(f\"The difference between the population and sample mean is {dif} when the sample size is {i} \\n\")\n",
    "    differences.append(dif)"
   ]
  },
  {
   "cell_type": "code",
   "execution_count": 3,
   "id": "2f504b11",
   "metadata": {},
   "outputs": [
    {
     "name": "stdout",
     "output_type": "stream",
     "text": [
      "[(10, 6.56493491690938), (50, 1.2619763175591743), (100, 0.7054273431754723), (250, 1.5482415868080608), (500, 0.46663517077661254), (750, 1.4985433377165407), (999, 0.044193333243072175), (2500, 1.1486749883639789), (5000, 0.4882814084862872), (7500, 0.14934752973218224), (9000, 0.04004189860332019), (9999, 0.17402017164755534)]\n"
     ]
    }
   ],
   "source": [
    "#Zip the two lists into a \"Zip object\"\n",
    "sizes_and_diffs_zip = zip(sample_sizes, differences) \n",
    "#Convert the \"Zip object\" into a list of tuples, pairs of size and corresponding differences\n",
    "sizes_and_diffs_list = list(sizes_and_diffs_zip)\n",
    "print(sizes_and_diffs_list)"
   ]
  },
  {
   "cell_type": "code",
   "execution_count": 4,
   "id": "7f0b7a26",
   "metadata": {},
   "outputs": [
    {
     "data": {
      "image/png": "[encoded data removed]",
      "text/plain": [
       "<Figure size 640x480 with 1 Axes>"
      ]
     },
     "metadata": {},
     "output_type": "display_data"
    }
   ],
   "source": [
    "#Plot the sample size vs the error (estimated mean vs actual)\n",
    "plt.scatter(sample_sizes, differences)\n",
    "plt.plot(sample_sizes, differences, '-', color='red', label='Line')\n",
    "plt.title('Sample Size vs Error')\n",
    "plt.show()"
   ]
  },
  {
   "cell_type": "code",
   "execution_count": null,
   "id": "2cd679de-cf9f-4234-8d78-06e8f671277b",
   "metadata": {},
   "outputs": [],
   "source": []
  }
 ],
 "metadata": {
  "kernelspec": {
   "display_name": "Python 3 (ipykernel)",
   "language": "python",
   "name": "python3"
  },
  "language_info": {
   "codemirror_mode": {
    "name": "ipython",
    "version": 3
   },
   "file_extension": ".py",
   "mimetype": "text/x-python",
   "name": "python",
   "nbconvert_exporter": "python",
   "pygments_lexer": "ipython3",
   "version": "3.10.9"
  }
 },
 "nbformat": 4,
 "nbformat_minor": 5
}
