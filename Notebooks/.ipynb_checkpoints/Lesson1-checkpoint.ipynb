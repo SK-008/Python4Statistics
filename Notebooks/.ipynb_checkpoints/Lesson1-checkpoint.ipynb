{
 "cells": [
  {
   "cell_type": "code",
   "execution_count": 18,
   "id": "5b68dace-0769-453b-a1c2-5379017309db",
   "metadata": {},
   "outputs": [],
   "source": [
    "#Lesson 1\n",
    "#Intro to Python and Descriptive Statistics"
   ]
  },
  {
   "cell_type": "code",
   "execution_count": 19,
   "id": "6fed8e0b-c475-4ee0-aec0-37bfc0425900",
   "metadata": {},
   "outputs": [],
   "source": [
    "#The pound sign is used to write comments \n",
    "#Write comments in your code so you and others can understand it"
   ]
  },
  {
   "cell_type": "code",
   "execution_count": 20,
   "id": "7995398c-52d1-476b-a804-ab1563bfb453",
   "metadata": {},
   "outputs": [
    {
     "name": "stdout",
     "output_type": "stream",
     "text": [
      "Hi everyone!\n"
     ]
    }
   ],
   "source": [
    "#Priting to console\n",
    "print(\"Hi everyone!\")"
   ]
  },
  {
   "cell_type": "code",
   "execution_count": 21,
   "id": "4ab661a4-2d35-4d2a-a2b5-bf8785a2dba8",
   "metadata": {},
   "outputs": [
    {
     "name": "stdout",
     "output_type": "stream",
     "text": [
      "579\n",
      "-333\n",
      "56088\n",
      "0.26973684210526316\n"
     ]
    }
   ],
   "source": [
    "#Basic Arithmatic\n",
    "print(123 + 456)\n",
    "print(123 - 456)\n",
    "print(123 * 456)\n",
    "print(123 / 456)"
   ]
  },
  {
   "cell_type": "code",
   "execution_count": 22,
   "id": "2d24528a-1b6c-4a45-bf68-03db442b58c1",
   "metadata": {},
   "outputs": [
    {
     "name": "stdout",
     "output_type": "stream",
     "text": [
      "<class 'int'>\n",
      "<class 'str'>\n",
      "<class 'str'>\n",
      "<class 'bool'>\n",
      "<class 'str'>\n"
     ]
    }
   ],
   "source": [
    "#Basic Data Types\n",
    "print(type(1))\n",
    "print(type('a'))\n",
    "print(type('1'))\n",
    "print(type(True))\n",
    "print(type('True'))"
   ]
  },
  {
   "cell_type": "code",
   "execution_count": 23,
   "id": "2f910e2a-cf2b-4cee-9d88-8f3b53dc5389",
   "metadata": {},
   "outputs": [
    {
     "name": "stdout",
     "output_type": "stream",
     "text": [
      "me\n",
      "2.0\n"
     ]
    }
   ],
   "source": [
    "#Variables\n",
    "teacher = \"me\"\n",
    "print(teacher)\n",
    "\n",
    "x = 5\n",
    "y = 10\n",
    "print(y / x)"
   ]
  },
  {
   "cell_type": "code",
   "execution_count": 24,
   "id": "ce4cb2ab-57d8-4491-8ea2-d1d82135e622",
   "metadata": {},
   "outputs": [
    {
     "name": "stdout",
     "output_type": "stream",
     "text": [
      "[1, 2, 3, 4, 5, 6, 7]\n",
      "1\n",
      "2\n",
      "7\n",
      "[1, 2, 3]\n",
      "[3, 4, 5, 6, 7]\n",
      "[3, 4]\n"
     ]
    }
   ],
   "source": [
    "#Lists \n",
    "example_list = [1, 2, 3, 4, 5, 6, 7]\n",
    "print(example_list)\n",
    "\n",
    "#Slicing Lists\n",
    "#Lists are indexed starting at 0, meaning the first item in a list is item #0, not item #1\n",
    "#The end point for a slice is not included in the returned list\n",
    "\n",
    "print(example_list[0]) #Selects first item in list\n",
    "print(example_list[1]) #Selects second number in list\n",
    "print(example_list[-1]) #Selects last item in list\n",
    "print(example_list[:3])  #Ends prior to 3rd place\n",
    "print(example_list[2:])  #Starts at 3rd place \n",
    "print(example_list[2:4]) #Starts at 3rd place and ends before 5"
   ]
  },
  {
   "cell_type": "code",
   "execution_count": 25,
   "id": "429f5c29-aa20-4a6d-96a1-18fd006e9b90",
   "metadata": {},
   "outputs": [
    {
     "name": "stdout",
     "output_type": "stream",
     "text": [
      "2\n"
     ]
    }
   ],
   "source": [
    "#Dictionaries\n",
    "example_dictionary = {'a':1, 'b':2, 'c':3}\n",
    "print(example_dictionary['b'])"
   ]
  },
  {
   "cell_type": "code",
   "execution_count": 26,
   "id": "353b5897-dad5-41f5-870a-90db85ea7ad4",
   "metadata": {},
   "outputs": [
    {
     "name": "stdout",
     "output_type": "stream",
     "text": [
      "You sure put's the FUN in FUNction\n"
     ]
    }
   ],
   "source": [
    "#Creating functions\n",
    "#Declare that you're creating a function, give it a name, followed by \"():\"\n",
    "def myfunction():\n",
    "#Give your function something to do.  Also, be sure to indent.\n",
    "    print(\"You sure put's the FUN in FUNction\")\n",
    "#Call your function by typing its name\n",
    "myfunction()"
   ]
  },
  {
   "cell_type": "code",
   "execution_count": 27,
   "id": "2dfe5d35-2d63-41f4-ae36-93404b2fa9e6",
   "metadata": {},
   "outputs": [
    {
     "name": "stdout",
     "output_type": "stream",
     "text": [
      "Hi Bob\n"
     ]
    }
   ],
   "source": [
    "#Creating functions with arguments / parameters\n",
    "def my2ndfunction(name):\n",
    "    print(\"Hi \" + name)\n",
    "\n",
    "my2ndfunction(\"Bob\")\n"
   ]
  },
  {
   "cell_type": "code",
   "execution_count": 28,
   "id": "83aa1aad-2eb2-4bf5-a4f0-25b06dcd6271",
   "metadata": {},
   "outputs": [
    {
     "name": "stdout",
     "output_type": "stream",
     "text": [
      "7\n",
      "3\n"
     ]
    }
   ],
   "source": [
    "#Use \"return\" at the end of your function to pass data back to your script / environment\n",
    "def my3rdfunction(x,y):\n",
    "    return x + y\n",
    "\n",
    "x = my3rdfunction(3, 4)\n",
    "y = my3rdfunction(1, 2)\n",
    "print(x)\n",
    "print(y)"
   ]
  },
  {
   "cell_type": "code",
   "execution_count": 31,
   "id": "f38807db-cfdb-436a-87af-c2126a4f4959",
   "metadata": {},
   "outputs": [
    {
     "name": "stdout",
     "output_type": "stream",
     "text": [
      "Hi Bob. You're awesome!\n"
     ]
    }
   ],
   "source": [
    "#\"F string interpolation\" \n",
    "status = \"awesome\"\n",
    "def my4thfunction(name):\n",
    "    print(f\"Hi {name}. You're {status}!\")\n",
    "\n",
    "my4thfunction(\"Bob\")"
   ]
  },
  {
   "cell_type": "code",
   "execution_count": 3,
   "id": "0ec398f0-3970-4edf-b661-8870682d753e",
   "metadata": {},
   "outputs": [
    {
     "name": "stdout",
     "output_type": "stream",
     "text": [
      "1\n",
      "4\n",
      "9\n",
      "16\n",
      "25\n",
      "36\n",
      "49\n"
     ]
    }
   ],
   "source": [
    "#For loops\n",
    "list = [1, 2, 3, 4, 5, 6, 7]\n",
    "\n",
    "for whatever in list:\n",
    "    whatever = whatever ** 2\n",
    "    print(whatever)\n"
   ]
  },
  {
   "cell_type": "code",
   "execution_count": 32,
   "id": "fd906518-a109-46da-8fdf-befb37ab9408",
   "metadata": {},
   "outputs": [
    {
     "name": "stdout",
     "output_type": "stream",
     "text": [
      "[0, 1, 2, 3, 4]\n",
      "[1, 2, 3, 4]\n",
      "[1, 3, 5, 7, 9]\n"
     ]
    }
   ],
   "source": [
    "#Range\n",
    "#range(start, stop, step)\n",
    "#start is first number (optional, otherwise zero), stop is index point at which to stop (not including that number), step (optional) is the incrment\n",
    "\n",
    "#Create empty lists\n",
    "a = []\n",
    "b = []\n",
    "c = []\n",
    "\n",
    "#Loop through the range and add each number to a list using append\n",
    "for x in range(5):\n",
    "    a.append(x)\n",
    "\n",
    "for x in range(1,5):\n",
    "    b.append(x)\n",
    "\n",
    "for x in range(1,10,2):\n",
    "    c.append(x)\n",
    "\n",
    "print(a)\n",
    "print(b)\n",
    "print(c)"
   ]
  },
  {
   "cell_type": "code",
   "execution_count": 33,
   "id": "af99c2e0-32f2-47c4-b33b-b3b518a40946",
   "metadata": {},
   "outputs": [
    {
     "name": "stdout",
     "output_type": "stream",
     "text": [
      "[2, 6, 12, 20]\n"
     ]
    }
   ],
   "source": [
    "#Multiplying two lists with a loop\n",
    "a = [1,2,3,4]\n",
    "b = [2,3,4,5]\n",
    "#Create empty list\n",
    "aXb = []  \n",
    "\n",
    "for i in range(0, len(a)):\n",
    "    c = a[i] * b[i]\n",
    "    aXb.append(c)    #Append adds values to a list\n",
    "    \n",
    "print(aXb)"
   ]
  },
  {
   "cell_type": "code",
   "execution_count": 34,
   "id": "a817a9cb",
   "metadata": {},
   "outputs": [
    {
     "name": "stdout",
     "output_type": "stream",
     "text": [
      "0\n",
      "1\n",
      "2\n",
      "3\n",
      "4\n",
      "5\n",
      "6\n",
      "7\n",
      "8\n",
      "9\n",
      "10\n",
      "11\n",
      "12\n",
      "13\n",
      "14\n",
      "15\n",
      "16\n",
      "17\n",
      "18\n",
      "19\n"
     ]
    }
   ],
   "source": [
    "#While loops\n",
    "x=0\n",
    "\n",
    "while x<20:\n",
    "    print(x)\n",
    "    x += 1\n",
    "    "
   ]
  },
  {
   "cell_type": "code",
   "execution_count": 35,
   "id": "748c0c98-040a-42e4-97d2-7b8dc956fb92",
   "metadata": {},
   "outputs": [
    {
     "name": "stdout",
     "output_type": "stream",
     "text": [
      "1 2 3 4 5 6 7 8 9 10 11 12 2 4 6 8 10 12 14 16 18 20 22 24 3 6 9 12 15 18 21 24 27 30 33 36 4 8 12 16 20 24 28 32 36 40 44 48 5 10 15 20 25 30 35 40 45 50 55 60 6 12 18 24 30 36 42 48 54 60 66 72 7 14 21 28 35 42 49 56 63 70 77 84 8 16 24 32 40 48 56 64 72 80 88 96 9 18 27 36 45 54 63 72 81 90 99 108 10 20 30 40 50 60 70 80 90 100 110 120 11 22 33 44 55 66 77 88 99 110 121 132 12 24 36 48 60 72 84 96 108 120 132 144 "
     ]
    }
   ],
   "source": [
    "#Multiplication tables\n",
    "for i in range(1, 13):\n",
    "    # nested loop\n",
    "    # to iterate from 1 to 10\n",
    "    for j in range(1, 13):\n",
    "        # print multiplication\n",
    "        print(i * j, end=' ') #The end argument prevents this from printing each number to a new line"
   ]
  },
  {
   "cell_type": "code",
   "execution_count": 36,
   "id": "057d6a4c-7297-4dfc-a968-9d3cca3dfa5e",
   "metadata": {},
   "outputs": [
    {
     "name": "stdout",
     "output_type": "stream",
     "text": [
      "2 4 6 8 10 12 14 4 8 12 16 20 24 28 6 12 18 24 30 36 42 8 16 24 32 40 48 56 10 20 30 40 50 60 70 12 24 36 48 60 72 84 14 28 42 56 70 84 98 "
     ]
    }
   ],
   "source": [
    "list1 = [1, 2, 3, 4, 5, 6, 7]\n",
    "list2 = [2, 4, 6, 8, 10, 12, 14]\n",
    "\n",
    "\n",
    "#What will this do?!?k\n",
    "for x in list1:\n",
    "    for y in list2:\n",
    "        print(x * y, end=\" \") "
   ]
  },
  {
   "cell_type": "code",
   "execution_count": 37,
   "id": "7383379a-6e00-4b63-9d99-03db3770f0a0",
   "metadata": {},
   "outputs": [
    {
     "name": "stdout",
     "output_type": "stream",
     "text": [
      "X is not greater than 4\n"
     ]
    }
   ],
   "source": [
    "#Control flow\n",
    "x = 4\n",
    "\n",
    "#If / else control flow\n",
    "if x > 4:\n",
    "    print(\"X is greater than 4\")\n",
    "else:\n",
    "    print(\"X is not greater than 4\")\n"
   ]
  },
  {
   "cell_type": "code",
   "execution_count": 38,
   "id": "206932b9-4f7d-4781-a46d-3aacde57fb07",
   "metadata": {},
   "outputs": [
    {
     "name": "stdout",
     "output_type": "stream",
     "text": [
      "x must be four if it isn't greater or less\n"
     ]
    }
   ],
   "source": [
    "#If / elif / else control flow\n",
    "if x > 4:\n",
    "    print(\"X is greater than 4\")\n",
    "elif x < 4:\n",
    "    print(\"X is less than 4\")\n",
    "else: \n",
    "    print(\"x must be four if it isn't greater or less\")"
   ]
  },
  {
   "cell_type": "code",
   "execution_count": 39,
   "id": "382ad25c-370d-47f3-a9fe-c4921007a558",
   "metadata": {},
   "outputs": [],
   "source": [
    "#Length with len()\n",
    "v = [4, 2, 6, 11, 9, 3, 8]\n",
    "n = len(v)"
   ]
  },
  {
   "cell_type": "code",
   "execution_count": 40,
   "id": "706c5126-b972-4d59-9574-786383ee44b7",
   "metadata": {},
   "outputs": [
    {
     "name": "stdout",
     "output_type": "stream",
     "text": [
      "[2, 3, 4, 6, 8, 9, 11]\n"
     ]
    }
   ],
   "source": [
    "#The sorted() function returns a list sorted from lowest to highest value\n",
    "s = sorted(v)\n",
    "print(s)"
   ]
  },
  {
   "cell_type": "code",
   "execution_count": 41,
   "id": "81ed89ce-35e2-4d6d-8cb5-20d7dd32ef80",
   "metadata": {},
   "outputs": [],
   "source": [
    "#Function to calculate mean\n",
    "def calculate_mean(values):\n",
    "    return sum(values) / len(values) #the sum function takes the sum..."
   ]
  },
  {
   "cell_type": "code",
   "execution_count": 42,
   "id": "04ee10de-7e1d-4bd1-b662-1ceaf1290c55",
   "metadata": {},
   "outputs": [
    {
     "name": "stdout",
     "output_type": "stream",
     "text": [
      "2\n",
      "0\n"
     ]
    }
   ],
   "source": [
    "#The modulus, %, returns the remainder after division  \n",
    "print(26 % 4) # 4 goes into 26 6 whole times with a remainder of two (6x4=24+2=26)\n",
    "print(12 % 4) # 4 goes into 12 3 whole times, with 0 remainder "
   ]
  },
  {
   "cell_type": "code",
   "execution_count": 43,
   "id": "6b74f303-d680-45dd-9827-075a6aa21eae",
   "metadata": {},
   "outputs": [
    {
     "name": "stdout",
     "output_type": "stream",
     "text": [
      "0\n",
      "1\n"
     ]
    }
   ],
   "source": [
    "#If the series is even numbered, lenght % 2 = 0, if odd numbered length % 2 = 1\n",
    "n = 4\n",
    "print(n % 2)\n",
    "print((n + 1) % 2)"
   ]
  },
  {
   "cell_type": "code",
   "execution_count": 44,
   "id": "68970c7b-faee-4739-8bce-4771d3233c31",
   "metadata": {},
   "outputs": [
    {
     "data": {
      "text/plain": [
       "3"
      ]
     },
     "execution_count": 44,
     "metadata": {},
     "output_type": "execute_result"
    }
   ],
   "source": [
    "#Function to calculate median\n",
    "def calculate_median(values):\n",
    "    sorted_values = sorted(values)\n",
    "    n = len(sorted_values)\n",
    "    if n % 2 == 1:\n",
    "        return int(sorted_values[n//2]) #int gets rid of floating point decimal\n",
    "    else:\n",
    "        return int((sorted_values[n//2 - 1] + sorted_values[n//2]) / 2) #the \"n//2\" is using \"floor division\"\n",
    "\n",
    "even = [1, 2, 3, 8, 3, 4, 1, 6]\n",
    "calculate_median(even)"
   ]
  },
  {
   "cell_type": "code",
   "execution_count": 45,
   "id": "2d28d37f-2d47-4492-8f1b-0529ff49955d",
   "metadata": {},
   "outputs": [
    {
     "data": {
      "text/plain": [
       "5"
      ]
     },
     "execution_count": 45,
     "metadata": {},
     "output_type": "execute_result"
    }
   ],
   "source": [
    "odd = [1, 4, 5, 6, 8]\n",
    "calculate_median(odd)"
   ]
  },
  {
   "cell_type": "code",
   "execution_count": 46,
   "id": "9c23fe7c-cd6d-44b7-bf87-bd301547bf1f",
   "metadata": {},
   "outputs": [
    {
     "data": {
      "text/plain": [
       "[2, 4]"
      ]
     },
     "execution_count": 46,
     "metadata": {},
     "output_type": "execute_result"
    }
   ],
   "source": [
    "#Function to calculate mode\n",
    "def calculate_mode(values):\n",
    "    counts = {}\n",
    "    for num in values:\n",
    "        if num in counts:\n",
    "            counts[num] += 1\n",
    "        else:\n",
    "            counts[num] = 1\n",
    "            \n",
    "    max_count = max(counts.values())\n",
    "\n",
    "    modes = []\n",
    "    for num, count in counts.items():\n",
    "        if count == max_count:\n",
    "            modes.append(num)\n",
    "\n",
    "    return modes\n",
    "\n",
    "values = [1, 2, 3, 2, 4, 4, 5]\n",
    "calculate_mode(values)"
   ]
  },
  {
   "cell_type": "code",
   "execution_count": 47,
   "id": "00f80b82-aab5-4c22-a5b0-87c1f07757c9",
   "metadata": {},
   "outputs": [
    {
     "data": {
      "text/plain": [
       "5"
      ]
     },
     "execution_count": 47,
     "metadata": {},
     "output_type": "execute_result"
    }
   ],
   "source": [
    "#Function to calculate range\n",
    "def calculate_range(values):\n",
    "    return max(values) - min(values)\n",
    "\n",
    "x = [1, 2, 3, 3, 4, 5, 6]\n",
    "calculate_range(x)"
   ]
  },
  {
   "cell_type": "code",
   "execution_count": 48,
   "id": "aa5e4fce-597b-45ed-be3b-36d8641d3e60",
   "metadata": {},
   "outputs": [
    {
     "data": {
      "text/plain": [
       "2.9523809523809526"
      ]
     },
     "execution_count": 48,
     "metadata": {},
     "output_type": "execute_result"
    }
   ],
   "source": [
    "#Function to calculate variance\n",
    "\n",
    "def calculate_variance(values, sORp):\n",
    "    mean = calculate_mean(values)\n",
    "    ssd = 0 #sum of squarred differences\n",
    "    \n",
    "    for value in values:\n",
    "        x = value - mean\n",
    "        y = x**2\n",
    "        ssd += y\n",
    "    \n",
    "    if sORp == \"p\":\n",
    "        variance = ssd / len(values)\n",
    "    elif sORp == \"s\":\n",
    "        variance = ssd / (len(values)-1)\n",
    "        \n",
    "    return variance\n",
    "    \n",
    "    \n",
    "\n",
    "x = [1, 2, 3, 3, 4, 5, 6]\n",
    "calculate_variance(x, \"s\")"
   ]
  },
  {
   "cell_type": "code",
   "execution_count": 49,
   "id": "1eeb2deb-23ea-4da0-801b-60ff3b30065d",
   "metadata": {
    "collapsed": true,
    "jupyter": {
     "outputs_hidden": true
    },
    "tags": []
   },
   "outputs": [
    {
     "ename": "PermissionError",
     "evalue": "[Errno 1] Operation not permitted",
     "output_type": "error",
     "traceback": [
      "\u001b[0;31m---------------------------------------------------------------------------\u001b[0m",
      "\u001b[0;31mPermissionError\u001b[0m                           Traceback (most recent call last)",
      "Cell \u001b[0;32mIn[49], line 2\u001b[0m\n\u001b[1;32m      1\u001b[0m \u001b[38;5;66;03m#Import Numpy so we can use the square root funciton to calculate standard deviation\u001b[39;00m\n\u001b[0;32m----> 2\u001b[0m \u001b[38;5;28;01mimport\u001b[39;00m \u001b[38;5;21;01mnumpy\u001b[39;00m \u001b[38;5;28;01mas\u001b[39;00m \u001b[38;5;21;01mnp\u001b[39;00m\n\u001b[1;32m      3\u001b[0m \u001b[38;5;66;03m#Function to calculate standard deviation\u001b[39;00m\n\u001b[1;32m      4\u001b[0m \u001b[38;5;28;01mdef\u001b[39;00m \u001b[38;5;21mcalculate_stdev\u001b[39m(values):\n",
      "File \u001b[0;32m<frozen importlib._bootstrap>:1027\u001b[0m, in \u001b[0;36m_find_and_load\u001b[0;34m(name, import_)\u001b[0m\n",
      "File \u001b[0;32m<frozen importlib._bootstrap>:1002\u001b[0m, in \u001b[0;36m_find_and_load_unlocked\u001b[0;34m(name, import_)\u001b[0m\n",
      "File \u001b[0;32m<frozen importlib._bootstrap>:945\u001b[0m, in \u001b[0;36m_find_spec\u001b[0;34m(name, path, target)\u001b[0m\n",
      "File \u001b[0;32m<frozen importlib._bootstrap_external>:1439\u001b[0m, in \u001b[0;36mfind_spec\u001b[0;34m(cls, fullname, path, target)\u001b[0m\n",
      "File \u001b[0;32m<frozen importlib._bootstrap_external>:1408\u001b[0m, in \u001b[0;36m_get_spec\u001b[0;34m(cls, fullname, path, target)\u001b[0m\n",
      "File \u001b[0;32m<frozen importlib._bootstrap_external>:1366\u001b[0m, in \u001b[0;36m_path_importer_cache\u001b[0;34m(cls, path)\u001b[0m\n",
      "\u001b[0;31mPermissionError\u001b[0m: [Errno 1] Operation not permitted"
     ]
    }
   ],
   "source": [
    "#Import Numpy so we can use the square root funciton to calculate standard deviation\n",
    "import numpy as np\n",
    "#Function to calculate standard deviation\n",
    "def calculate_stdev(values):\n",
    "    return np.sqrt(calculate_variance(values))\n",
    "\n",
    "calculate_stdev(x)"
   ]
  },
  {
   "cell_type": "code",
   "execution_count": 50,
   "id": "b354a951-4fa9-489b-8b1c-f51c503e91f1",
   "metadata": {
    "collapsed": true,
    "jupyter": {
     "outputs_hidden": true
    },
    "tags": []
   },
   "outputs": [
    {
     "ename": "PermissionError",
     "evalue": "[Errno 1] Operation not permitted",
     "output_type": "error",
     "traceback": [
      "\u001b[0;31m---------------------------------------------------------------------------\u001b[0m",
      "\u001b[0;31mPermissionError\u001b[0m                           Traceback (most recent call last)",
      "Cell \u001b[0;32mIn[50], line 2\u001b[0m\n\u001b[1;32m      1\u001b[0m \u001b[38;5;66;03m#Import Panadas so we can import and manipulate data\u001b[39;00m\n\u001b[0;32m----> 2\u001b[0m \u001b[38;5;28;01mimport\u001b[39;00m \u001b[38;5;21;01mpandas\u001b[39;00m \u001b[38;5;28;01mas\u001b[39;00m \u001b[38;5;21;01mpd\u001b[39;00m\n\u001b[1;32m      3\u001b[0m \u001b[38;5;66;03m#Load data into a dataframe, then view the first 10 rows\u001b[39;00m\n\u001b[1;32m      4\u001b[0m df \u001b[38;5;241m=\u001b[39m pd\u001b[38;5;241m.\u001b[39mread_csv(\u001b[38;5;124m\"\u001b[39m\u001b[38;5;124mmonthly_sales.csv\u001b[39m\u001b[38;5;124m\"\u001b[39m)\n",
      "File \u001b[0;32m<frozen importlib._bootstrap>:1027\u001b[0m, in \u001b[0;36m_find_and_load\u001b[0;34m(name, import_)\u001b[0m\n",
      "File \u001b[0;32m<frozen importlib._bootstrap>:1002\u001b[0m, in \u001b[0;36m_find_and_load_unlocked\u001b[0;34m(name, import_)\u001b[0m\n",
      "File \u001b[0;32m<frozen importlib._bootstrap>:945\u001b[0m, in \u001b[0;36m_find_spec\u001b[0;34m(name, path, target)\u001b[0m\n",
      "File \u001b[0;32m<frozen importlib._bootstrap_external>:1439\u001b[0m, in \u001b[0;36mfind_spec\u001b[0;34m(cls, fullname, path, target)\u001b[0m\n",
      "File \u001b[0;32m<frozen importlib._bootstrap_external>:1408\u001b[0m, in \u001b[0;36m_get_spec\u001b[0;34m(cls, fullname, path, target)\u001b[0m\n",
      "File \u001b[0;32m<frozen importlib._bootstrap_external>:1366\u001b[0m, in \u001b[0;36m_path_importer_cache\u001b[0;34m(cls, path)\u001b[0m\n",
      "\u001b[0;31mPermissionError\u001b[0m: [Errno 1] Operation not permitted"
     ]
    }
   ],
   "source": [
    "#Import Panadas so we can import and manipulate data\n",
    "import pandas as pd\n",
    "#Load data into a dataframe, then view the first 10 rows\n",
    "df = pd.read_csv(\"monthly_sales.csv\")\n",
    "df.head(10)"
   ]
  },
  {
   "cell_type": "code",
   "execution_count": 37,
   "id": "8bcfbc0e-13c4-47bd-8760-cee5476da379",
   "metadata": {},
   "outputs": [
    {
     "name": "stdout",
     "output_type": "stream",
     "text": [
      "Descriptive Statistics for Sales:\n",
      "Mean: 503.1166666666667\n",
      "Median: 502\n",
      "Mode: 704\n",
      "Range: 435\n",
      "Variance: 8934.236388888892\n",
      "Standard Deviation: 94.52108965140474\n",
      "\n",
      "\n",
      "Descriptive Statistics for Cost:\n",
      "Mean: 30835.15\n",
      "Median: 31037\n",
      "Mode: 41673\n",
      "Range: 27370\n",
      "Variance: 24084050.19416667\n",
      "Standard Deviation: 4907.550325179221\n",
      "\n",
      "\n",
      "Descriptive Statistics for Revenue:\n",
      "Mean: 79914.5\n",
      "Median: 80552\n",
      "Mode: 93378\n",
      "Range: 31192\n",
      "Variance: 41973348.35\n",
      "Standard Deviation: 6478.684152665571\n",
      "\n",
      "\n"
     ]
    }
   ],
   "source": [
    "#Define the columns we are interested in (used lower in the code)\n",
    "columns = ['Sales', 'Cost', 'Revenue']\n",
    "\n",
    "for column in columns:\n",
    "    values = df[column].tolist()\n",
    "    print(f\"Descriptive Statistics for {column}:\")\n",
    "    print(f\"Mean: {calculate_mean(values)}\")\n",
    "    print(f\"Median: {calculate_median(values)}\")\n",
    "    print(f\"Mode: {calculate_mode(values)}\")\n",
    "    print(f\"Range: {calculate_range(values)}\")\n",
    "    print(f\"Variance: {calculate_variance(values)}\")\n",
    "    print(f\"Standard Deviation: {calculate_stdev(values)}\")\n",
    "    print(\"\\n\")"
   ]
  },
  {
   "cell_type": "code",
   "execution_count": 39,
   "id": "72251990-69ab-406e-9a90-58b3896c0cc2",
   "metadata": {},
   "outputs": [
    {
     "name": "stdout",
     "output_type": "stream",
     "text": [
      "503.1166666666667\n",
      "502.5\n",
      "390\n",
      "704\n",
      "269\n",
      "9085.66412429379\n",
      "95.31875011923829\n"
     ]
    }
   ],
   "source": [
    "#Pandas can, of course, do all of what we've done so far much easier\n",
    "print(df['Sales'].mean())\n",
    "print(df['Sales'].median())\n",
    "print(df['Sales'].mode()[0])\n",
    "print(df['Sales'].max())\n",
    "print(df['Sales'].min())\n",
    "print(df['Sales'].var())\n",
    "print(df['Sales'].std())"
   ]
  },
  {
   "cell_type": "code",
   "execution_count": 38,
   "id": "a052cbbe-8f88-4fbe-a95d-1a655d7e608d",
   "metadata": {},
   "outputs": [
    {
     "data": {
      "text/html": [
       "<div>\n",
       "<style scoped>\n",
       "    .dataframe tbody tr th:only-of-type {\n",
       "        vertical-align: middle;\n",
       "    }\n",
       "\n",
       "    .dataframe tbody tr th {\n",
       "        vertical-align: top;\n",
       "    }\n",
       "\n",
       "    .dataframe thead th {\n",
       "        text-align: right;\n",
       "    }\n",
       "</style>\n",
       "<table border=\"1\" class=\"dataframe\">\n",
       "  <thead>\n",
       "    <tr style=\"text-align: right;\">\n",
       "      <th></th>\n",
       "      <th>Sales</th>\n",
       "      <th>Cost</th>\n",
       "      <th>Revenue</th>\n",
       "    </tr>\n",
       "  </thead>\n",
       "  <tbody>\n",
       "    <tr>\n",
       "      <th>count</th>\n",
       "      <td>60.000000</td>\n",
       "      <td>60.000000</td>\n",
       "      <td>60.000000</td>\n",
       "    </tr>\n",
       "    <tr>\n",
       "      <th>mean</th>\n",
       "      <td>503.116667</td>\n",
       "      <td>30835.150000</td>\n",
       "      <td>79914.500000</td>\n",
       "    </tr>\n",
       "    <tr>\n",
       "      <th>std</th>\n",
       "      <td>95.318750</td>\n",
       "      <td>4948.964986</td>\n",
       "      <td>6533.357562</td>\n",
       "    </tr>\n",
       "    <tr>\n",
       "      <th>min</th>\n",
       "      <td>269.000000</td>\n",
       "      <td>14303.000000</td>\n",
       "      <td>62186.000000</td>\n",
       "    </tr>\n",
       "    <tr>\n",
       "      <th>25%</th>\n",
       "      <td>443.500000</td>\n",
       "      <td>28557.000000</td>\n",
       "      <td>76019.500000</td>\n",
       "    </tr>\n",
       "    <tr>\n",
       "      <th>50%</th>\n",
       "      <td>502.500000</td>\n",
       "      <td>31037.500000</td>\n",
       "      <td>80552.500000</td>\n",
       "    </tr>\n",
       "    <tr>\n",
       "      <th>75%</th>\n",
       "      <td>556.250000</td>\n",
       "      <td>33925.500000</td>\n",
       "      <td>84188.250000</td>\n",
       "    </tr>\n",
       "    <tr>\n",
       "      <th>max</th>\n",
       "      <td>704.000000</td>\n",
       "      <td>41673.000000</td>\n",
       "      <td>93378.000000</td>\n",
       "    </tr>\n",
       "  </tbody>\n",
       "</table>\n",
       "</div>"
      ],
      "text/plain": [
       "            Sales          Cost       Revenue\n",
       "count   60.000000     60.000000     60.000000\n",
       "mean   503.116667  30835.150000  79914.500000\n",
       "std     95.318750   4948.964986   6533.357562\n",
       "min    269.000000  14303.000000  62186.000000\n",
       "25%    443.500000  28557.000000  76019.500000\n",
       "50%    502.500000  31037.500000  80552.500000\n",
       "75%    556.250000  33925.500000  84188.250000\n",
       "max    704.000000  41673.000000  93378.000000"
      ]
     },
     "execution_count": 38,
     "metadata": {},
     "output_type": "execute_result"
    }
   ],
   "source": [
    "#Even easier\n",
    "df.describe()"
   ]
  }
 ],
 "metadata": {
  "kernelspec": {
   "display_name": "Python 3 (ipykernel)",
   "language": "python",
   "name": "python3"
  },
  "language_info": {
   "codemirror_mode": {
    "name": "ipython",
    "version": 3
   },
   "file_extension": ".py",
   "mimetype": "text/x-python",
   "name": "python",
   "nbconvert_exporter": "python",
   "pygments_lexer": "ipython3",
   "version": "3.9.6"
  }
 },
 "nbformat": 4,
 "nbformat_minor": 5
}
