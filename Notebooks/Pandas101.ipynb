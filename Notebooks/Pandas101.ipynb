{
 "cells": [
  {
   "cell_type": "code",
   "execution_count": 3,
   "id": "20ab978d",
   "metadata": {
    "tags": []
   },
   "outputs": [],
   "source": [
    "#Pandas For Data Analysis \n",
    "#Import Pandas\n",
    "import pandas as pd"
   ]
  },
  {
   "cell_type": "code",
   "execution_count": 5,
   "id": "14f03cdc",
   "metadata": {
    "tags": []
   },
   "outputs": [
    {
     "data": {
      "text/plain": [
       "'/Users/robertwrobel/Code/Python4Statistics/Notebooks'"
      ]
     },
     "execution_count": 5,
     "metadata": {},
     "output_type": "execute_result"
    }
   ],
   "source": [
    "#Find working directory\n",
    "import os\n",
    "os.getcwd()"
   ]
  },
  {
   "cell_type": "code",
   "execution_count": 7,
   "id": "d88ae7a5",
   "metadata": {
    "tags": []
   },
   "outputs": [],
   "source": [
    "#Read and Excel file and a CSV file into two separate data frames\n",
    "df1 = pd.read_csv('data.csv')\n",
    "df2 = pd.read_excel('data.xlsx')"
   ]
  },
  {
   "cell_type": "code",
   "execution_count": 8,
   "id": "c77a2282",
   "metadata": {
    "tags": []
   },
   "outputs": [
    {
     "name": "stdout",
     "output_type": "stream",
     "text": [
      "               Name  Age Category  Value  Count\n",
      "0      Nicole Allen   25        C   54.0    5.0\n",
      "1  Anthony Martinez   54        A   49.0    8.0\n",
      "2     Shawn Gilbert   39        B   64.0    3.0\n",
      "3        Eric Ellis   35        A   35.0    4.0\n",
      "4    Chelsea Flores   24        C    6.0    3.0\n",
      "               Name  Age Category  Value  Count\n",
      "0      Nicole Allen   25        C   54.0    5.0\n",
      "1  Anthony Martinez   54        A   49.0    8.0\n",
      "2     Shawn Gilbert   39        B   64.0    3.0\n",
      "3        Eric Ellis   35        A   35.0    4.0\n",
      "4    Chelsea Flores   24        C    6.0    3.0\n",
      "5      Karen Carson   51        C   71.0    2.0\n",
      "6     Rhonda Wilcox   51        A   53.0   10.0\n",
      "7      Barbara Tran   24        A   62.0    9.0\n",
      "8      Matthew Ward   31        B   40.0    8.0\n",
      "9       Joshua Ware   19        A   81.0    4.0\n",
      "                    Name  Age Category  Value  Count\n",
      "90          Donald Ayala   56        B   33.0    2.0\n",
      "91          John Ramirez   39        A   69.0    5.0\n",
      "92     Dr. Jonathan Cook   27        B   83.0    9.0\n",
      "93        Michael Miller   37        A   19.0    2.0\n",
      "94        Karen Williams   47        B   29.0    8.0\n",
      "95          Jamie Knight   52        B   34.0   10.0\n",
      "96          Linda Dalton   61        A   61.0    3.0\n",
      "97        Donald Blevins   60        C   58.0    4.0\n",
      "98  Mrs. Mary Sampson MD   42        C   81.0    5.0\n",
      "99    Lawrence Rodriguez   59        B   23.0    9.0\n"
     ]
    }
   ],
   "source": [
    "#View the first 5 rows of df1, the first 10 rows of df1, and the last 10 rows of df2\n",
    "print(df1.head()) #5 is the default\n",
    "print(df1.head(10))\n",
    "print(df2.tail(10))"
   ]
  },
  {
   "cell_type": "code",
   "execution_count": 42,
   "id": "866974c1",
   "metadata": {},
   "outputs": [
    {
     "data": {
      "text/html": [
       "<div>\n",
       "<style scoped>\n",
       "    .dataframe tbody tr th:only-of-type {\n",
       "        vertical-align: middle;\n",
       "    }\n",
       "\n",
       "    .dataframe tbody tr th {\n",
       "        vertical-align: top;\n",
       "    }\n",
       "\n",
       "    .dataframe thead th {\n",
       "        text-align: right;\n",
       "    }\n",
       "</style>\n",
       "<table border=\"1\" class=\"dataframe\">\n",
       "  <thead>\n",
       "    <tr style=\"text-align: right;\">\n",
       "      <th></th>\n",
       "      <th>Age</th>\n",
       "      <th>Value</th>\n",
       "      <th>Count</th>\n",
       "    </tr>\n",
       "  </thead>\n",
       "  <tbody>\n",
       "    <tr>\n",
       "      <th>count</th>\n",
       "      <td>100.000000</td>\n",
       "      <td>98.000000</td>\n",
       "      <td>99.000000</td>\n",
       "    </tr>\n",
       "    <tr>\n",
       "      <th>mean</th>\n",
       "      <td>40.260000</td>\n",
       "      <td>45.530612</td>\n",
       "      <td>5.232323</td>\n",
       "    </tr>\n",
       "    <tr>\n",
       "      <th>std</th>\n",
       "      <td>14.059484</td>\n",
       "      <td>28.023629</td>\n",
       "      <td>2.791490</td>\n",
       "    </tr>\n",
       "    <tr>\n",
       "      <th>min</th>\n",
       "      <td>18.000000</td>\n",
       "      <td>1.000000</td>\n",
       "      <td>1.000000</td>\n",
       "    </tr>\n",
       "    <tr>\n",
       "      <th>25%</th>\n",
       "      <td>27.750000</td>\n",
       "      <td>21.250000</td>\n",
       "      <td>3.000000</td>\n",
       "    </tr>\n",
       "    <tr>\n",
       "      <th>50%</th>\n",
       "      <td>41.000000</td>\n",
       "      <td>43.500000</td>\n",
       "      <td>5.000000</td>\n",
       "    </tr>\n",
       "    <tr>\n",
       "      <th>75%</th>\n",
       "      <td>52.250000</td>\n",
       "      <td>64.750000</td>\n",
       "      <td>7.500000</td>\n",
       "    </tr>\n",
       "    <tr>\n",
       "      <th>max</th>\n",
       "      <td>64.000000</td>\n",
       "      <td>100.000000</td>\n",
       "      <td>10.000000</td>\n",
       "    </tr>\n",
       "  </tbody>\n",
       "</table>\n",
       "</div>"
      ],
      "text/plain": [
       "              Age       Value      Count\n",
       "count  100.000000   98.000000  99.000000\n",
       "mean    40.260000   45.530612   5.232323\n",
       "std     14.059484   28.023629   2.791490\n",
       "min     18.000000    1.000000   1.000000\n",
       "25%     27.750000   21.250000   3.000000\n",
       "50%     41.000000   43.500000   5.000000\n",
       "75%     52.250000   64.750000   7.500000\n",
       "max     64.000000  100.000000  10.000000"
      ]
     },
     "execution_count": 42,
     "metadata": {},
     "output_type": "execute_result"
    }
   ],
   "source": [
    "#Summary statistics\n",
    "df1.describe()"
   ]
  },
  {
   "cell_type": "code",
   "execution_count": 6,
   "id": "354e6d5c",
   "metadata": {},
   "outputs": [
    {
     "name": "stdout",
     "output_type": "stream",
     "text": [
      "Name        0\n",
      "Age         0\n",
      "Category    1\n",
      "Value       2\n",
      "Count       1\n",
      "dtype: int64\n",
      "Name        0\n",
      "Age         0\n",
      "Category    0\n",
      "Value       0\n",
      "Count       0\n",
      "dtype: int64\n"
     ]
    }
   ],
   "source": [
    "#Count missing values and drop rows with missing values\n",
    "print(df1.isnull().sum())\n",
    "\n",
    "df1.dropna(inplace=True) # \"inplace=True\" modifies the existing data frame\n",
    "print(df1.isnull().sum())"
   ]
  },
  {
   "cell_type": "code",
   "execution_count": 7,
   "id": "35a1f874",
   "metadata": {},
   "outputs": [
    {
     "data": {
      "text/html": [
       "<div>\n",
       "<style scoped>\n",
       "    .dataframe tbody tr th:only-of-type {\n",
       "        vertical-align: middle;\n",
       "    }\n",
       "\n",
       "    .dataframe tbody tr th {\n",
       "        vertical-align: top;\n",
       "    }\n",
       "\n",
       "    .dataframe thead th {\n",
       "        text-align: right;\n",
       "    }\n",
       "</style>\n",
       "<table border=\"1\" class=\"dataframe\">\n",
       "  <thead>\n",
       "    <tr style=\"text-align: right;\">\n",
       "      <th></th>\n",
       "      <th>Age</th>\n",
       "      <th>Value</th>\n",
       "      <th>Count</th>\n",
       "    </tr>\n",
       "  </thead>\n",
       "  <tbody>\n",
       "    <tr>\n",
       "      <th>count</th>\n",
       "      <td>97.000000</td>\n",
       "      <td>97.000000</td>\n",
       "      <td>97.000000</td>\n",
       "    </tr>\n",
       "    <tr>\n",
       "      <th>mean</th>\n",
       "      <td>40.175258</td>\n",
       "      <td>45.958763</td>\n",
       "      <td>5.288660</td>\n",
       "    </tr>\n",
       "    <tr>\n",
       "      <th>std</th>\n",
       "      <td>14.000752</td>\n",
       "      <td>27.845151</td>\n",
       "      <td>2.791202</td>\n",
       "    </tr>\n",
       "    <tr>\n",
       "      <th>min</th>\n",
       "      <td>18.000000</td>\n",
       "      <td>1.000000</td>\n",
       "      <td>1.000000</td>\n",
       "    </tr>\n",
       "    <tr>\n",
       "      <th>25%</th>\n",
       "      <td>28.000000</td>\n",
       "      <td>22.000000</td>\n",
       "      <td>3.000000</td>\n",
       "    </tr>\n",
       "    <tr>\n",
       "      <th>50%</th>\n",
       "      <td>41.000000</td>\n",
       "      <td>44.000000</td>\n",
       "      <td>5.000000</td>\n",
       "    </tr>\n",
       "    <tr>\n",
       "      <th>75%</th>\n",
       "      <td>52.000000</td>\n",
       "      <td>65.000000</td>\n",
       "      <td>8.000000</td>\n",
       "    </tr>\n",
       "    <tr>\n",
       "      <th>max</th>\n",
       "      <td>64.000000</td>\n",
       "      <td>100.000000</td>\n",
       "      <td>10.000000</td>\n",
       "    </tr>\n",
       "  </tbody>\n",
       "</table>\n",
       "</div>"
      ],
      "text/plain": [
       "             Age       Value      Count\n",
       "count  97.000000   97.000000  97.000000\n",
       "mean   40.175258   45.958763   5.288660\n",
       "std    14.000752   27.845151   2.791202\n",
       "min    18.000000    1.000000   1.000000\n",
       "25%    28.000000   22.000000   3.000000\n",
       "50%    41.000000   44.000000   5.000000\n",
       "75%    52.000000   65.000000   8.000000\n",
       "max    64.000000  100.000000  10.000000"
      ]
     },
     "execution_count": 7,
     "metadata": {},
     "output_type": "execute_result"
    }
   ],
   "source": [
    "df1.describe()"
   ]
  },
  {
   "cell_type": "code",
   "execution_count": 8,
   "id": "10aa73b4",
   "metadata": {},
   "outputs": [
    {
     "name": "stdout",
     "output_type": "stream",
     "text": [
      "2\n"
     ]
    },
    {
     "data": {
      "text/html": [
       "<div>\n",
       "<style scoped>\n",
       "    .dataframe tbody tr th:only-of-type {\n",
       "        vertical-align: middle;\n",
       "    }\n",
       "\n",
       "    .dataframe tbody tr th {\n",
       "        vertical-align: top;\n",
       "    }\n",
       "\n",
       "    .dataframe thead th {\n",
       "        text-align: right;\n",
       "    }\n",
       "</style>\n",
       "<table border=\"1\" class=\"dataframe\">\n",
       "  <thead>\n",
       "    <tr style=\"text-align: right;\">\n",
       "      <th></th>\n",
       "      <th>Name</th>\n",
       "      <th>Age</th>\n",
       "      <th>Category</th>\n",
       "      <th>Value</th>\n",
       "      <th>Count</th>\n",
       "    </tr>\n",
       "  </thead>\n",
       "  <tbody>\n",
       "    <tr>\n",
       "      <th>17</th>\n",
       "      <td>Alexandra Green</td>\n",
       "      <td>21</td>\n",
       "      <td>C</td>\n",
       "      <td>7.0</td>\n",
       "      <td>9.0</td>\n",
       "    </tr>\n",
       "    <tr>\n",
       "      <th>24</th>\n",
       "      <td>Mark Hester</td>\n",
       "      <td>35</td>\n",
       "      <td>C</td>\n",
       "      <td>44.0</td>\n",
       "      <td>4.0</td>\n",
       "    </tr>\n",
       "  </tbody>\n",
       "</table>\n",
       "</div>"
      ],
      "text/plain": [
       "               Name  Age Category  Value  Count\n",
       "17  Alexandra Green   21        C    7.0    9.0\n",
       "24      Mark Hester   35        C   44.0    4.0"
      ]
     },
     "execution_count": 8,
     "metadata": {},
     "output_type": "execute_result"
    }
   ],
   "source": [
    "#Check for duplicate rows\n",
    "duplicate_count = df1.duplicated().sum()\n",
    "print(duplicate_count)\n",
    "\n",
    "#duplicates = df1.duplicated()\n",
    "#print(duplicates)\n",
    "\n",
    "#View instances of the duplicated rows\n",
    "duplicated_rows = df1[df1.duplicated()]\n",
    "duplicated_rows"
   ]
  },
  {
   "cell_type": "code",
   "execution_count": 9,
   "id": "e07e376b",
   "metadata": {},
   "outputs": [],
   "source": [
    "#Checking for duplicates using a subset of columns instead of looking for exact duplicates\n",
    "duplicates = df1.duplicated(subset=['Name', 'Age'])"
   ]
  },
  {
   "cell_type": "code",
   "execution_count": 10,
   "id": "8e308680",
   "metadata": {},
   "outputs": [],
   "source": [
    "#Drop duplicate rows\n",
    "df1.drop_duplicates(inplace=True)"
   ]
  },
  {
   "cell_type": "code",
   "execution_count": 11,
   "id": "b7113c8b",
   "metadata": {},
   "outputs": [
    {
     "data": {
      "text/plain": [
       "Index(['Name', 'Age', 'Category', 'Value', 'Count'], dtype='object')"
      ]
     },
     "execution_count": 11,
     "metadata": {},
     "output_type": "execute_result"
    }
   ],
   "source": [
    "df1.columns"
   ]
  },
  {
   "cell_type": "code",
   "execution_count": 43,
   "id": "d7580290",
   "metadata": {},
   "outputs": [
    {
     "data": {
      "text/html": [
       "<div>\n",
       "<style scoped>\n",
       "    .dataframe tbody tr th:only-of-type {\n",
       "        vertical-align: middle;\n",
       "    }\n",
       "\n",
       "    .dataframe tbody tr th {\n",
       "        vertical-align: top;\n",
       "    }\n",
       "\n",
       "    .dataframe thead th {\n",
       "        text-align: right;\n",
       "    }\n",
       "</style>\n",
       "<table border=\"1\" class=\"dataframe\">\n",
       "  <thead>\n",
       "    <tr style=\"text-align: right;\">\n",
       "      <th></th>\n",
       "      <th>Name</th>\n",
       "      <th>Age</th>\n",
       "      <th>Category</th>\n",
       "      <th>Value</th>\n",
       "      <th>Count</th>\n",
       "      <th>Category2</th>\n",
       "    </tr>\n",
       "  </thead>\n",
       "  <tbody>\n",
       "    <tr>\n",
       "      <th>0</th>\n",
       "      <td>Nicole Allen</td>\n",
       "      <td>25</td>\n",
       "      <td>C</td>\n",
       "      <td>54.0</td>\n",
       "      <td>5.0</td>\n",
       "      <td>Sub-Awesome</td>\n",
       "    </tr>\n",
       "    <tr>\n",
       "      <th>1</th>\n",
       "      <td>Anthony Martinez</td>\n",
       "      <td>54</td>\n",
       "      <td>A</td>\n",
       "      <td>49.0</td>\n",
       "      <td>8.0</td>\n",
       "      <td>Awesome</td>\n",
       "    </tr>\n",
       "    <tr>\n",
       "      <th>2</th>\n",
       "      <td>Shawn Gilbert</td>\n",
       "      <td>39</td>\n",
       "      <td>B</td>\n",
       "      <td>64.0</td>\n",
       "      <td>3.0</td>\n",
       "      <td>Sub-Awesome</td>\n",
       "    </tr>\n",
       "    <tr>\n",
       "      <th>3</th>\n",
       "      <td>Eric Ellis</td>\n",
       "      <td>35</td>\n",
       "      <td>A</td>\n",
       "      <td>35.0</td>\n",
       "      <td>4.0</td>\n",
       "      <td>Awesome</td>\n",
       "    </tr>\n",
       "    <tr>\n",
       "      <th>4</th>\n",
       "      <td>Chelsea Flores</td>\n",
       "      <td>24</td>\n",
       "      <td>C</td>\n",
       "      <td>6.0</td>\n",
       "      <td>3.0</td>\n",
       "      <td>Sub-Awesome</td>\n",
       "    </tr>\n",
       "    <tr>\n",
       "      <th>5</th>\n",
       "      <td>Karen Carson</td>\n",
       "      <td>51</td>\n",
       "      <td>C</td>\n",
       "      <td>71.0</td>\n",
       "      <td>2.0</td>\n",
       "      <td>Sub-Awesome</td>\n",
       "    </tr>\n",
       "    <tr>\n",
       "      <th>6</th>\n",
       "      <td>Rhonda Wilcox</td>\n",
       "      <td>51</td>\n",
       "      <td>A</td>\n",
       "      <td>53.0</td>\n",
       "      <td>10.0</td>\n",
       "      <td>Awesome</td>\n",
       "    </tr>\n",
       "    <tr>\n",
       "      <th>7</th>\n",
       "      <td>Barbara Tran</td>\n",
       "      <td>24</td>\n",
       "      <td>A</td>\n",
       "      <td>62.0</td>\n",
       "      <td>9.0</td>\n",
       "      <td>Awesome</td>\n",
       "    </tr>\n",
       "    <tr>\n",
       "      <th>8</th>\n",
       "      <td>Matthew Ward</td>\n",
       "      <td>31</td>\n",
       "      <td>B</td>\n",
       "      <td>40.0</td>\n",
       "      <td>8.0</td>\n",
       "      <td>Sub-Awesome</td>\n",
       "    </tr>\n",
       "    <tr>\n",
       "      <th>9</th>\n",
       "      <td>Joshua Ware</td>\n",
       "      <td>19</td>\n",
       "      <td>A</td>\n",
       "      <td>81.0</td>\n",
       "      <td>4.0</td>\n",
       "      <td>Awesome</td>\n",
       "    </tr>\n",
       "  </tbody>\n",
       "</table>\n",
       "</div>"
      ],
      "text/plain": [
       "               Name  Age Category  Value  Count    Category2\n",
       "0      Nicole Allen   25        C   54.0    5.0  Sub-Awesome\n",
       "1  Anthony Martinez   54        A   49.0    8.0      Awesome\n",
       "2     Shawn Gilbert   39        B   64.0    3.0  Sub-Awesome\n",
       "3        Eric Ellis   35        A   35.0    4.0      Awesome\n",
       "4    Chelsea Flores   24        C    6.0    3.0  Sub-Awesome\n",
       "5      Karen Carson   51        C   71.0    2.0  Sub-Awesome\n",
       "6     Rhonda Wilcox   51        A   53.0   10.0      Awesome\n",
       "7      Barbara Tran   24        A   62.0    9.0      Awesome\n",
       "8      Matthew Ward   31        B   40.0    8.0  Sub-Awesome\n",
       "9       Joshua Ware   19        A   81.0    4.0      Awesome"
      ]
     },
     "execution_count": 43,
     "metadata": {},
     "output_type": "execute_result"
    }
   ],
   "source": [
    "#Map with a dictionary\n",
    "m = {'A':'Awesome','B':'Sub-Awesome','C':'Sub-Awesome'}\n",
    "df1['Category2'] = df1['Category'].map(m)\n",
    "df1.head(10)"
   ]
  },
  {
   "cell_type": "code",
   "execution_count": 11,
   "id": "7aebdff4",
   "metadata": {},
   "outputs": [
    {
     "name": "stdout",
     "output_type": "stream",
     "text": [
      "40.26\n"
     ]
    },
    {
     "data": {
      "text/html": [
       "<div>\n",
       "<style scoped>\n",
       "    .dataframe tbody tr th:only-of-type {\n",
       "        vertical-align: middle;\n",
       "    }\n",
       "\n",
       "    .dataframe tbody tr th {\n",
       "        vertical-align: top;\n",
       "    }\n",
       "\n",
       "    .dataframe thead th {\n",
       "        text-align: right;\n",
       "    }\n",
       "</style>\n",
       "<table border=\"1\" class=\"dataframe\">\n",
       "  <thead>\n",
       "    <tr style=\"text-align: right;\">\n",
       "      <th></th>\n",
       "      <th>Name</th>\n",
       "      <th>Age</th>\n",
       "      <th>Category</th>\n",
       "      <th>Value</th>\n",
       "      <th>Count</th>\n",
       "      <th>Category2</th>\n",
       "      <th>Above Average Age</th>\n",
       "    </tr>\n",
       "  </thead>\n",
       "  <tbody>\n",
       "    <tr>\n",
       "      <th>0</th>\n",
       "      <td>Nicole Allen</td>\n",
       "      <td>25</td>\n",
       "      <td>C</td>\n",
       "      <td>54.0</td>\n",
       "      <td>5.0</td>\n",
       "      <td>Sub-Awesome</td>\n",
       "      <td>0</td>\n",
       "    </tr>\n",
       "    <tr>\n",
       "      <th>1</th>\n",
       "      <td>Anthony Martinez</td>\n",
       "      <td>54</td>\n",
       "      <td>A</td>\n",
       "      <td>49.0</td>\n",
       "      <td>8.0</td>\n",
       "      <td>Awesome</td>\n",
       "      <td>1</td>\n",
       "    </tr>\n",
       "    <tr>\n",
       "      <th>2</th>\n",
       "      <td>Shawn Gilbert</td>\n",
       "      <td>39</td>\n",
       "      <td>B</td>\n",
       "      <td>64.0</td>\n",
       "      <td>3.0</td>\n",
       "      <td>Sub-Awesome</td>\n",
       "      <td>0</td>\n",
       "    </tr>\n",
       "    <tr>\n",
       "      <th>3</th>\n",
       "      <td>Eric Ellis</td>\n",
       "      <td>35</td>\n",
       "      <td>A</td>\n",
       "      <td>35.0</td>\n",
       "      <td>4.0</td>\n",
       "      <td>Awesome</td>\n",
       "      <td>0</td>\n",
       "    </tr>\n",
       "    <tr>\n",
       "      <th>4</th>\n",
       "      <td>Chelsea Flores</td>\n",
       "      <td>24</td>\n",
       "      <td>C</td>\n",
       "      <td>6.0</td>\n",
       "      <td>3.0</td>\n",
       "      <td>Sub-Awesome</td>\n",
       "      <td>0</td>\n",
       "    </tr>\n",
       "    <tr>\n",
       "      <th>5</th>\n",
       "      <td>Karen Carson</td>\n",
       "      <td>51</td>\n",
       "      <td>C</td>\n",
       "      <td>71.0</td>\n",
       "      <td>2.0</td>\n",
       "      <td>Sub-Awesome</td>\n",
       "      <td>1</td>\n",
       "    </tr>\n",
       "    <tr>\n",
       "      <th>6</th>\n",
       "      <td>Rhonda Wilcox</td>\n",
       "      <td>51</td>\n",
       "      <td>A</td>\n",
       "      <td>53.0</td>\n",
       "      <td>10.0</td>\n",
       "      <td>Awesome</td>\n",
       "      <td>1</td>\n",
       "    </tr>\n",
       "    <tr>\n",
       "      <th>7</th>\n",
       "      <td>Barbara Tran</td>\n",
       "      <td>24</td>\n",
       "      <td>A</td>\n",
       "      <td>62.0</td>\n",
       "      <td>9.0</td>\n",
       "      <td>Awesome</td>\n",
       "      <td>0</td>\n",
       "    </tr>\n",
       "    <tr>\n",
       "      <th>8</th>\n",
       "      <td>Matthew Ward</td>\n",
       "      <td>31</td>\n",
       "      <td>B</td>\n",
       "      <td>40.0</td>\n",
       "      <td>8.0</td>\n",
       "      <td>Sub-Awesome</td>\n",
       "      <td>0</td>\n",
       "    </tr>\n",
       "    <tr>\n",
       "      <th>9</th>\n",
       "      <td>Joshua Ware</td>\n",
       "      <td>19</td>\n",
       "      <td>A</td>\n",
       "      <td>81.0</td>\n",
       "      <td>4.0</td>\n",
       "      <td>Awesome</td>\n",
       "      <td>0</td>\n",
       "    </tr>\n",
       "  </tbody>\n",
       "</table>\n",
       "</div>"
      ],
      "text/plain": [
       "               Name  Age Category  Value  Count    Category2   \n",
       "0      Nicole Allen   25        C   54.0    5.0  Sub-Awesome  \\\n",
       "1  Anthony Martinez   54        A   49.0    8.0      Awesome   \n",
       "2     Shawn Gilbert   39        B   64.0    3.0  Sub-Awesome   \n",
       "3        Eric Ellis   35        A   35.0    4.0      Awesome   \n",
       "4    Chelsea Flores   24        C    6.0    3.0  Sub-Awesome   \n",
       "5      Karen Carson   51        C   71.0    2.0  Sub-Awesome   \n",
       "6     Rhonda Wilcox   51        A   53.0   10.0      Awesome   \n",
       "7      Barbara Tran   24        A   62.0    9.0      Awesome   \n",
       "8      Matthew Ward   31        B   40.0    8.0  Sub-Awesome   \n",
       "9       Joshua Ware   19        A   81.0    4.0      Awesome   \n",
       "\n",
       "   Above Average Age  \n",
       "0                  0  \n",
       "1                  1  \n",
       "2                  0  \n",
       "3                  0  \n",
       "4                  0  \n",
       "5                  1  \n",
       "6                  1  \n",
       "7                  0  \n",
       "8                  0  \n",
       "9                  0  "
      ]
     },
     "execution_count": 11,
     "metadata": {},
     "output_type": "execute_result"
    }
   ],
   "source": [
    "#Map with a funciton\n",
    "average_age = df1['Age'].mean()\n",
    "print(average_age)\n",
    "\n",
    "def above_average_age(x):\n",
    "    if x > average_age:\n",
    "        return 1\n",
    "    else:\n",
    "        return 0\n",
    "\n",
    "df1['Above Average Age'] = df1['Age'].map(above_average_age)\n",
    "df1.head(10)"
   ]
  },
  {
   "cell_type": "code",
   "execution_count": 15,
   "id": "b3dfdace",
   "metadata": {},
   "outputs": [
    {
     "data": {
      "text/plain": [
       "2    39\n",
       "3    35\n",
       "4    24\n",
       "5    51\n",
       "6    51\n",
       "Name: Age, dtype: int64"
      ]
     },
     "execution_count": 15,
     "metadata": {},
     "output_type": "execute_result"
    }
   ],
   "source": [
    "#loc\n",
    "#loc uses labels - loc[row_label, column_label]\n",
    "print(df1.loc[2, 'Age']) #Get the value of the age column in row 2\n",
    "print(df1.loc[2:6, 'Age']) #Get the value of the age column in rows indexed 2 through 6"
   ]
  },
  {
   "cell_type": "code",
   "execution_count": 20,
   "id": "6b37c726",
   "metadata": {},
   "outputs": [
    {
     "name": "stdout",
     "output_type": "stream",
     "text": [
      "3.0\n",
      "  Category  Value\n",
      "1        A   49.0\n",
      "2        B   64.0\n"
     ]
    }
   ],
   "source": [
    "#iloc\n",
    "#iloc uses integers corresponding to position - iloc[row_position, column_position]\n",
    "\n",
    "print(df1.iloc[4,4])\n",
    "print(df1.iloc[1:3,2:4])"
   ]
  },
  {
   "cell_type": "code",
   "execution_count": 12,
   "id": "04cc3829",
   "metadata": {},
   "outputs": [
    {
     "data": {
      "text/html": [
       "<div>\n",
       "<style scoped>\n",
       "    .dataframe tbody tr th:only-of-type {\n",
       "        vertical-align: middle;\n",
       "    }\n",
       "\n",
       "    .dataframe tbody tr th {\n",
       "        vertical-align: top;\n",
       "    }\n",
       "\n",
       "    .dataframe thead th {\n",
       "        text-align: right;\n",
       "    }\n",
       "</style>\n",
       "<table border=\"1\" class=\"dataframe\">\n",
       "  <thead>\n",
       "    <tr style=\"text-align: right;\">\n",
       "      <th></th>\n",
       "      <th>Name</th>\n",
       "      <th>Age</th>\n",
       "      <th>Category</th>\n",
       "      <th>Value</th>\n",
       "      <th>Count</th>\n",
       "      <th>First Name</th>\n",
       "      <th>Last Name</th>\n",
       "    </tr>\n",
       "  </thead>\n",
       "  <tbody>\n",
       "    <tr>\n",
       "      <th>0</th>\n",
       "      <td>Nicole Allen</td>\n",
       "      <td>25</td>\n",
       "      <td>C</td>\n",
       "      <td>54.0</td>\n",
       "      <td>5.0</td>\n",
       "      <td>Nicole</td>\n",
       "      <td>Allen</td>\n",
       "    </tr>\n",
       "    <tr>\n",
       "      <th>1</th>\n",
       "      <td>Anthony Martinez</td>\n",
       "      <td>54</td>\n",
       "      <td>A</td>\n",
       "      <td>49.0</td>\n",
       "      <td>8.0</td>\n",
       "      <td>Anthony</td>\n",
       "      <td>Martinez</td>\n",
       "    </tr>\n",
       "    <tr>\n",
       "      <th>2</th>\n",
       "      <td>Shawn Gilbert</td>\n",
       "      <td>39</td>\n",
       "      <td>B</td>\n",
       "      <td>64.0</td>\n",
       "      <td>3.0</td>\n",
       "      <td>Shawn</td>\n",
       "      <td>Gilbert</td>\n",
       "    </tr>\n",
       "    <tr>\n",
       "      <th>3</th>\n",
       "      <td>Eric Ellis</td>\n",
       "      <td>35</td>\n",
       "      <td>A</td>\n",
       "      <td>35.0</td>\n",
       "      <td>4.0</td>\n",
       "      <td>Eric</td>\n",
       "      <td>Ellis</td>\n",
       "    </tr>\n",
       "    <tr>\n",
       "      <th>4</th>\n",
       "      <td>Chelsea Flores</td>\n",
       "      <td>24</td>\n",
       "      <td>C</td>\n",
       "      <td>6.0</td>\n",
       "      <td>3.0</td>\n",
       "      <td>Chelsea</td>\n",
       "      <td>Flores</td>\n",
       "    </tr>\n",
       "  </tbody>\n",
       "</table>\n",
       "</div>"
      ],
      "text/plain": [
       "               Name  Age Category  Value  Count First Name Last Name\n",
       "0      Nicole Allen   25        C   54.0    5.0     Nicole     Allen\n",
       "1  Anthony Martinez   54        A   49.0    8.0    Anthony  Martinez\n",
       "2     Shawn Gilbert   39        B   64.0    3.0      Shawn   Gilbert\n",
       "3        Eric Ellis   35        A   35.0    4.0       Eric     Ellis\n",
       "4    Chelsea Flores   24        C    6.0    3.0    Chelsea    Flores"
      ]
     },
     "execution_count": 12,
     "metadata": {},
     "output_type": "execute_result"
    }
   ],
   "source": [
    "#Split \"Text to columns\"\n",
    "df1[['First Name', 'Last Name']] = df1['Name'].str.split(n=1, expand=True)\n",
    "df1.columns\n",
    "df1.head()"
   ]
  },
  {
   "cell_type": "code",
   "execution_count": 13,
   "id": "b811926c",
   "metadata": {},
   "outputs": [
    {
     "data": {
      "text/html": [
       "<div>\n",
       "<style scoped>\n",
       "    .dataframe tbody tr th:only-of-type {\n",
       "        vertical-align: middle;\n",
       "    }\n",
       "\n",
       "    .dataframe tbody tr th {\n",
       "        vertical-align: top;\n",
       "    }\n",
       "\n",
       "    .dataframe thead th {\n",
       "        text-align: right;\n",
       "    }\n",
       "</style>\n",
       "<table border=\"1\" class=\"dataframe\">\n",
       "  <thead>\n",
       "    <tr style=\"text-align: right;\">\n",
       "      <th></th>\n",
       "      <th>Full Name</th>\n",
       "      <th>Age</th>\n",
       "      <th>Category</th>\n",
       "      <th>Value</th>\n",
       "      <th>Count</th>\n",
       "      <th>First Name</th>\n",
       "      <th>Last Name</th>\n",
       "    </tr>\n",
       "  </thead>\n",
       "  <tbody>\n",
       "    <tr>\n",
       "      <th>0</th>\n",
       "      <td>Nicole Allen</td>\n",
       "      <td>25</td>\n",
       "      <td>C</td>\n",
       "      <td>54.0</td>\n",
       "      <td>5.0</td>\n",
       "      <td>Nicole</td>\n",
       "      <td>Allen</td>\n",
       "    </tr>\n",
       "    <tr>\n",
       "      <th>1</th>\n",
       "      <td>Anthony Martinez</td>\n",
       "      <td>54</td>\n",
       "      <td>A</td>\n",
       "      <td>49.0</td>\n",
       "      <td>8.0</td>\n",
       "      <td>Anthony</td>\n",
       "      <td>Martinez</td>\n",
       "    </tr>\n",
       "    <tr>\n",
       "      <th>2</th>\n",
       "      <td>Shawn Gilbert</td>\n",
       "      <td>39</td>\n",
       "      <td>B</td>\n",
       "      <td>64.0</td>\n",
       "      <td>3.0</td>\n",
       "      <td>Shawn</td>\n",
       "      <td>Gilbert</td>\n",
       "    </tr>\n",
       "    <tr>\n",
       "      <th>3</th>\n",
       "      <td>Eric Ellis</td>\n",
       "      <td>35</td>\n",
       "      <td>A</td>\n",
       "      <td>35.0</td>\n",
       "      <td>4.0</td>\n",
       "      <td>Eric</td>\n",
       "      <td>Ellis</td>\n",
       "    </tr>\n",
       "    <tr>\n",
       "      <th>4</th>\n",
       "      <td>Chelsea Flores</td>\n",
       "      <td>24</td>\n",
       "      <td>C</td>\n",
       "      <td>6.0</td>\n",
       "      <td>3.0</td>\n",
       "      <td>Chelsea</td>\n",
       "      <td>Flores</td>\n",
       "    </tr>\n",
       "  </tbody>\n",
       "</table>\n",
       "</div>"
      ],
      "text/plain": [
       "          Full Name  Age Category  Value  Count First Name Last Name\n",
       "0      Nicole Allen   25        C   54.0    5.0     Nicole     Allen\n",
       "1  Anthony Martinez   54        A   49.0    8.0    Anthony  Martinez\n",
       "2     Shawn Gilbert   39        B   64.0    3.0      Shawn   Gilbert\n",
       "3        Eric Ellis   35        A   35.0    4.0       Eric     Ellis\n",
       "4    Chelsea Flores   24        C    6.0    3.0    Chelsea    Flores"
      ]
     },
     "execution_count": 13,
     "metadata": {},
     "output_type": "execute_result"
    }
   ],
   "source": [
    "#Renaming columns with a dictionary\n",
    "df1.rename(columns={'Name': 'Full Name'}, inplace=True)\n",
    "df1.head()"
   ]
  },
  {
   "cell_type": "code",
   "execution_count": 14,
   "id": "ac6705b2",
   "metadata": {},
   "outputs": [
    {
     "data": {
      "text/html": [
       "<div>\n",
       "<style scoped>\n",
       "    .dataframe tbody tr th:only-of-type {\n",
       "        vertical-align: middle;\n",
       "    }\n",
       "\n",
       "    .dataframe tbody tr th {\n",
       "        vertical-align: top;\n",
       "    }\n",
       "\n",
       "    .dataframe thead th {\n",
       "        text-align: right;\n",
       "    }\n",
       "</style>\n",
       "<table border=\"1\" class=\"dataframe\">\n",
       "  <thead>\n",
       "    <tr style=\"text-align: right;\">\n",
       "      <th></th>\n",
       "      <th>Full Name</th>\n",
       "      <th>Age</th>\n",
       "      <th>Category</th>\n",
       "      <th>Value</th>\n",
       "      <th>Count</th>\n",
       "      <th>First Name</th>\n",
       "      <th>Last Name</th>\n",
       "    </tr>\n",
       "  </thead>\n",
       "  <tbody>\n",
       "    <tr>\n",
       "      <th>1</th>\n",
       "      <td>Anthony Martinez</td>\n",
       "      <td>54</td>\n",
       "      <td>A</td>\n",
       "      <td>49.0</td>\n",
       "      <td>8.0</td>\n",
       "      <td>Anthony</td>\n",
       "      <td>Martinez</td>\n",
       "    </tr>\n",
       "    <tr>\n",
       "      <th>2</th>\n",
       "      <td>Shawn Gilbert</td>\n",
       "      <td>39</td>\n",
       "      <td>B</td>\n",
       "      <td>64.0</td>\n",
       "      <td>3.0</td>\n",
       "      <td>Shawn</td>\n",
       "      <td>Gilbert</td>\n",
       "    </tr>\n",
       "    <tr>\n",
       "      <th>3</th>\n",
       "      <td>Eric Ellis</td>\n",
       "      <td>35</td>\n",
       "      <td>A</td>\n",
       "      <td>35.0</td>\n",
       "      <td>4.0</td>\n",
       "      <td>Eric</td>\n",
       "      <td>Ellis</td>\n",
       "    </tr>\n",
       "    <tr>\n",
       "      <th>5</th>\n",
       "      <td>Karen Carson</td>\n",
       "      <td>51</td>\n",
       "      <td>C</td>\n",
       "      <td>71.0</td>\n",
       "      <td>2.0</td>\n",
       "      <td>Karen</td>\n",
       "      <td>Carson</td>\n",
       "    </tr>\n",
       "    <tr>\n",
       "      <th>6</th>\n",
       "      <td>Rhonda Wilcox</td>\n",
       "      <td>51</td>\n",
       "      <td>A</td>\n",
       "      <td>53.0</td>\n",
       "      <td>10.0</td>\n",
       "      <td>Rhonda</td>\n",
       "      <td>Wilcox</td>\n",
       "    </tr>\n",
       "  </tbody>\n",
       "</table>\n",
       "</div>"
      ],
      "text/plain": [
       "          Full Name  Age Category  Value  Count First Name Last Name\n",
       "1  Anthony Martinez   54        A   49.0    8.0    Anthony  Martinez\n",
       "2     Shawn Gilbert   39        B   64.0    3.0      Shawn   Gilbert\n",
       "3        Eric Ellis   35        A   35.0    4.0       Eric     Ellis\n",
       "5      Karen Carson   51        C   71.0    2.0      Karen    Carson\n",
       "6     Rhonda Wilcox   51        A   53.0   10.0     Rhonda    Wilcox"
      ]
     },
     "execution_count": 14,
     "metadata": {},
     "output_type": "execute_result"
    }
   ],
   "source": [
    "#Filter rows based on condition\n",
    "over30 = df1[df1['Age'] > 30]\n",
    "over30.head()"
   ]
  },
  {
   "cell_type": "code",
   "execution_count": 15,
   "id": "715128fe",
   "metadata": {},
   "outputs": [
    {
     "name": "stdout",
     "output_type": "stream",
     "text": [
      "            Full Name  Age Category  Value  Count First Name   Last Name\n",
      "56  Angela Oneill DDS   64        C   55.0    3.0     Angela  Oneill DDS\n",
      "47      Melissa Lewis   63        B   72.0    2.0    Melissa       Lewis\n",
      "14          Lisa Chen   61        B   41.0   10.0       Lisa        Chen\n",
      "31      Joshua Hughes   61        B   41.0    1.0     Joshua      Hughes\n",
      "34       Sandra Jones   61        C   32.0    6.0     Sandra       Jones\n",
      "..                ...  ...      ...    ...    ...        ...         ...\n",
      "9         Joshua Ware   19        A   81.0    4.0     Joshua        Ware\n",
      "83        Megan Brown   19        C   95.0    1.0      Megan       Brown\n",
      "81       Peter Hansen   19        C   55.0    4.0      Peter      Hansen\n",
      "40   Brenda Valentine   19        A   31.0    7.0     Brenda   Valentine\n",
      "53       Stanley Dean   18        A   30.0   10.0    Stanley        Dean\n",
      "\n",
      "[95 rows x 7 columns]\n"
     ]
    }
   ],
   "source": [
    "#Sorting by a column\n",
    "age_desc = df1.sort_values('Age', ascending=False)\n",
    "print(age_desc)"
   ]
  },
  {
   "cell_type": "code",
   "execution_count": 16,
   "id": "73738055",
   "metadata": {},
   "outputs": [
    {
     "name": "stdout",
     "output_type": "stream",
     "text": [
      "            Full Name  Age Category  Value  Count First Name   Last Name\n",
      "53       Stanley Dean   18        A   30.0   10.0    Stanley        Dean\n",
      "40   Brenda Valentine   19        A   31.0    7.0     Brenda   Valentine\n",
      "50      James Tran MD   19        B   15.0    1.0      James     Tran MD\n",
      "9         Joshua Ware   19        A   81.0    4.0     Joshua        Ware\n",
      "81       Peter Hansen   19        C   55.0    4.0      Peter      Hansen\n",
      "..                ...  ...      ...    ...    ...        ...         ...\n",
      "14          Lisa Chen   61        B   41.0   10.0       Lisa        Chen\n",
      "96       Linda Dalton   61        A   61.0    3.0      Linda      Dalton\n",
      "34       Sandra Jones   61        C   32.0    6.0     Sandra       Jones\n",
      "47      Melissa Lewis   63        B   72.0    2.0    Melissa       Lewis\n",
      "56  Angela Oneill DDS   64        C   55.0    3.0     Angela  Oneill DDS\n",
      "\n",
      "[95 rows x 7 columns]\n"
     ]
    }
   ],
   "source": [
    "age_asc = df1.sort_values('Age', ascending=True)\n",
    "print(age_asc)"
   ]
  },
  {
   "cell_type": "code",
   "execution_count": 15,
   "id": "f4276ff4",
   "metadata": {
    "tags": []
   },
   "outputs": [
    {
     "name": "stdout",
     "output_type": "stream",
     "text": [
      "   ID Economics Grade\n",
      "0   1               A\n",
      "1   2               B\n",
      "2   3               C\n",
      "3   4               D\n",
      "   ID Statistics Grade\n",
      "0   3                C\n",
      "1   4                D\n",
      "2   5                A\n",
      "3   6                F\n"
     ]
    }
   ],
   "source": [
    "#Merging data frames\n",
    "dfL = pd.DataFrame({'ID': [1, 2, 3, 4], 'Economics Grade': ['A', 'B', 'C','D']})\n",
    "dfR = pd.DataFrame({'ID': [3, 4, 5, 6], 'Statistics Grade': ['C', 'D', 'A','F']})\n",
    "print(dfL.head())\n",
    "print(dfR.head())"
   ]
  },
  {
   "cell_type": "code",
   "execution_count": 17,
   "id": "f979d20d",
   "metadata": {
    "tags": []
   },
   "outputs": [
    {
     "name": "stdout",
     "output_type": "stream",
     "text": [
      "   ID Economics Grade Statistics Grade\n",
      "0   3               C                C\n",
      "1   4               D                D\n"
     ]
    }
   ],
   "source": [
    "#Inner join\n",
    "inner_merged_df = pd.merge(dfL, dfR, on='ID', how='inner')\n",
    "print(inner_merged_df)"
   ]
  },
  {
   "cell_type": "code",
   "execution_count": 19,
   "id": "370197f2",
   "metadata": {
    "tags": []
   },
   "outputs": [
    {
     "name": "stdout",
     "output_type": "stream",
     "text": [
      "   ID Economics Grade Statistics Grade\n",
      "0   1               A              NaN\n",
      "1   2               B              NaN\n",
      "2   3               C                C\n",
      "3   4               D                D\n",
      "4   5             NaN                A\n",
      "5   6             NaN                F\n"
     ]
    }
   ],
   "source": [
    "#Outer join\n",
    "outer_merged_df = pd.merge(dfL, dfR, on='ID', how=\"outer\")\n",
    "print(outer_merged_df)"
   ]
  },
  {
   "cell_type": "code",
   "execution_count": 21,
   "id": "d0bd3ff3",
   "metadata": {
    "tags": []
   },
   "outputs": [
    {
     "name": "stdout",
     "output_type": "stream",
     "text": [
      "   ID Economics Grade Statistics Grade\n",
      "0   1               A              NaN\n",
      "1   2               B              NaN\n",
      "2   3               C                C\n",
      "3   4               D                D\n"
     ]
    }
   ],
   "source": [
    "#Left join\n",
    "left_merged_df = pd.merge(dfL, dfR, on='ID', how=\"left\")\n",
    "print(left_merged_df)"
   ]
  },
  {
   "cell_type": "code",
   "execution_count": 23,
   "id": "881359bc",
   "metadata": {
    "tags": []
   },
   "outputs": [
    {
     "name": "stdout",
     "output_type": "stream",
     "text": [
      "   ID Economics Grade Statistics Grade\n",
      "0   3               C                C\n",
      "1   4               D                D\n",
      "2   5             NaN                A\n",
      "3   6             NaN                F\n"
     ]
    }
   ],
   "source": [
    "#Right join\n",
    "right_merged_df = pd.merge(dfL, dfR, on='ID', how=\"right\")\n",
    "print(right_merged_df)"
   ]
  },
  {
   "cell_type": "code",
   "execution_count": 56,
   "id": "64637270",
   "metadata": {},
   "outputs": [
    {
     "name": "stdout",
     "output_type": "stream",
     "text": [
      "<class 'pandas.core.groupby.generic.DataFrameGroupBy'>\n",
      "<class 'pandas.core.groupby.generic.SeriesGroupBy'>\n",
      "          min  max       mean  median   sum\n",
      "Category                                   \n",
      "A          18   61  36.656250    36.0  1173\n",
      "B          19   63  44.103448    44.0  1279\n",
      "C          19   64  39.973684    40.5  1519\n",
      "          count       mean        std   min    25%   50%    75%   max\n",
      "Category                                                             \n",
      "A          32.0  36.656250  13.698621  18.0  22.75  36.0  47.75  61.0\n",
      "B          29.0  44.103448  13.620743  19.0  31.00  44.0  58.00  63.0\n",
      "C          38.0  39.973684  14.230699  19.0  24.25  40.5  51.75  64.0\n"
     ]
    }
   ],
   "source": [
    "#Aggregating / Grouping\n",
    "#Group by category and get mean value and count\n",
    "df_groupedby_cat = df1.groupby('Category') #Creates a dataframe groupby object\n",
    "print(type(df_groupedby_cat))\n",
    "\n",
    "df_groupedby_cat['Age'] #Groupby series object\n",
    "print(type(df_grouped['Age']))\n",
    "\n",
    "print(df_grouped['Age'].aggregate(['min','max','mean','median','sum'])) #Get select statistics by group\n",
    "print(df_grouped['Age'].describe()) #Get summary statistics by group"
   ]
  },
  {
   "cell_type": "code",
   "execution_count": 50,
   "id": "f9afb2c6",
   "metadata": {},
   "outputs": [
    {
     "data": {
      "text/html": [
       "<div>\n",
       "<style scoped>\n",
       "    .dataframe tbody tr th:only-of-type {\n",
       "        vertical-align: middle;\n",
       "    }\n",
       "\n",
       "    .dataframe tbody tr th {\n",
       "        vertical-align: top;\n",
       "    }\n",
       "\n",
       "    .dataframe thead tr th {\n",
       "        text-align: left;\n",
       "    }\n",
       "\n",
       "    .dataframe thead tr:last-of-type th {\n",
       "        text-align: right;\n",
       "    }\n",
       "</style>\n",
       "<table border=\"1\" class=\"dataframe\">\n",
       "  <thead>\n",
       "    <tr>\n",
       "      <th></th>\n",
       "      <th></th>\n",
       "      <th colspan=\"2\" halign=\"left\">Age</th>\n",
       "      <th colspan=\"2\" halign=\"left\">Count</th>\n",
       "    </tr>\n",
       "    <tr>\n",
       "      <th></th>\n",
       "      <th></th>\n",
       "      <th>min</th>\n",
       "      <th>max</th>\n",
       "      <th>min</th>\n",
       "      <th>max</th>\n",
       "    </tr>\n",
       "    <tr>\n",
       "      <th>Category</th>\n",
       "      <th>Type</th>\n",
       "      <th></th>\n",
       "      <th></th>\n",
       "      <th></th>\n",
       "      <th></th>\n",
       "    </tr>\n",
       "  </thead>\n",
       "  <tbody>\n",
       "    <tr>\n",
       "      <th rowspan=\"3\" valign=\"top\">A</th>\n",
       "      <th>FT</th>\n",
       "      <td>19</td>\n",
       "      <td>54</td>\n",
       "      <td>2.0</td>\n",
       "      <td>10.0</td>\n",
       "    </tr>\n",
       "    <tr>\n",
       "      <th>PT</th>\n",
       "      <td>19</td>\n",
       "      <td>61</td>\n",
       "      <td>2.0</td>\n",
       "      <td>10.0</td>\n",
       "    </tr>\n",
       "    <tr>\n",
       "      <th>Temp</th>\n",
       "      <td>18</td>\n",
       "      <td>59</td>\n",
       "      <td>2.0</td>\n",
       "      <td>10.0</td>\n",
       "    </tr>\n",
       "    <tr>\n",
       "      <th rowspan=\"3\" valign=\"top\">B</th>\n",
       "      <th>FT</th>\n",
       "      <td>29</td>\n",
       "      <td>61</td>\n",
       "      <td>1.0</td>\n",
       "      <td>8.0</td>\n",
       "    </tr>\n",
       "    <tr>\n",
       "      <th>PT</th>\n",
       "      <td>21</td>\n",
       "      <td>59</td>\n",
       "      <td>1.0</td>\n",
       "      <td>10.0</td>\n",
       "    </tr>\n",
       "    <tr>\n",
       "      <th>Temp</th>\n",
       "      <td>19</td>\n",
       "      <td>63</td>\n",
       "      <td>1.0</td>\n",
       "      <td>10.0</td>\n",
       "    </tr>\n",
       "    <tr>\n",
       "      <th rowspan=\"3\" valign=\"top\">C</th>\n",
       "      <th>FT</th>\n",
       "      <td>21</td>\n",
       "      <td>61</td>\n",
       "      <td>1.0</td>\n",
       "      <td>9.0</td>\n",
       "    </tr>\n",
       "    <tr>\n",
       "      <th>PT</th>\n",
       "      <td>19</td>\n",
       "      <td>60</td>\n",
       "      <td>1.0</td>\n",
       "      <td>8.0</td>\n",
       "    </tr>\n",
       "    <tr>\n",
       "      <th>Temp</th>\n",
       "      <td>19</td>\n",
       "      <td>64</td>\n",
       "      <td>1.0</td>\n",
       "      <td>10.0</td>\n",
       "    </tr>\n",
       "  </tbody>\n",
       "</table>\n",
       "</div>"
      ],
      "text/plain": [
       "              Age     Count      \n",
       "              min max   min   max\n",
       "Category Type                    \n",
       "A        FT    19  54   2.0  10.0\n",
       "         PT    19  61   2.0  10.0\n",
       "         Temp  18  59   2.0  10.0\n",
       "B        FT    29  61   1.0   8.0\n",
       "         PT    21  59   1.0  10.0\n",
       "         Temp  19  63   1.0  10.0\n",
       "C        FT    21  61   1.0   9.0\n",
       "         PT    19  60   1.0   8.0\n",
       "         Temp  19  64   1.0  10.0"
      ]
     },
     "execution_count": 50,
     "metadata": {},
     "output_type": "execute_result"
    }
   ],
   "source": [
    "#Multiple groups, variables, and statistics\n",
    "df1.groupby(['Category','Type']).aggregate({'Age':['min','max'],'Count':['min','max']})"
   ]
  },
  {
   "cell_type": "code",
   "execution_count": 23,
   "id": "7b7d143b",
   "metadata": {},
   "outputs": [
    {
     "name": "stdout",
     "output_type": "stream",
     "text": [
      "Count      1.0    2.0    3.0    4.0    5.0    6.0   7.0    8.0    9.0    10.0\n",
      "Category                                                                     \n",
      "A           NaN  150.0  156.0  234.0  227.0   45.0  83.0   55.0  177.0  286.0\n",
      "B         156.0  265.0  183.0    2.0   91.0  191.0  96.0  147.0  106.0  228.0\n",
      "C         177.0  141.0  140.0  291.0  447.0  148.0  97.0   53.0   16.0   19.0\n"
     ]
    }
   ],
   "source": [
    "#Pivot tables\n",
    "pivot_table = df1.pivot_table(values='Value', index='Category', columns='Count', aggfunc='sum')\n",
    "print(pivot_table)"
   ]
  },
  {
   "cell_type": "code",
   "execution_count": 24,
   "id": "b85eca1b",
   "metadata": {},
   "outputs": [],
   "source": [
    "#Write a data frame to a CSV file\n",
    "df_grouped.to_csv('output.csv', index=False)"
   ]
  },
  {
   "cell_type": "code",
   "execution_count": 25,
   "id": "d0bd28ee",
   "metadata": {},
   "outputs": [],
   "source": [
    "#Write a data frame to an Excel file\n",
    "df_grouped.to_excel('output.xlsx', index=False)"
   ]
  }
 ],
 "metadata": {
  "kernelspec": {
   "display_name": "Python 3 (ipykernel)",
   "language": "python",
   "name": "python3"
  },
  "language_info": {
   "codemirror_mode": {
    "name": "ipython",
    "version": 3
   },
   "file_extension": ".py",
   "mimetype": "text/x-python",
   "name": "python",
   "nbconvert_exporter": "python",
   "pygments_lexer": "ipython3",
   "version": "3.11.0"
  }
 },
 "nbformat": 4,
 "nbformat_minor": 5
}
