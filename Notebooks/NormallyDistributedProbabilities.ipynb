{
 "cells": [
  {
   "cell_type": "markdown",
   "id": "30eaaea5-8251-4055-ad09-233b17cfb8ba",
   "metadata": {},
   "source": [
    "# Normally Distributed Probabilities"
   ]
  },
  {
   "cell_type": "code",
   "execution_count": 58,
   "id": "94541ca2-b79e-4982-8f4c-7da878f6e4aa",
   "metadata": {},
   "outputs": [],
   "source": [
    "import numpy as np\n",
    "import pandas as pd\n",
    "df = pd.read_csv('incomes.csv')\n",
    "values = df['Income'].tolist()"
   ]
  },
  {
   "cell_type": "code",
   "execution_count": 59,
   "id": "48edb54d-0bac-4258-a696-5e77fd3bcda4",
   "metadata": {},
   "outputs": [
    {
     "name": "stdout",
     "output_type": "stream",
     "text": [
      "54975.40625\n",
      "15733.012904517396\n"
     ]
    }
   ],
   "source": [
    "mean = np.mean(values)\n",
    "print(mean)\n",
    "stdev = np.std(values)\n",
    "print(stdev)"
   ]
  },
  {
   "cell_type": "code",
   "execution_count": 60,
   "id": "76f6f599-e5ba-499f-ad8f-c37529bb8b7b",
   "metadata": {},
   "outputs": [
    {
     "name": "stdout",
     "output_type": "stream",
     "text": [
      "-0.3162398887101541\n"
     ]
    }
   ],
   "source": [
    "#Creating a Z score calculator / the standardize function from Excel\n",
    "def z_calc(x, mean, stdev):\n",
    "    diff = x - mean\n",
    "    z = diff / stdev\n",
    "    return z\n",
    "\n",
    "x = 50000\n",
    "z_score = z_calc(x,mean,stdev)\n",
    "print(z_score)"
   ]
  },
  {
   "cell_type": "code",
   "execution_count": 61,
   "id": "1676aa46-a174-43ab-92b0-2bf8175d542b",
   "metadata": {},
   "outputs": [
    {
     "name": "stdout",
     "output_type": "stream",
     "text": [
      "0.37591021664376195\n"
     ]
    }
   ],
   "source": [
    "#Z table values from Scipy's norm.cdf\n",
    "from scipy.stats import norm\n",
    "p_less_or_equal = norm.cdf(x,mean,stdev)\n",
    "print(p_less_or_equal)"
   ]
  },
  {
   "cell_type": "code",
   "execution_count": 62,
   "id": "cd5fba4c-b12f-4582-95e3-1180680613d6",
   "metadata": {},
   "outputs": [],
   "source": [
    "def prob_finder(values, x_or_low_x, test_type, high_x=0):\n",
    "    mean = np.mean(values)\n",
    "    stdev = np.std(values)\n",
    "    if test_type == \"x>\":\n",
    "        p = 1 - norm.cdf(x_or_low_x,mean,stdev)\n",
    "    elif test_type == \"x<\":\n",
    "        p = norm.cdf(x_or_low_x,mean,stdev)\n",
    "    elif test_type == \"<x<\":\n",
    "        p = norm.cdf(high_x,mean,stdev) - norm.cdf(x_or_low_x,mean,stdev)\n",
    "    else:\n",
    "        print(\"Unknown test type\")\n",
    "    return p\n",
    "    "
   ]
  },
  {
   "cell_type": "code",
   "execution_count": 63,
   "id": "5fcc8452-e1da-4f11-8d88-4317656c803c",
   "metadata": {},
   "outputs": [
    {
     "data": {
      "text/plain": [
       "0.37591021664376195"
      ]
     },
     "execution_count": 63,
     "metadata": {},
     "output_type": "execute_result"
    }
   ],
   "source": [
    "prob_finder(incomes, 50000, \"x<\")"
   ]
  },
  {
   "cell_type": "code",
   "execution_count": 64,
   "id": "371fedff-226f-4c48-9e8a-d84fc5adb2f0",
   "metadata": {},
   "outputs": [
    {
     "data": {
      "text/plain": [
       "0.624089783356238"
      ]
     },
     "execution_count": 64,
     "metadata": {},
     "output_type": "execute_result"
    }
   ],
   "source": [
    "prob_finder(incomes, 50000, \"x>\")"
   ]
  },
  {
   "cell_type": "code",
   "execution_count": 65,
   "id": "bdef1aa3-ff92-4529-84ea-d3f0a33747f9",
   "metadata": {},
   "outputs": [
    {
     "data": {
      "text/plain": [
       "0.45468807897565217"
      ]
     },
     "execution_count": 65,
     "metadata": {},
     "output_type": "execute_result"
    }
   ],
   "source": [
    "prob_finder(incomes,40000,\"<x<\",60000)"
   ]
  },
  {
   "cell_type": "code",
   "execution_count": 73,
   "id": "bc9fbe80-5349-45cb-b183-806e26ce172d",
   "metadata": {},
   "outputs": [
    {
     "name": "stdout",
     "output_type": "stream",
     "text": [
      "Test Statistic=0.9786182641983032, P=0.7585194706916809\n",
      "Fail to Reject H0 - Data are normally distributed\n"
     ]
    }
   ],
   "source": [
    "from scipy.stats import shapiro\n",
    "\n",
    "#Shapiro-Wilk test for normality\n",
    "stat, p = shapiro(values)\n",
    "\n",
    "print(f'Test Statistic={stat}, P={p}')\n",
    "\n",
    "alpha = 0.05\n",
    "\n",
    "if p > alpha:\n",
    "    print('Fail to Reject H0 - Data are normally distributed')\n",
    "else:\n",
    "    print('Reject H0 - Data are not normally distributed')"
   ]
  }
 ],
 "metadata": {
  "kernelspec": {
   "display_name": "Python 3 (ipykernel)",
   "language": "python",
   "name": "python3"
  },
  "language_info": {
   "codemirror_mode": {
    "name": "ipython",
    "version": 3
   },
   "file_extension": ".py",
   "mimetype": "text/x-python",
   "name": "python",
   "nbconvert_exporter": "python",
   "pygments_lexer": "ipython3",
   "version": "3.11.7"
  }
 },
 "nbformat": 4,
 "nbformat_minor": 5
}
