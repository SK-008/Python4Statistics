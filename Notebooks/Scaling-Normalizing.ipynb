{
 "cells": [
  {
   "cell_type": "code",
   "execution_count": 14,
   "id": "b707ba10-76cc-4026-a7d7-289cfc1d1662",
   "metadata": {
    "tags": []
   },
   "outputs": [
    {
     "name": "stdout",
     "output_type": "stream",
     "text": [
      "39.375\n",
      "21.44724632674321\n",
      "[-0.6702492143280597, -0.4371190528226476, -0.20398889131723558, 0.4954015931990007, -0.9033793758334718, -0.810127311231307, 0.16901936709142376, 2.360442885242297]\n"
     ]
    }
   ],
   "source": [
    "#Z-Score Normalization: Values are now in terms of standard deviations away from the series mean\n",
    "\n",
    "import numpy as np\n",
    "\n",
    "x_values = [25,30,35,50,20,22,43,90]\n",
    "\n",
    "mean = np.mean(x_values)\n",
    "stdev = np.std(x_values)\n",
    "\n",
    "print(mean)\n",
    "print(stdev)\n",
    "\n",
    "z_scores = []\n",
    "\n",
    "for i in x:\n",
    "    z = (i - mean) / stdev\n",
    "    z_scores.append(z)\n",
    "    \n",
    "print(z_scores)"
   ]
  },
  {
   "cell_type": "code",
   "execution_count": 20,
   "id": "7e169697-2c31-4ad6-883e-5fbac831badc",
   "metadata": {
    "tags": []
   },
   "outputs": [
    {
     "name": "stdout",
     "output_type": "stream",
     "text": [
      "[0.07142857142857142, 0.14285714285714285, 0.21428571428571427, 0.42857142857142855, 0.0, 0.02857142857142857, 0.32857142857142857, 1.0]\n"
     ]
    }
   ],
   "source": [
    "#Min-Max Rescaling: Minimum = 0, Maximum = 1\n",
    "\n",
    "x_values = [25,30,35,50,20,22,43,90]\n",
    "\n",
    "maximum = max(x_values)\n",
    "minimum = min(x_values)\n",
    "\n",
    "rescaled_values = []\n",
    "\n",
    "for i in x_values:\n",
    "    rv = (i - minimum) / (maximum - minimum)\n",
    "    rescaled_values.append(rv)\n",
    "\n",
    "print(rescaled_values)"
   ]
  },
  {
   "cell_type": "code",
   "execution_count": 26,
   "id": "854085b5-92ec-4fd0-9cc5-af02c11f15a5",
   "metadata": {
    "tags": []
   },
   "outputs": [
    {
     "name": "stdout",
     "output_type": "stream",
     "text": [
      "[-0.8571428571428572, -0.7142857142857143, -0.5714285714285714, -0.1428571428571429, -1.0, -0.9428571428571428, -0.34285714285714286, 1.0]\n"
     ]
    }
   ],
   "source": [
    "#Min-Max Rescaling - Minimum = -1, Maximum = 1\n",
    "\n",
    "x_values = [25,30,35,50,20,22,43,90]\n",
    "\n",
    "maximum = max(x_values)\n",
    "minimum = min(x_values)\n",
    "\n",
    "rescaled_values = []\n",
    "\n",
    "for i in x_values:\n",
    "    rv = 2 * ((i - minimum) / (maximum - minimum)) - 1\n",
    "    rescaled_values.append(rv)\n",
    "\n",
    "print(rescaled_values)"
   ]
  }
 ],
 "metadata": {
  "kernelspec": {
   "display_name": "Python 3 (ipykernel)",
   "language": "python",
   "name": "python3"
  },
  "language_info": {
   "codemirror_mode": {
    "name": "ipython",
    "version": 3
   },
   "file_extension": ".py",
   "mimetype": "text/x-python",
   "name": "python",
   "nbconvert_exporter": "python",
   "pygments_lexer": "ipython3",
   "version": "3.11.7"
  }
 },
 "nbformat": 4,
 "nbformat_minor": 5
}
