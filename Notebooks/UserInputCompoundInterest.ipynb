{
 "cells": [
  {
   "cell_type": "code",
   "execution_count": 46,
   "id": "7c8926d0-f584-4640-8c5b-e4b12a3d80ce",
   "metadata": {},
   "outputs": [
    {
     "name": "stdin",
     "output_type": "stream",
     "text": [
      "What is your anticipated real interest rate? 7\n",
      "What is your current age? 18\n",
      "What is your anticipated retirment age? 70\n",
      "What is your current retirement savings? 0\n",
      "What is your expected monthly contribution? 300\n"
     ]
    }
   ],
   "source": [
    "interest_rate = float(input('What is your anticipated real interest rate?'))/100\n",
    "current_age = int(input('What is your current age?'))\n",
    "retirement_age = int(input('What is your anticipated retirment age?'))\n",
    "starting_amount = int(input('What is your current retirement savings?'))\n",
    "monthly_contribution = int(input('What is your expected monthly contribution?'))\n",
    "#variation = int(input('How much variation do you want to account for?'))\n",
    "time_span = retirement_age - current_age"
   ]
  },
  {
   "cell_type": "code",
   "execution_count": 52,
   "id": "8af75bfc-f9af-485b-a9d9-cd457295e246",
   "metadata": {},
   "outputs": [
    {
     "name": "stdout",
     "output_type": "stream",
     "text": [
      "Current Age:19 - Amount Saved:$3852\n",
      "Current Age:20 - Amount Saved:$7973\n",
      "Current Age:21 - Amount Saved:$12383\n",
      "Current Age:22 - Amount Saved:$17101\n",
      "Current Age:23 - Amount Saved:$22150\n",
      "Current Age:24 - Amount Saved:$27552\n",
      "Current Age:25 - Amount Saved:$33332\n",
      "Current Age:26 - Amount Saved:$39517\n",
      "Current Age:27 - Amount Saved:$46135\n",
      "Current Age:28 - Amount Saved:$53216\n",
      "Current Age:29 - Amount Saved:$60793\n",
      "Current Age:30 - Amount Saved:$68900\n",
      "Current Age:31 - Amount Saved:$77575\n",
      "Current Age:32 - Amount Saved:$86857\n",
      "Current Age:33 - Amount Saved:$96788\n",
      "Current Age:34 - Amount Saved:$107415\n",
      "Current Age:35 - Amount Saved:$118786\n",
      "Current Age:36 - Amount Saved:$130953\n",
      "Current Age:37 - Amount Saved:$143971\n",
      "Current Age:38 - Amount Saved:$157900\n",
      "Current Age:39 - Amount Saved:$172805\n",
      "Current Age:40 - Amount Saved:$188753\n",
      "Current Age:41 - Amount Saved:$205817\n",
      "Current Age:42 - Amount Saved:$224076\n",
      "Current Age:43 - Amount Saved:$243613\n",
      "Current Age:44 - Amount Saved:$264517\n",
      "Current Age:45 - Amount Saved:$286885\n",
      "Current Age:46 - Amount Saved:$310818\n",
      "Current Age:47 - Amount Saved:$336427\n",
      "Current Age:48 - Amount Saved:$363828\n",
      "Current Age:49 - Amount Saved:$393147\n",
      "Current Age:50 - Amount Saved:$424519\n",
      "Current Age:51 - Amount Saved:$458087\n",
      "Current Age:52 - Amount Saved:$494005\n",
      "Current Age:53 - Amount Saved:$532437\n",
      "Current Age:54 - Amount Saved:$573559\n",
      "Current Age:55 - Amount Saved:$617560\n",
      "Current Age:56 - Amount Saved:$664641\n",
      "Current Age:57 - Amount Saved:$715017\n",
      "Current Age:58 - Amount Saved:$768920\n",
      "Current Age:59 - Amount Saved:$826596\n",
      "Current Age:60 - Amount Saved:$888309\n",
      "Current Age:61 - Amount Saved:$954342\n",
      "Current Age:62 - Amount Saved:$1024997\n",
      "Current Age:63 - Amount Saved:$1100598\n",
      "Current Age:64 - Amount Saved:$1181491\n",
      "Current Age:65 - Amount Saved:$1268047\n",
      "Current Age:66 - Amount Saved:$1360662\n",
      "Current Age:67 - Amount Saved:$1459760\n",
      "Current Age:68 - Amount Saved:$1565795\n",
      "Current Age:69 - Amount Saved:$1679252\n",
      "Current Age:70 - Amount Saved:$1800651\n",
      "Current Age:71 - Amount Saved:$1930548\n",
      "Current Age:72 - Amount Saved:$2069538\n",
      "Current Age:73 - Amount Saved:$2218257\n",
      "Current Age:74 - Amount Saved:$2377386\n",
      "Current Age:75 - Amount Saved:$2547655\n"
     ]
    }
   ],
   "source": [
    "#interest_rate = 0.07\n",
    "#current_age = 18\n",
    "#retirement_age = 75\n",
    "#starting_amount = 0\n",
    "#monthly_contribution = 300\n",
    "#time_span = retirement_age - current_age\n",
    "\n",
    "for i in range(time_span):\n",
    "    current_age += 1\n",
    "    starting_amount += (monthly_contribution * 12)\n",
    "    starting_amount = starting_amount * (1 + r)\n",
    "    starting_amount = int(starting_amount)\n",
    "    print(f'Current Age:{current_age} - Amount Saved:${starting_amount}')"
   ]
  }
 ],
 "metadata": {
  "kernelspec": {
   "display_name": "Python 3 (ipykernel)",
   "language": "python",
   "name": "python3"
  },
  "language_info": {
   "codemirror_mode": {
    "name": "ipython",
    "version": 3
   },
   "file_extension": ".py",
   "mimetype": "text/x-python",
   "name": "python",
   "nbconvert_exporter": "python",
   "pygments_lexer": "ipython3",
   "version": "3.11.5"
  }
 },
 "nbformat": 4,
 "nbformat_minor": 5
}
