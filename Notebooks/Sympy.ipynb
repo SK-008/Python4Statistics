{
 "cells": [
  {
   "cell_type": "code",
   "execution_count": 2,
   "id": "a132717b-0e64-43fc-886c-617f3e131392",
   "metadata": {},
   "outputs": [],
   "source": [
    "import sympy as sp\n",
    "\n",
    "#Allows for prettier printing \n",
    "#sp.init_printing()\n",
    "\n",
    "#Declaring variables\n",
    "x, y = sp.symbols('x y')"
   ]
  },
  {
   "cell_type": "code",
   "execution_count": 2,
   "id": "d844d634-1cff-45d1-8da5-2ee55730e670",
   "metadata": {},
   "outputs": [
    {
     "name": "stdout",
     "output_type": "stream",
     "text": [
      "x + 1\n"
     ]
    }
   ],
   "source": [
    "#Simplifying expressions\n",
    "expr = (x**2 + 2*x + 1) / (x + 1)\n",
    "simplified_expr = sp.simplify(expr)\n",
    "sp.pprint(simplified_expr)"
   ]
  },
  {
   "cell_type": "code",
   "execution_count": 6,
   "id": "217cc75e-094d-4df2-aec8-f9b20b6bf6cc",
   "metadata": {},
   "outputs": [
    {
     "name": "stdout",
     "output_type": "stream",
     "text": [
      "[-√2, √2]\n"
     ]
    }
   ],
   "source": [
    "#Solving equations\n",
    "equation = x**2 - 2\n",
    "solutions = sp.solve(equation, x)\n",
    "sp.pprint(solutions)"
   ]
  },
  {
   "cell_type": "code",
   "execution_count": 8,
   "id": "86d6e93d-fd95-4923-baed-c8f6fb84bce5",
   "metadata": {},
   "outputs": [
    {
     "name": "stdout",
     "output_type": "stream",
     "text": [
      "{x: 7/5, y: -8/5}\n"
     ]
    }
   ],
   "source": [
    "#Solving systems of equations\n",
    "eq1 = sp.Eq(3*x + 2*y, 1)\n",
    "eq2 = sp.Eq(x - y, 3)\n",
    "solution = sp.solve((eq1, eq2), (x, y))\n",
    "sp.pprint(solution)"
   ]
  },
  {
   "cell_type": "code",
   "execution_count": 3,
   "id": "136b0732-454a-41d4-bbec-0e739f437c69",
   "metadata": {},
   "outputs": [
    {
     "name": "stdout",
     "output_type": "stream",
     "text": [
      "       ⎛ 2⎞\n",
      "2⋅x⋅cos⎝x ⎠\n"
     ]
    }
   ],
   "source": [
    "#Differentiation\n",
    "f = sp.sin(x**2)\n",
    "df = sp.diff(f, x)\n",
    "sp.pprint(df)"
   ]
  },
  {
   "cell_type": "code",
   "execution_count": 4,
   "id": "7f3094c3-db44-4146-9179-7506626c780b",
   "metadata": {},
   "outputs": [
    {
     "name": "stdout",
     "output_type": "stream",
     "text": [
      "√π\n"
     ]
    }
   ],
   "source": [
    "#Integration \n",
    "g = sp.exp(-x**2)\n",
    "integral = sp.integrate(g, (x, -sp.oo, sp.oo))\n",
    "sp.pprint(integral)"
   ]
  },
  {
   "cell_type": "code",
   "execution_count": 6,
   "id": "bab5d72b-5a88-45aa-88d7-d836adb0d51d",
   "metadata": {},
   "outputs": [
    {
     "name": "stdout",
     "output_type": "stream",
     "text": [
      "Matrix sum:\n",
      "⎡6   8 ⎤\n",
      "⎢      ⎥\n",
      "⎣10  12⎦\n",
      "Matrix product:\n",
      "⎡19  22⎤\n",
      "⎢      ⎥\n",
      "⎣43  50⎦\n",
      "Matrix inverse:\n",
      "⎡-2    1  ⎤\n",
      "⎢         ⎥\n",
      "⎣3/2  -1/2⎦\n"
     ]
    }
   ],
   "source": [
    "#Matrix operations\n",
    "A = sp.Matrix([[1, 2], [3, 4]])\n",
    "B = sp.Matrix([[5, 6], [7, 8]])\n",
    "\n",
    "matrix_sum = A + B\n",
    "matrix_product = A * B\n",
    "matrix_inverse = A.inv()\n",
    "\n",
    "print(\"Matrix sum:\")\n",
    "sp.pprint(matrix_sum)\n",
    "print(\"Matrix product:\")\n",
    "sp.pprint(matrix_product)\n",
    "print(\"Matrix inverse:\")\n",
    "sp.pprint(matrix_inverse)"
   ]
  },
  {
   "cell_type": "code",
   "execution_count": 16,
   "id": "96946934-f77a-43b8-b0b9-3dcf99377a32",
   "metadata": {},
   "outputs": [
    {
     "ename": "AttributeError",
     "evalue": "module 'sympy' has no attribute 'maximize'",
     "output_type": "error",
     "traceback": [
      "\u001b[0;31m---------------------------------------------------------------------------\u001b[0m",
      "\u001b[0;31mAttributeError\u001b[0m                            Traceback (most recent call last)",
      "Cell \u001b[0;32mIn[16], line 7\u001b[0m\n\u001b[1;32m      4\u001b[0m \u001b[38;5;66;03m#Constraint\u001b[39;00m\n\u001b[1;32m      5\u001b[0m constraint \u001b[38;5;241m=\u001b[39m x \u001b[38;5;241m+\u001b[39m y \u001b[38;5;241m-\u001b[39m \u001b[38;5;241m1\u001b[39m\n\u001b[0;32m----> 7\u001b[0m solution \u001b[38;5;241m=\u001b[39m \u001b[43msp\u001b[49m\u001b[38;5;241;43m.\u001b[39;49m\u001b[43mmaximize\u001b[49m(f, constraint)\n\u001b[1;32m      9\u001b[0m max_value \u001b[38;5;241m=\u001b[39m solution\u001b[38;5;241m.\u001b[39mfun\n\u001b[1;32m     10\u001b[0m x_val, y_val \u001b[38;5;241m=\u001b[39m solution\u001b[38;5;241m.\u001b[39mx[\u001b[38;5;241m0\u001b[39m], solution\u001b[38;5;241m.\u001b[39mx[\u001b[38;5;241m1\u001b[39m]\n",
      "\u001b[0;31mAttributeError\u001b[0m: module 'sympy' has no attribute 'maximize'"
     ]
    }
   ],
   "source": [
    "#Function to maximize\n",
    "f = x * y\n",
    "\n",
    "#Constraint\n",
    "constraint = x + y - 1\n",
    "\n",
    "solution = sp.maximize(f, constraint)\n",
    "\n",
    "max_value = solution.fun\n",
    "x_val, y_val = solution.x[0], solution.x[1]\n",
    "\n",
    "print(\"Maximum value:\", max_value)\n",
    "print(\"x:\", x_val)\n",
    "print(\"y:\", y_val)"
   ]
  }
 ],
 "metadata": {
  "kernelspec": {
   "display_name": "Python 3 (ipykernel)",
   "language": "python",
   "name": "python3"
  },
  "language_info": {
   "codemirror_mode": {
    "name": "ipython",
    "version": 3
   },
   "file_extension": ".py",
   "mimetype": "text/x-python",
   "name": "python",
   "nbconvert_exporter": "python",
   "pygments_lexer": "ipython3",
   "version": "3.10.9"
  }
 },
 "nbformat": 4,
 "nbformat_minor": 5
}
