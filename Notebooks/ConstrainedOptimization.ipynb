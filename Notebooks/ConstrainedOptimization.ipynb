{
 "cells": [
  {
   "cell_type": "markdown",
   "id": "b0f1ece1-6501-421e-b293-11c271ef6693",
   "metadata": {},
   "source": [
    "# Constrained Optimization\n",
    "## Maximizing or minimizing, given limitations / rules"
   ]
  },
  {
   "cell_type": "code",
   "execution_count": 3,
   "id": "7a2d6b95-c707-4c12-bba4-35f625a26fd7",
   "metadata": {
    "tags": []
   },
   "outputs": [],
   "source": [
    "#Constrained Optimization with scipy linprog\n",
    "import numpy as np\n",
    "from scipy.optimize import linprog"
   ]
  },
  {
   "cell_type": "code",
   "execution_count": 13,
   "id": "213be079-64eb-43fd-9901-657d3a7d6b1e",
   "metadata": {
    "tags": []
   },
   "outputs": [],
   "source": [
    "#Objective Function: What we are trying to maximize\n",
    "#Profit = 40X + 30Y\n",
    "#Coefficients of the objective function \n",
    "c = [-40, -30]  # Profit per product for products A and B (negative because linprog uses minimization)"
   ]
  },
  {
   "cell_type": "code",
   "execution_count": 13,
   "id": "6b9b8d94-8a96-42ab-9132-52b8201e095a",
   "metadata": {
    "tags": []
   },
   "outputs": [],
   "source": [
    "#Constraints: What are the rules?\n",
    "\n",
    "#Coefficients for the inequality constraints\n",
    "A = [\n",
    "    [2, 1],  #Labor constraint coefficients: product A takes 2 hours of labor, product B takes 1\n",
    "    [3, 2]   #Material constraint coefficients: product A takes 3 units of material, product B takes 2\n",
    "]\n",
    "\n",
    "#Total available labor and material: 100 hours of labor and 150 units of material\n",
    "b = [100, 150]  \n",
    "\n",
    "#Minimum and maximum bounds for the decision variables \n",
    "x_bounds = (0, None)  # Product A \n",
    "y_bounds = (0, None)  # Product B"
   ]
  },
  {
   "cell_type": "code",
   "execution_count": 13,
   "id": "e77fd590-89e5-4337-b086-a0672648f537",
   "metadata": {
    "tags": []
   },
   "outputs": [
    {
     "name": "stdout",
     "output_type": "stream",
     "text": [
      "Optimal solution (units of Product A and B): [ 0. 75.]\n",
      "Maximum profit: 2250.0\n"
     ]
    }
   ],
   "source": [
    "#Perform the optimization\n",
    "result = linprog(c, A_ub=A, b_ub=b, bounds=[x_bounds, y_bounds], method='highs')\n",
    "print(\"Optimal solution (units of Product A and B):\", result.x)\n",
    "print(\"Maximum profit:\", -result.fun) #Negative since minimized"
   ]
  },
  {
   "cell_type": "code",
   "execution_count": 15,
   "id": "f267ece2-256b-4434-945b-6d580ddd65bf",
   "metadata": {
    "tags": []
   },
   "outputs": [
    {
     "name": "stdout",
     "output_type": "stream",
     "text": [
      "Optimal solution (units of Product A and B): [10. 60.]\n",
      "Maximum profit: 2200.0\n"
     ]
    }
   ],
   "source": [
    "#What happens if we cap product be at 60 instead of the optimal quantity of 75\n",
    "x_bounds = (0, None)  # Product A \n",
    "y_bounds = (0, 60)  # Product B\n",
    "\n",
    "result = linprog(c, A_ub=A, b_ub=b, bounds=[x_bounds, y_bounds], method='highs')\n",
    "print(\"Optimal solution (units of Product A and B):\", result.x)\n",
    "print(\"Maximum profit:\", -result.fun) #Negative since minimized"
   ]
  },
  {
   "cell_type": "code",
   "execution_count": 73,
   "id": "8ce40a69-6617-4df0-b6be-5b87cd88414a",
   "metadata": {
    "tags": []
   },
   "outputs": [
    {
     "name": "stdout",
     "output_type": "stream",
     "text": [
      "Optimal value of x: 120.00004005434806\n",
      "Optimal value of y: 29.99998998641298\n",
      "Maximum utility: 3601.9999999995985\n"
     ]
    }
   ],
   "source": [
    "#Constrained optimization with scipy minimize\n",
    "from scipy.optimize import minimize\n",
    "\n",
    "#Utility function\n",
    "def utility(x, y):\n",
    "  return x * y \n",
    "\n",
    "#Constraint function \n",
    "def constraint(x, y):\n",
    "  return x + 4 * y - 240\n",
    "\n",
    "#Initial guess for x and y\n",
    "x0 = np.array([60, 45])  #Modify this for different starting points\n",
    "#x0 = np.array([100, 20])  # Modify this for different starting points\n",
    "\n",
    "\n",
    "#Solve optimization problem\n",
    "result = minimize(lambda xy: -utility(xy[0], xy[1]), x0, \n",
    "                  method='SLSQP', \n",
    "                  constraints={'type': 'eq', 'fun': lambda xy: constraint(xy[0], xy[1])})\n",
    "\n",
    "#Print optimal values and utility\n",
    "print(\"Optimal value of x:\", result.x[0])\n",
    "print(\"Optimal value of y:\", result.x[1])\n",
    "print(\"Maximum utility:\", -result.fun)"
   ]
  }
 ],
 "metadata": {
  "kernelspec": {
   "display_name": "Python 3 (ipykernel)",
   "language": "python",
   "name": "python3"
  },
  "language_info": {
   "codemirror_mode": {
    "name": "ipython",
    "version": 3
   },
   "file_extension": ".py",
   "mimetype": "text/x-python",
   "name": "python",
   "nbconvert_exporter": "python",
   "pygments_lexer": "ipython3",
   "version": "3.11.7"
  }
 },
 "nbformat": 4,
 "nbformat_minor": 5
}
