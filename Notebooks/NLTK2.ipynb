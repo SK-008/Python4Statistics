{
 "cells": [
  {
   "cell_type": "code",
   "execution_count": 26,
   "id": "ec102878-3b97-4bbd-8b4c-d105c800382c",
   "metadata": {
    "tags": []
   },
   "outputs": [],
   "source": [
    "import re\n",
    "from nltk.tokenize import word_tokenize\n",
    "from nltk.tokenize import sent_tokenize\n",
    "from nltk.corpus import stopwords "
   ]
  },
  {
   "cell_type": "code",
   "execution_count": 8,
   "id": "bdf19917-eebd-473c-b1ad-8f6516bf9a14",
   "metadata": {
    "tags": []
   },
   "outputs": [
    {
     "name": "stdout",
     "output_type": "stream",
     "text": [
      "['This', 'is', 'a', 'text', 'string', '.']\n"
     ]
    }
   ],
   "source": [
    "s1 = \"This is a text string.\"     \n",
    "t1 = word_tokenize(s1)\n",
    "print(t1)"
   ]
  },
  {
   "cell_type": "code",
   "execution_count": 14,
   "id": "2e0a2196-f5d2-48fe-a749-71b0a9152ce5",
   "metadata": {
    "tags": []
   },
   "outputs": [
    {
     "name": "stdout",
     "output_type": "stream",
     "text": [
      "['This is a text string.', 'This is another.', 'Here is a third one.']\n"
     ]
    }
   ],
   "source": [
    "s2 = \"This is a text string.  This is another.  Here is a third one.\"     \n",
    "t2 = sent_tokenize(s2)\n",
    "print(t2)"
   ]
  },
  {
   "cell_type": "code",
   "execution_count": 20,
   "id": "50833f04-fbb1-46e1-a1fa-48ef2b59f8f8",
   "metadata": {
    "tags": []
   },
   "outputs": [
    {
     "name": "stdout",
     "output_type": "stream",
     "text": [
      "MIXED CASE TEXT STRING\n",
      "mixed case text string\n"
     ]
    }
   ],
   "source": [
    "s3 = \"Mixed CASE text StRiNg\"\n",
    "s3u = s3.upper()\n",
    "s3l = s3.lower()\n",
    "print(s3u)\n",
    "print(s3l)"
   ]
  },
  {
   "cell_type": "code",
   "execution_count": 34,
   "id": "f05e3717-f8ff-4fd0-9bc3-d2eaf074646f",
   "metadata": {
    "tags": []
   },
   "outputs": [
    {
     "data": {
      "text/plain": [
       "['This',\n",
       " 'sentence',\n",
       " 'interesting',\n",
       " 'useful',\n",
       " 'one',\n",
       " 'demonstration',\n",
       " 'purposes',\n",
       " '.']"
      ]
     },
     "execution_count": 34,
     "metadata": {},
     "output_type": "execute_result"
    }
   ],
   "source": [
    "stop_words = set(stopwords.words('english')) \n",
    "string = \"This sentence is not very interesting but it is a useful one for demonstration purposes.\"\n",
    "words = word_tokenize(string)\n",
    "\n",
    "non_stop_words = []\n",
    "for i in words:\n",
    "    if i not in stop_words:\n",
    "        non_stop_words.append(i)\n",
    "\n",
    "non_stop_words"
   ]
  }
 ],
 "metadata": {
  "kernelspec": {
   "display_name": "Python 3 (ipykernel)",
   "language": "python",
   "name": "python3"
  },
  "language_info": {
   "codemirror_mode": {
    "name": "ipython",
    "version": 3
   },
   "file_extension": ".py",
   "mimetype": "text/x-python",
   "name": "python",
   "nbconvert_exporter": "python",
   "pygments_lexer": "ipython3",
   "version": "3.11.7"
  }
 },
 "nbformat": 4,
 "nbformat_minor": 5
}
