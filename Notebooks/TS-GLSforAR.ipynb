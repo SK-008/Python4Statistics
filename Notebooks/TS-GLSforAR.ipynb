{
 "cells": [
  {
   "cell_type": "markdown",
   "id": "d3d109bb-20bb-4413-9e7f-d529515f8ba0",
   "metadata": {},
   "source": [
    "# Generalized Least Squares for Autocorrelation"
   ]
  },
  {
   "cell_type": "code",
   "execution_count": 2,
   "id": "90b44556-d0b0-45d0-8f3c-b280ef54a560",
   "metadata": {
    "tags": []
   },
   "outputs": [],
   "source": [
    "import pandas as pd\n",
    "import numpy as np\n",
    "import statsmodels.api as sm\n",
    "import matplotlib.pyplot as plt"
   ]
  },
  {
   "cell_type": "code",
   "execution_count": 3,
   "id": "a5955326-025a-4f4c-85ec-817b53a3bc07",
   "metadata": {
    "tags": []
   },
   "outputs": [
    {
     "data": {
      "text/plain": [
       "MonthYear              object\n",
       "TotalSales              int64\n",
       "AverageTemperature      int64\n",
       "TotalPrecip             int64\n",
       "LocalUE               float64\n",
       "Recession               int64\n",
       "Confidence            float64\n",
       "TERMCBAUTO48NS        float64\n",
       "UsedCPI               float64\n",
       "SandP500              float64\n",
       "DisposibleIncome      float64\n",
       "GasPrice              float64\n",
       "FederalFunds          float64\n",
       "Covid                   int64\n",
       "GAUsers                 int64\n",
       "GAPageviews             int64\n",
       "Leads                   int64\n",
       "BOBBDC                  int64\n",
       "NewInventory            int64\n",
       "UsedInventory           int64\n",
       "TotalInventory          int64\n",
       "q2                      int64\n",
       "q3                      int64\n",
       "q4                      int64\n",
       "demand                  int64\n",
       "dtype: object"
      ]
     },
     "execution_count": 3,
     "metadata": {},
     "output_type": "execute_result"
    }
   ],
   "source": [
    "df = pd.read_csv('../data/SalesData.csv') #Switch to \"SalesData.csv\" for autocorrelation example\n",
    "df.head()\n",
    "df.dtypes"
   ]
  },
  {
   "cell_type": "code",
   "execution_count": 10,
   "id": "a9cba57d-ff95-4fe6-aeb9-01f001d41e85",
   "metadata": {
    "tags": []
   },
   "outputs": [],
   "source": [
    "xvars = ['AverageTemperature', 'TotalPrecip', 'LocalUE', 'GAUsers', 'Recession', 'TERMCBAUTO48NS', 'UsedCPI', 'BOBBDC', 'TotalInventory', 'q2', 'q3', 'q4']\n",
    "xvars = ['AverageTemperature', 'TotalPrecip', 'LocalUE', 'GAUsers', 'Recession', 'TERMCBAUTO48NS']\n",
    "X = df[xvars]\n",
    "y = df['TotalSales']"
   ]
  },
  {
   "cell_type": "code",
   "execution_count": 12,
   "id": "a359eb14-ff36-4b20-b24f-069b6b27fbd4",
   "metadata": {
    "tags": []
   },
   "outputs": [
    {
     "data": {
      "text/html": [
       "<table class=\"simpletable\">\n",
       "<caption>OLS Regression Results</caption>\n",
       "<tr>\n",
       "  <th>Dep. Variable:</th>       <td>TotalSales</td>    <th>  R-squared (uncentered):</th>      <td>   0.950</td>\n",
       "</tr>\n",
       "<tr>\n",
       "  <th>Model:</th>                   <td>OLS</td>       <th>  Adj. R-squared (uncentered):</th> <td>   0.948</td>\n",
       "</tr>\n",
       "<tr>\n",
       "  <th>Method:</th>             <td>Least Squares</td>  <th>  F-statistic:       </th>          <td>   404.4</td>\n",
       "</tr>\n",
       "<tr>\n",
       "  <th>Date:</th>             <td>Tue, 23 Jul 2024</td> <th>  Prob (F-statistic):</th>          <td>3.32e-80</td>\n",
       "</tr>\n",
       "<tr>\n",
       "  <th>Time:</th>                 <td>17:43:16</td>     <th>  Log-Likelihood:    </th>          <td> -638.19</td>\n",
       "</tr>\n",
       "<tr>\n",
       "  <th>No. Observations:</th>      <td>   133</td>      <th>  AIC:               </th>          <td>   1288.</td>\n",
       "</tr>\n",
       "<tr>\n",
       "  <th>Df Residuals:</th>          <td>   127</td>      <th>  BIC:               </th>          <td>   1306.</td>\n",
       "</tr>\n",
       "<tr>\n",
       "  <th>Df Model:</th>              <td>     6</td>      <th>                     </th>              <td> </td>   \n",
       "</tr>\n",
       "<tr>\n",
       "  <th>Covariance Type:</th>      <td>nonrobust</td>    <th>                     </th>              <td> </td>   \n",
       "</tr>\n",
       "</table>\n",
       "<table class=\"simpletable\">\n",
       "<tr>\n",
       "           <td></td>             <th>coef</th>     <th>std err</th>      <th>t</th>      <th>P>|t|</th>  <th>[0.025</th>    <th>0.975]</th>  \n",
       "</tr>\n",
       "<tr>\n",
       "  <th>AverageTemperature</th> <td>    0.3420</td> <td>    0.156</td> <td>    2.196</td> <td> 0.030</td> <td>    0.034</td> <td>    0.650</td>\n",
       "</tr>\n",
       "<tr>\n",
       "  <th>TotalPrecip</th>        <td>    0.1004</td> <td>    0.032</td> <td>    3.185</td> <td> 0.002</td> <td>    0.038</td> <td>    0.163</td>\n",
       "</tr>\n",
       "<tr>\n",
       "  <th>LocalUE</th>            <td>    1.4792</td> <td>    1.256</td> <td>    1.177</td> <td> 0.241</td> <td>   -1.007</td> <td>    3.965</td>\n",
       "</tr>\n",
       "<tr>\n",
       "  <th>GAUsers</th>            <td>    0.0009</td> <td>    0.000</td> <td>    2.543</td> <td> 0.012</td> <td>    0.000</td> <td>    0.002</td>\n",
       "</tr>\n",
       "<tr>\n",
       "  <th>Recession</th>          <td>  -21.4657</td> <td>   22.034</td> <td>   -0.974</td> <td> 0.332</td> <td>  -65.067</td> <td>   22.135</td>\n",
       "</tr>\n",
       "<tr>\n",
       "  <th>TERMCBAUTO48NS</th>     <td>   14.7616</td> <td>    2.043</td> <td>    7.225</td> <td> 0.000</td> <td>   10.719</td> <td>   18.805</td>\n",
       "</tr>\n",
       "</table>\n",
       "<table class=\"simpletable\">\n",
       "<tr>\n",
       "  <th>Omnibus:</th>       <td> 3.988</td> <th>  Durbin-Watson:     </th> <td>   0.733</td>\n",
       "</tr>\n",
       "<tr>\n",
       "  <th>Prob(Omnibus):</th> <td> 0.136</td> <th>  Jarque-Bera (JB):  </th> <td>   3.999</td>\n",
       "</tr>\n",
       "<tr>\n",
       "  <th>Skew:</th>          <td> 0.391</td> <th>  Prob(JB):          </th> <td>   0.135</td>\n",
       "</tr>\n",
       "<tr>\n",
       "  <th>Kurtosis:</th>      <td> 2.669</td> <th>  Cond. No.          </th> <td>1.26e+05</td>\n",
       "</tr>\n",
       "</table><br/><br/>Notes:<br/>[1] R² is computed without centering (uncentered) since the model does not contain a constant.<br/>[2] Standard Errors assume that the covariance matrix of the errors is correctly specified.<br/>[3] The condition number is large, 1.26e+05. This might indicate that there are<br/>strong multicollinearity or other numerical problems."
      ],
      "text/latex": [
       "\\begin{center}\n",
       "\\begin{tabular}{lclc}\n",
       "\\toprule\n",
       "\\textbf{Dep. Variable:}     &    TotalSales    & \\textbf{  R-squared (uncentered):}      &     0.950   \\\\\n",
       "\\textbf{Model:}             &       OLS        & \\textbf{  Adj. R-squared (uncentered):} &     0.948   \\\\\n",
       "\\textbf{Method:}            &  Least Squares   & \\textbf{  F-statistic:       }          &     404.4   \\\\\n",
       "\\textbf{Date:}              & Tue, 23 Jul 2024 & \\textbf{  Prob (F-statistic):}          &  3.32e-80   \\\\\n",
       "\\textbf{Time:}              &     17:43:16     & \\textbf{  Log-Likelihood:    }          &   -638.19   \\\\\n",
       "\\textbf{No. Observations:}  &         133      & \\textbf{  AIC:               }          &     1288.   \\\\\n",
       "\\textbf{Df Residuals:}      &         127      & \\textbf{  BIC:               }          &     1306.   \\\\\n",
       "\\textbf{Df Model:}          &           6      & \\textbf{                     }          &             \\\\\n",
       "\\textbf{Covariance Type:}   &    nonrobust     & \\textbf{                     }          &             \\\\\n",
       "\\bottomrule\n",
       "\\end{tabular}\n",
       "\\begin{tabular}{lcccccc}\n",
       "                            & \\textbf{coef} & \\textbf{std err} & \\textbf{t} & \\textbf{P$> |$t$|$} & \\textbf{[0.025} & \\textbf{0.975]}  \\\\\n",
       "\\midrule\n",
       "\\textbf{AverageTemperature} &       0.3420  &        0.156     &     2.196  &         0.030        &        0.034    &        0.650     \\\\\n",
       "\\textbf{TotalPrecip}        &       0.1004  &        0.032     &     3.185  &         0.002        &        0.038    &        0.163     \\\\\n",
       "\\textbf{LocalUE}            &       1.4792  &        1.256     &     1.177  &         0.241        &       -1.007    &        3.965     \\\\\n",
       "\\textbf{GAUsers}            &       0.0009  &        0.000     &     2.543  &         0.012        &        0.000    &        0.002     \\\\\n",
       "\\textbf{Recession}          &     -21.4657  &       22.034     &    -0.974  &         0.332        &      -65.067    &       22.135     \\\\\n",
       "\\textbf{TERMCBAUTO48NS}     &      14.7616  &        2.043     &     7.225  &         0.000        &       10.719    &       18.805     \\\\\n",
       "\\bottomrule\n",
       "\\end{tabular}\n",
       "\\begin{tabular}{lclc}\n",
       "\\textbf{Omnibus:}       &  3.988 & \\textbf{  Durbin-Watson:     } &    0.733  \\\\\n",
       "\\textbf{Prob(Omnibus):} &  0.136 & \\textbf{  Jarque-Bera (JB):  } &    3.999  \\\\\n",
       "\\textbf{Skew:}          &  0.391 & \\textbf{  Prob(JB):          } &    0.135  \\\\\n",
       "\\textbf{Kurtosis:}      &  2.669 & \\textbf{  Cond. No.          } & 1.26e+05  \\\\\n",
       "\\bottomrule\n",
       "\\end{tabular}\n",
       "%\\caption{OLS Regression Results}\n",
       "\\end{center}\n",
       "\n",
       "Notes: \\newline\n",
       " [1] R² is computed without centering (uncentered) since the model does not contain a constant. \\newline\n",
       " [2] Standard Errors assume that the covariance matrix of the errors is correctly specified. \\newline\n",
       " [3] The condition number is large, 1.26e+05. This might indicate that there are \\newline\n",
       " strong multicollinearity or other numerical problems."
      ],
      "text/plain": [
       "<class 'statsmodels.iolib.summary.Summary'>\n",
       "\"\"\"\n",
       "                                 OLS Regression Results                                \n",
       "=======================================================================================\n",
       "Dep. Variable:             TotalSales   R-squared (uncentered):                   0.950\n",
       "Model:                            OLS   Adj. R-squared (uncentered):              0.948\n",
       "Method:                 Least Squares   F-statistic:                              404.4\n",
       "Date:                Tue, 23 Jul 2024   Prob (F-statistic):                    3.32e-80\n",
       "Time:                        17:43:16   Log-Likelihood:                         -638.19\n",
       "No. Observations:                 133   AIC:                                      1288.\n",
       "Df Residuals:                     127   BIC:                                      1306.\n",
       "Df Model:                           6                                                  \n",
       "Covariance Type:            nonrobust                                                  \n",
       "======================================================================================\n",
       "                         coef    std err          t      P>|t|      [0.025      0.975]\n",
       "--------------------------------------------------------------------------------------\n",
       "AverageTemperature     0.3420      0.156      2.196      0.030       0.034       0.650\n",
       "TotalPrecip            0.1004      0.032      3.185      0.002       0.038       0.163\n",
       "LocalUE                1.4792      1.256      1.177      0.241      -1.007       3.965\n",
       "GAUsers                0.0009      0.000      2.543      0.012       0.000       0.002\n",
       "Recession            -21.4657     22.034     -0.974      0.332     -65.067      22.135\n",
       "TERMCBAUTO48NS        14.7616      2.043      7.225      0.000      10.719      18.805\n",
       "==============================================================================\n",
       "Omnibus:                        3.988   Durbin-Watson:                   0.733\n",
       "Prob(Omnibus):                  0.136   Jarque-Bera (JB):                3.999\n",
       "Skew:                           0.391   Prob(JB):                        0.135\n",
       "Kurtosis:                       2.669   Cond. No.                     1.26e+05\n",
       "==============================================================================\n",
       "\n",
       "Notes:\n",
       "[1] R² is computed without centering (uncentered) since the model does not contain a constant.\n",
       "[2] Standard Errors assume that the covariance matrix of the errors is correctly specified.\n",
       "[3] The condition number is large, 1.26e+05. This might indicate that there are\n",
       "strong multicollinearity or other numerical problems.\n",
       "\"\"\""
      ]
     },
     "execution_count": 12,
     "metadata": {},
     "output_type": "execute_result"
    }
   ],
   "source": [
    "OLS_model = sm.OLS(y, X) \n",
    "OLS_results = OLS_model.fit()\n",
    "OLS_results.summary()"
   ]
  },
  {
   "cell_type": "code",
   "execution_count": 22,
   "id": "31b03eb1-b335-4306-ad31-09a3616f0a26",
   "metadata": {
    "tags": []
   },
   "outputs": [
    {
     "name": "stdout",
     "output_type": "stream",
     "text": [
      "Durbin-Watson statistic: 1.497504677234037\n"
     ]
    }
   ],
   "source": [
    "#Durbin-Watson Statistic \n",
    "dw_statistic = sm.stats.durbin_watson(OLS_results.resid)\n",
    "print(f'Durbin-Watson statistic: {dw_statistic}')"
   ]
  },
  {
   "cell_type": "code",
   "execution_count": 24,
   "id": "0eb7b129-053b-4715-aaa3-41bcc84eac5d",
   "metadata": {
    "tags": []
   },
   "outputs": [
    {
     "data": {
      "image/png": "[encoded data removed]",
      "text/plain": [
       "<Figure size 640x480 with 1 Axes>"
      ]
     },
     "metadata": {},
     "output_type": "display_data"
    }
   ],
   "source": [
    "#PACF plot\n",
    "sm.graphics.tsa.plot_pacf(OLS_results.resid, lags=20)\n",
    "plt.show()"
   ]
  },
  {
   "cell_type": "code",
   "execution_count": 14,
   "id": "2521173d-22f3-4aed-bede-b5a69c06e5fe",
   "metadata": {
    "tags": []
   },
   "outputs": [
    {
     "data": {
      "text/html": [
       "<table class=\"simpletable\">\n",
       "<caption>GLSAR Regression Results</caption>\n",
       "<tr>\n",
       "  <th>Dep. Variable:</th>       <td>TotalSales</td>    <th>  R-squared (uncentered):</th>      <td>   0.715</td>\n",
       "</tr>\n",
       "<tr>\n",
       "  <th>Model:</th>                  <td>GLSAR</td>      <th>  Adj. R-squared (uncentered):</th> <td>   0.702</td>\n",
       "</tr>\n",
       "<tr>\n",
       "  <th>Method:</th>             <td>Least Squares</td>  <th>  F-statistic:       </th>          <td>   52.71</td>\n",
       "</tr>\n",
       "<tr>\n",
       "  <th>Date:</th>             <td>Tue, 23 Jul 2024</td> <th>  Prob (F-statistic):</th>          <td>4.75e-32</td>\n",
       "</tr>\n",
       "<tr>\n",
       "  <th>Time:</th>                 <td>17:44:20</td>     <th>  Log-Likelihood:    </th>          <td> -586.29</td>\n",
       "</tr>\n",
       "<tr>\n",
       "  <th>No. Observations:</th>      <td>   132</td>      <th>  AIC:               </th>          <td>   1185.</td>\n",
       "</tr>\n",
       "<tr>\n",
       "  <th>Df Residuals:</th>          <td>   126</td>      <th>  BIC:               </th>          <td>   1202.</td>\n",
       "</tr>\n",
       "<tr>\n",
       "  <th>Df Model:</th>              <td>     6</td>      <th>                     </th>              <td> </td>   \n",
       "</tr>\n",
       "<tr>\n",
       "  <th>Covariance Type:</th>      <td>nonrobust</td>    <th>                     </th>              <td> </td>   \n",
       "</tr>\n",
       "</table>\n",
       "<table class=\"simpletable\">\n",
       "<tr>\n",
       "           <td></td>             <th>coef</th>     <th>std err</th>      <th>t</th>      <th>P>|t|</th>  <th>[0.025</th>    <th>0.975]</th>  \n",
       "</tr>\n",
       "<tr>\n",
       "  <th>AverageTemperature</th> <td>    0.5093</td> <td>    0.194</td> <td>    2.624</td> <td> 0.010</td> <td>    0.125</td> <td>    0.893</td>\n",
       "</tr>\n",
       "<tr>\n",
       "  <th>TotalPrecip</th>        <td>    0.0080</td> <td>    0.019</td> <td>    0.411</td> <td> 0.682</td> <td>   -0.030</td> <td>    0.046</td>\n",
       "</tr>\n",
       "<tr>\n",
       "  <th>LocalUE</th>            <td>    2.3037</td> <td>    2.011</td> <td>    1.145</td> <td> 0.254</td> <td>   -1.677</td> <td>    6.284</td>\n",
       "</tr>\n",
       "<tr>\n",
       "  <th>GAUsers</th>            <td>   -0.0003</td> <td>    0.000</td> <td>   -0.781</td> <td> 0.436</td> <td>   -0.001</td> <td>    0.000</td>\n",
       "</tr>\n",
       "<tr>\n",
       "  <th>Recession</th>          <td>  -48.5477</td> <td>   16.594</td> <td>   -2.926</td> <td> 0.004</td> <td>  -81.386</td> <td>  -15.709</td>\n",
       "</tr>\n",
       "<tr>\n",
       "  <th>TERMCBAUTO48NS</th>     <td>   18.0194</td> <td>    3.027</td> <td>    5.952</td> <td> 0.000</td> <td>   12.028</td> <td>   24.010</td>\n",
       "</tr>\n",
       "</table>\n",
       "<table class=\"simpletable\">\n",
       "<tr>\n",
       "  <th>Omnibus:</th>       <td> 8.998</td> <th>  Durbin-Watson:     </th> <td>   2.510</td>\n",
       "</tr>\n",
       "<tr>\n",
       "  <th>Prob(Omnibus):</th> <td> 0.011</td> <th>  Jarque-Bera (JB):  </th> <td>   8.834</td>\n",
       "</tr>\n",
       "<tr>\n",
       "  <th>Skew:</th>          <td> 0.580</td> <th>  Prob(JB):          </th> <td>  0.0121</td>\n",
       "</tr>\n",
       "<tr>\n",
       "  <th>Kurtosis:</th>      <td> 3.510</td> <th>  Cond. No.          </th> <td>5.19e+04</td>\n",
       "</tr>\n",
       "</table><br/><br/>Notes:<br/>[1] R² is computed without centering (uncentered) since the model does not contain a constant.<br/>[2] Standard Errors assume that the covariance matrix of the errors is correctly specified.<br/>[3] The condition number is large, 5.19e+04. This might indicate that there are<br/>strong multicollinearity or other numerical problems."
      ],
      "text/latex": [
       "\\begin{center}\n",
       "\\begin{tabular}{lclc}\n",
       "\\toprule\n",
       "\\textbf{Dep. Variable:}     &    TotalSales    & \\textbf{  R-squared (uncentered):}      &     0.715   \\\\\n",
       "\\textbf{Model:}             &      GLSAR       & \\textbf{  Adj. R-squared (uncentered):} &     0.702   \\\\\n",
       "\\textbf{Method:}            &  Least Squares   & \\textbf{  F-statistic:       }          &     52.71   \\\\\n",
       "\\textbf{Date:}              & Tue, 23 Jul 2024 & \\textbf{  Prob (F-statistic):}          &  4.75e-32   \\\\\n",
       "\\textbf{Time:}              &     17:44:20     & \\textbf{  Log-Likelihood:    }          &   -586.29   \\\\\n",
       "\\textbf{No. Observations:}  &         132      & \\textbf{  AIC:               }          &     1185.   \\\\\n",
       "\\textbf{Df Residuals:}      &         126      & \\textbf{  BIC:               }          &     1202.   \\\\\n",
       "\\textbf{Df Model:}          &           6      & \\textbf{                     }          &             \\\\\n",
       "\\textbf{Covariance Type:}   &    nonrobust     & \\textbf{                     }          &             \\\\\n",
       "\\bottomrule\n",
       "\\end{tabular}\n",
       "\\begin{tabular}{lcccccc}\n",
       "                            & \\textbf{coef} & \\textbf{std err} & \\textbf{t} & \\textbf{P$> |$t$|$} & \\textbf{[0.025} & \\textbf{0.975]}  \\\\\n",
       "\\midrule\n",
       "\\textbf{AverageTemperature} &       0.5093  &        0.194     &     2.624  &         0.010        &        0.125    &        0.893     \\\\\n",
       "\\textbf{TotalPrecip}        &       0.0080  &        0.019     &     0.411  &         0.682        &       -0.030    &        0.046     \\\\\n",
       "\\textbf{LocalUE}            &       2.3037  &        2.011     &     1.145  &         0.254        &       -1.677    &        6.284     \\\\\n",
       "\\textbf{GAUsers}            &      -0.0003  &        0.000     &    -0.781  &         0.436        &       -0.001    &        0.000     \\\\\n",
       "\\textbf{Recession}          &     -48.5477  &       16.594     &    -2.926  &         0.004        &      -81.386    &      -15.709     \\\\\n",
       "\\textbf{TERMCBAUTO48NS}     &      18.0194  &        3.027     &     5.952  &         0.000        &       12.028    &       24.010     \\\\\n",
       "\\bottomrule\n",
       "\\end{tabular}\n",
       "\\begin{tabular}{lclc}\n",
       "\\textbf{Omnibus:}       &  8.998 & \\textbf{  Durbin-Watson:     } &    2.510  \\\\\n",
       "\\textbf{Prob(Omnibus):} &  0.011 & \\textbf{  Jarque-Bera (JB):  } &    8.834  \\\\\n",
       "\\textbf{Skew:}          &  0.580 & \\textbf{  Prob(JB):          } &   0.0121  \\\\\n",
       "\\textbf{Kurtosis:}      &  3.510 & \\textbf{  Cond. No.          } & 5.19e+04  \\\\\n",
       "\\bottomrule\n",
       "\\end{tabular}\n",
       "%\\caption{GLSAR Regression Results}\n",
       "\\end{center}\n",
       "\n",
       "Notes: \\newline\n",
       " [1] R² is computed without centering (uncentered) since the model does not contain a constant. \\newline\n",
       " [2] Standard Errors assume that the covariance matrix of the errors is correctly specified. \\newline\n",
       " [3] The condition number is large, 5.19e+04. This might indicate that there are \\newline\n",
       " strong multicollinearity or other numerical problems."
      ],
      "text/plain": [
       "<class 'statsmodels.iolib.summary.Summary'>\n",
       "\"\"\"\n",
       "                                GLSAR Regression Results                               \n",
       "=======================================================================================\n",
       "Dep. Variable:             TotalSales   R-squared (uncentered):                   0.715\n",
       "Model:                          GLSAR   Adj. R-squared (uncentered):              0.702\n",
       "Method:                 Least Squares   F-statistic:                              52.71\n",
       "Date:                Tue, 23 Jul 2024   Prob (F-statistic):                    4.75e-32\n",
       "Time:                        17:44:20   Log-Likelihood:                         -586.29\n",
       "No. Observations:                 132   AIC:                                      1185.\n",
       "Df Residuals:                     126   BIC:                                      1202.\n",
       "Df Model:                           6                                                  \n",
       "Covariance Type:            nonrobust                                                  \n",
       "======================================================================================\n",
       "                         coef    std err          t      P>|t|      [0.025      0.975]\n",
       "--------------------------------------------------------------------------------------\n",
       "AverageTemperature     0.5093      0.194      2.624      0.010       0.125       0.893\n",
       "TotalPrecip            0.0080      0.019      0.411      0.682      -0.030       0.046\n",
       "LocalUE                2.3037      2.011      1.145      0.254      -1.677       6.284\n",
       "GAUsers               -0.0003      0.000     -0.781      0.436      -0.001       0.000\n",
       "Recession            -48.5477     16.594     -2.926      0.004     -81.386     -15.709\n",
       "TERMCBAUTO48NS        18.0194      3.027      5.952      0.000      12.028      24.010\n",
       "==============================================================================\n",
       "Omnibus:                        8.998   Durbin-Watson:                   2.510\n",
       "Prob(Omnibus):                  0.011   Jarque-Bera (JB):                8.834\n",
       "Skew:                           0.580   Prob(JB):                       0.0121\n",
       "Kurtosis:                       3.510   Cond. No.                     5.19e+04\n",
       "==============================================================================\n",
       "\n",
       "Notes:\n",
       "[1] R² is computed without centering (uncentered) since the model does not contain a constant.\n",
       "[2] Standard Errors assume that the covariance matrix of the errors is correctly specified.\n",
       "[3] The condition number is large, 5.19e+04. This might indicate that there are\n",
       "strong multicollinearity or other numerical problems.\n",
       "\"\"\""
      ]
     },
     "execution_count": 14,
     "metadata": {},
     "output_type": "execute_result"
    }
   ],
   "source": [
    "GLS_model = sm.GLSAR(y, X, rho=1)  #rho is the order of autoregression, per the PACF above\n",
    "GLS_results = GLS_model.iterative_fit()\n",
    "GLS_results.summary()"
   ]
  },
  {
   "cell_type": "code",
   "execution_count": 16,
   "id": "307cb216-49d0-4299-9e2a-4ce999fae90b",
   "metadata": {
    "tags": []
   },
   "outputs": [
    {
     "data": {
      "text/html": [
       "<div>\n",
       "<style scoped>\n",
       "    .dataframe tbody tr th:only-of-type {\n",
       "        vertical-align: middle;\n",
       "    }\n",
       "\n",
       "    .dataframe tbody tr th {\n",
       "        vertical-align: top;\n",
       "    }\n",
       "\n",
       "    .dataframe thead th {\n",
       "        text-align: right;\n",
       "    }\n",
       "</style>\n",
       "<table border=\"1\" class=\"dataframe\">\n",
       "  <thead>\n",
       "    <tr style=\"text-align: right;\">\n",
       "      <th></th>\n",
       "      <th>OLS</th>\n",
       "      <th>GLS</th>\n",
       "    </tr>\n",
       "  </thead>\n",
       "  <tbody>\n",
       "    <tr>\n",
       "      <th>AverageTemperature</th>\n",
       "      <td>0.342017</td>\n",
       "      <td>0.509305</td>\n",
       "    </tr>\n",
       "    <tr>\n",
       "      <th>TotalPrecip</th>\n",
       "      <td>0.100375</td>\n",
       "      <td>0.007986</td>\n",
       "    </tr>\n",
       "    <tr>\n",
       "      <th>LocalUE</th>\n",
       "      <td>1.479170</td>\n",
       "      <td>2.303682</td>\n",
       "    </tr>\n",
       "    <tr>\n",
       "      <th>GAUsers</th>\n",
       "      <td>0.000914</td>\n",
       "      <td>-0.000312</td>\n",
       "    </tr>\n",
       "    <tr>\n",
       "      <th>Recession</th>\n",
       "      <td>-21.465663</td>\n",
       "      <td>-48.547717</td>\n",
       "    </tr>\n",
       "    <tr>\n",
       "      <th>TERMCBAUTO48NS</th>\n",
       "      <td>14.761640</td>\n",
       "      <td>18.019419</td>\n",
       "    </tr>\n",
       "  </tbody>\n",
       "</table>\n",
       "</div>"
      ],
      "text/plain": [
       "                          OLS        GLS\n",
       "AverageTemperature   0.342017   0.509305\n",
       "TotalPrecip          0.100375   0.007986\n",
       "LocalUE              1.479170   2.303682\n",
       "GAUsers              0.000914  -0.000312\n",
       "Recession          -21.465663 -48.547717\n",
       "TERMCBAUTO48NS      14.761640  18.019419"
      ]
     },
     "execution_count": 16,
     "metadata": {},
     "output_type": "execute_result"
    }
   ],
   "source": [
    "OLS_params = OLS_results.params\n",
    "GLS_params = GLS_results.params\n",
    "param_frame = pd.DataFrame({\"OLS\": OLS_params, \"GLS\": GLS_params})\n",
    "param_frame"
   ]
  }
 ],
 "metadata": {
  "kernelspec": {
   "display_name": "Python 3 (ipykernel)",
   "language": "python",
   "name": "python3"
  },
  "language_info": {
   "codemirror_mode": {
    "name": "ipython",
    "version": 3
   },
   "file_extension": ".py",
   "mimetype": "text/x-python",
   "name": "python",
   "nbconvert_exporter": "python",
   "pygments_lexer": "ipython3",
   "version": "3.11.0"
  }
 },
 "nbformat": 4,
 "nbformat_minor": 5
}
