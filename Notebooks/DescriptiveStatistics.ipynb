{
 "cells": [
  {
   "cell_type": "code",
   "execution_count": 9,
   "id": "db4b4f17-e65f-4525-8530-27347bf2f5a7",
   "metadata": {},
   "outputs": [],
   "source": [
    "#Descriptive Statistics (the hard way!?)\n",
    "\n",
    "#Function to calculate mean\n",
    "def calculate_mean(series_x):\n",
    "    mean = sum(series_x)/len(series_x)\n",
    "    return mean"
   ]
  },
  {
   "cell_type": "code",
   "execution_count": 4,
   "id": "4cf1711d-3612-4290-b8bb-b35537ad775f",
   "metadata": {},
   "outputs": [
    {
     "data": {
      "text/plain": [
       "3"
      ]
     },
     "execution_count": 4,
     "metadata": {},
     "output_type": "execute_result"
    }
   ],
   "source": [
    "#Function to calculate median\n",
    "def calculate_median(values):\n",
    "    sorted_values = sorted(values)\n",
    "    n = len(sorted_values)\n",
    "    if n % 2 == 1:\n",
    "        return int(sorted_values[n//2]) #int gets rid of floating point decimal\n",
    "    else:\n",
    "        return int((sorted_values[n//2 - 1] + sorted_values[n//2]) / 2)\n",
    "\n",
    "even = [1, 2, 3, 8, 3, 4, 1, 6]\n",
    "calculate_median(even)"
   ]
  },
  {
   "cell_type": "code",
   "execution_count": 5,
   "id": "b256eb55-03f0-4ba7-9049-c7f91981574c",
   "metadata": {},
   "outputs": [
    {
     "data": {
      "text/plain": [
       "5"
      ]
     },
     "execution_count": 5,
     "metadata": {},
     "output_type": "execute_result"
    }
   ],
   "source": [
    "odd = [1, 4, 5, 6, 8]\n",
    "calculate_median(odd)"
   ]
  },
  {
   "cell_type": "code",
   "execution_count": 6,
   "id": "ccfe7cf2-47ea-4cef-8237-7cadcd65db99",
   "metadata": {},
   "outputs": [
    {
     "data": {
      "text/plain": [
       "6"
      ]
     },
     "execution_count": 6,
     "metadata": {},
     "output_type": "execute_result"
    }
   ],
   "source": [
    "#Function to calculate mode\n",
    "def calculate_mode(values):\n",
    "    value_counts = {}\n",
    "    for value in values:\n",
    "        if value in value_counts:\n",
    "            value_counts[value] += 1\n",
    "        else:\n",
    "            value_counts[value] = 1\n",
    "    #print(value_counts)\n",
    "    #print(f\"The most commonly occuring number is {max(value_counts)}\")\n",
    "    #higest_count = max(value_counts.values())\n",
    "    #print(f\"It occurs {higest_count} times\")\n",
    "    return max(value_counts)\n",
    "\n",
    "x = [1, 2, 3, 3, 4, 5, 6]\n",
    "calculate_mode(x)"
   ]
  },
  {
   "cell_type": "code",
   "execution_count": 7,
   "id": "e898809c-eadc-42c7-8eb3-3f59f3ad6bcd",
   "metadata": {},
   "outputs": [
    {
     "data": {
      "text/plain": [
       "5"
      ]
     },
     "execution_count": 7,
     "metadata": {},
     "output_type": "execute_result"
    }
   ],
   "source": [
    "#Function to calculate range\n",
    "def calculate_range(values):\n",
    "    return max(values) - min(values)\n",
    "\n",
    "x = [1, 2, 3, 3, 4, 5, 6]\n",
    "calculate_range(x)"
   ]
  },
  {
   "cell_type": "code",
   "execution_count": 10,
   "id": "9e35358a-c59f-4896-aee6-7be9959b1a9e",
   "metadata": {},
   "outputs": [
    {
     "data": {
      "text/plain": [
       "2.5306122448979593"
      ]
     },
     "execution_count": 10,
     "metadata": {},
     "output_type": "execute_result"
    }
   ],
   "source": [
    "#Function to calculate variance\n",
    "def calculate_variance(values):\n",
    "    mean = calculate_mean(values)\n",
    "    return sum((x - mean) ** 2 for x in values) / len(values)\n",
    "\n",
    "x = [1, 2, 3, 3, 4, 5, 6]\n",
    "calculate_variance(x)"
   ]
  },
  {
   "cell_type": "code",
   "execution_count": 11,
   "id": "00432a77-7b90-463b-bf97-e5a36c14ee8c",
   "metadata": {},
   "outputs": [
    {
     "data": {
      "text/plain": [
       "1.5907898179514348"
      ]
     },
     "execution_count": 11,
     "metadata": {},
     "output_type": "execute_result"
    }
   ],
   "source": [
    "#Import Numpy so we can use the standard deviation funciton\n",
    "import numpy as np\n",
    "#Function to calculate standard deviation\n",
    "def calculate_stdev(values):\n",
    "    return np.sqrt(calculate_variance(values))\n",
    "\n",
    "calculate_stdev(x)"
   ]
  },
  {
   "cell_type": "code",
   "execution_count": 14,
   "id": "b419af19-7cb5-4f0f-b6c8-4397e5061415",
   "metadata": {},
   "outputs": [
    {
     "data": {
      "text/plain": [
       "-7.8999999999999995"
      ]
     },
     "execution_count": 14,
     "metadata": {},
     "output_type": "execute_result"
    }
   ],
   "source": [
    "#Function to calculate covariance  \n",
    "def calculate_covariance(series_x, series_y):\n",
    "    mean_x = sum(series_x) / len(series_x)\n",
    "    mean_y = sum(series_y) / len(series_y)\n",
    "    diff_x = [x - mean_x for x in series_x]\n",
    "    diff_y = [y - mean_y for y in series_y]\n",
    "    diffXdiff = np.multiply(diff_x,diff_y)\n",
    "    sum_diffXdiff = np.sum(diffXdiff)\n",
    "    covariance = sum_diffXdiff / (len(series_x) - 1)\n",
    "    return covariance\n",
    "\n",
    "series_x = [1, 3, 3, 7, 10]\n",
    "series_y = [8, 4, 2, 2, 1]\n",
    "\n",
    "calculate_covariance(series_x, series_y)"
   ]
  },
  {
   "cell_type": "code",
   "execution_count": 15,
   "id": "c7823159-f408-4f24-841c-cac9983b9ef4",
   "metadata": {},
   "outputs": [
    {
     "data": {
      "text/plain": [
       "-0.7785613213856255"
      ]
     },
     "execution_count": 15,
     "metadata": {},
     "output_type": "execute_result"
    }
   ],
   "source": [
    "#Function to calculate correlation \n",
    "def calculate_correlation(series_x, series_y):\n",
    "    mean_x = sum(series_x) / len(series_x)\n",
    "    mean_y = sum(series_y) / len(series_y)\n",
    "    diff_x = [x - mean_x for x in series_x]\n",
    "    diff_y = [y - mean_y for y in series_y]\n",
    "    diffXdiff = np.multiply(diff_x,diff_y)\n",
    "    sum_diffXdiff = np.sum(diffXdiff)\n",
    "    diff_x_squared = [x ** 2 for x in diff_x]\n",
    "    diff_y_squared = [y ** 2 for y in diff_y]\n",
    "    sum_diff_x_squared = np.sum(diff_x_squared)\n",
    "    sum_diff_y_squared = np.sum(diff_y_squared)\n",
    "    sdxsXsdys = sum_diff_x_squared * sum_diff_y_squared\n",
    "    sqrt_sdxsXsdys = np.sqrt(sdxsXsdys)\n",
    "    correlation = sum_diffXdiff / sqrt_sdxsXsdys\n",
    "    return correlation\n",
    "\n",
    "series_x = [1, 3, 3, 7, 10]\n",
    "series_y = [8, 4, 2, 2, 1]\n",
    "\n",
    "calculate_correlation(series_x, series_y)"
   ]
  },
  {
   "cell_type": "code",
   "execution_count": 16,
   "id": "6e0f4fb4-4bc0-4c7a-b948-404f74ad563f",
   "metadata": {},
   "outputs": [
    {
     "name": "stdout",
     "output_type": "stream",
     "text": [
      "The sample mean is 4.0.\n",
      "The test used is a T Test and the critical value of T is 0.06537400065804291.\n",
      "The sample mean has a margin of error of: 0.049418099414444125.\n",
      "The sample mean has an upper confidence interval of: 4.049418099414444\n",
      "The sample mean has a lower confidence interval of 3.950581900585556\n",
      "At the 95% confidence level, the actual populaiton mean will be within 3.950581900585556 and 4.049418099414444, 95 out of 100 times.\n"
     ]
    }
   ],
   "source": [
    "from scipy.stats import norm\n",
    "from scipy.stats import t\n",
    "\n",
    "series_x = [1, 2, 3, 4, 5, 6, 7]\n",
    "#Function to calculate confidence intervals\n",
    "def confidence_intervals(series, level):\n",
    "    mean = np.mean(series)\n",
    "    std = np.std(series)\n",
    "    n = len(series)\n",
    "    df = n - 1\n",
    "    se = std / np.sqrt(n)\n",
    "    z_cv= norm.ppf(level)\n",
    "    t_cv = t.ppf(1 - level / 2, df=df)\n",
    "    pctconfident = str(int(level * 100))\n",
    "    cl = pctconfident + \"% confidence level\"\n",
    "    if len(series) >= 30:\n",
    "        cv = z_cv\n",
    "        me = cv * se\n",
    "        test = 'Z Test '\n",
    "        letter = 'T '\n",
    "    else: \n",
    "        cv = t_cv\n",
    "        me = cv * se\n",
    "        test = 'T Test '\n",
    "        letter = 'T '\n",
    "\n",
    "\n",
    "    print(f'The sample mean is {mean}.')\n",
    "    print(f'The test used is a {test}and the critical value of {letter}is {cv}.')\n",
    "    print(f'The sample mean has a margin of error of: {me}.')\n",
    "    print(f'The sample mean has an upper confidence interval of: {mean + me}')\n",
    "    print(f'The sample mean has a lower confidence interval of {mean - me}')\n",
    "    print(f'At the {cl}, the actual populaiton mean will be within {mean - me} and {mean + me}, {pctconfident} out of 100 times.')\n",
    "\n",
    "\n",
    "confidence_intervals(series_x ,0.95)"
   ]
  },
  {
   "cell_type": "code",
   "execution_count": null,
   "id": "bad85b21-7b78-4d91-b582-a8b23e648c57",
   "metadata": {},
   "outputs": [],
   "source": [
    "#Import Panadas so we can import and manipulate data\n",
    "import pandas as pd\n",
    "df = pd.read_csv(\"monthly_sales.csv\")"
   ]
  },
  {
   "cell_type": "code",
   "execution_count": null,
   "id": "f81cb210-70dd-4c36-a629-bf127c567d6e",
   "metadata": {},
   "outputs": [],
   "source": [
    "#Define the columns we are interested in (used lower in the code)\n",
    "columns = ['Sales', 'Cost', 'Revenue']\n",
    "\n",
    "for column in columns:\n",
    "    values = df[column].tolist()\n",
    "    print(f\"Descriptive Statistics for {column}:\")\n",
    "    print(f\"Mean: {calculate_mean(values)}\")\n",
    "    print(f\"Median: {calculate_median(values)}\")\n",
    "    print(f\"Mode: {calculate_mode(values)}\")\n",
    "    print(f\"Range: {calculate_range(values)}\")\n",
    "    print(f\"Variance: {calculate_variance(values)}\")\n",
    "    print(f\"Standard Deviation: {calculate_stdev(values)}\")\n",
    "    print(\"\\n\")"
   ]
  },
  {
   "cell_type": "code",
   "execution_count": null,
   "id": "720b3925-a910-4ce7-bb76-7ac61b9be65b",
   "metadata": {},
   "outputs": [],
   "source": [
    "#Pandas can, of course, do all of what we've done so far much easier\n",
    "print(df['Sales'].mean())\n",
    "print(df['Sales'].median())\n",
    "print(df['Sales'].mode()[0])\n",
    "print(df['Sales'].max())\n",
    "print(df['Sales'].min())\n",
    "print(df['Sales'].var())\n",
    "print(df['Sales'].std())"
   ]
  },
  {
   "cell_type": "code",
   "execution_count": null,
   "id": "a433b9d3-d983-47fa-8bb5-b57cb7e019ad",
   "metadata": {},
   "outputs": [],
   "source": [
    "#Even easier, though not better!\n",
    "df.describe()"
   ]
  }
 ],
 "metadata": {
  "kernelspec": {
   "display_name": "Python 3 (ipykernel)",
   "language": "python",
   "name": "python3"
  },
  "language_info": {
   "codemirror_mode": {
    "name": "ipython",
    "version": 3
   },
   "file_extension": ".py",
   "mimetype": "text/x-python",
   "name": "python",
   "nbconvert_exporter": "python",
   "pygments_lexer": "ipython3",
   "version": "3.10.9"
  }
 },
 "nbformat": 4,
 "nbformat_minor": 5
}
