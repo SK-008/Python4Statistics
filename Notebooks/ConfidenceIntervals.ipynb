{
 "cells": [
  {
   "cell_type": "code",
   "execution_count": 6,
   "id": "3ca15bde-88a9-4925-affc-4600891f6535",
   "metadata": {
    "tags": []
   },
   "outputs": [
    {
     "name": "stdout",
     "output_type": "stream",
     "text": [
      "    Sample  Lower Bound  Sample Mean  Upper Bound  Mean in CI\n",
      "0        0    95.826826   104.606524   113.386223        True\n",
      "1        1    83.389360    92.169058   100.948756        True\n",
      "2        2    94.747979   103.527677   112.307376        True\n",
      "3        3    94.348107   103.127805   111.907503        True\n",
      "4        4    91.476195   100.255893   109.035591        True\n",
      "..     ...          ...          ...          ...         ...\n",
      "95      95    98.744674   107.524372   116.304070        True\n",
      "96      96    95.628019   104.407717   113.187416        True\n",
      "97      97    93.342214   102.121913   110.901611        True\n",
      "98      98    91.451426   100.231124   109.010822        True\n",
      "99      99    84.038708    92.818406   101.598104        True\n",
      "\n",
      "[100 rows x 5 columns]\n",
      "The population mean is 100.04787046399449\n",
      "The mean of the sample means is 99.41658794619426\n",
      "The max upper bound is 117.32662543554522\n",
      "The min lower bound is 81.22115107821311\n",
      "The percentage of intervals containing the true parameter is 97.0\n",
      "The percentage of intervals not containing the true parameter is 3.0\n"
     ]
    }
   ],
   "source": [
    "#The Logic of Confidence Intervals\n",
    "\n",
    "import pandas as pd\n",
    "import numpy as np\n",
    "import scipy.stats as stats\n",
    "\n",
    "population = np.random.normal(loc=100, scale=20, size=10000)\n",
    "\n",
    "population_mean = np.mean(population)\n",
    "population_std = np.std(population)\n",
    "\n",
    "num_samples = 100\n",
    "sample_size = 20\n",
    "\n",
    "sample_stats = []\n",
    "\n",
    "for i in range(num_samples):\n",
    "    sample = np.random.choice(population, size=sample_size, replace=False)\n",
    "    sample_mean = np.mean(sample)\n",
    "    se = population_std / np.sqrt(sample_size)\n",
    "    ci = stats.norm.interval(0.95, loc=sample_mean, scale=se)\n",
    "    \n",
    "    mean_in_interval = ci[0] <= population_mean <= ci[1]\n",
    "\n",
    "    sample_stats.append((ci[0], sample_mean, ci[1], mean_in_interval))\n",
    "\n",
    "\n",
    "table = pd.DataFrame(sample_stats, columns=[\"Lower Bound\", \"Sample Mean\", \"Upper Bound\", \"Mean in CI\"])\n",
    "table.index.name = 'Sample'\n",
    "table.reset_index(inplace=True)\n",
    "print(table)\n",
    "\n",
    "print(f'The population mean is {population_mean}')\n",
    "mean_of_means = table['Sample Mean'].mean()\n",
    "print(f'The mean of the sample means is {mean_of_means}')\n",
    "max_upper = table['Upper Bound'].max()\n",
    "min_lower = table['Lower Bound'].min()\n",
    "print(f'The max upper bound is {max_upper}')\n",
    "print(f'The min lower bound is {min_lower}')\n",
    "\n",
    "true_count = table[\"Mean in CI\"].sum()\n",
    "false_count = len(table) - true_count\n",
    "percentage_true = (true_count / len(table)) * 100\n",
    "percentage_false = (false_count / len(table)) * 100\n",
    "print(f'The percentage of intervals containing the true parameter is {percentage_true}') \n",
    "print(f'The percentage of intervals not containing the true parameter is {percentage_false}')"
   ]
  },
  {
   "cell_type": "code",
   "execution_count": 11,
   "id": "310b020c-c5d3-4a5a-8a70-1157d63367cb",
   "metadata": {
    "tags": []
   },
   "outputs": [
    {
     "name": "stdout",
     "output_type": "stream",
     "text": [
      "The sample size is 7.\n",
      "The standard deviation is 2.0\n",
      "The sample mean is 4.0.\n",
      "Alpha is 0.1\n",
      "The confidence level is 0.9\n",
      "The test is T\n",
      "The CV is 1.9431802803927816\n",
      "The sample mean has a margin of error of: 1.46890622128116.\n",
      "The sample mean has an upper confidence interval of: 5.46890622128116\n",
      "The sample mean has a lower confidence interval of 2.53109377871884\n",
      "The sample size is 7.\n",
      "The standard deviation is 2.0\n",
      "The sample mean is 4.0.\n",
      "Alpha is 0.05\n",
      "The confidence level is 0.95\n",
      "The test is T\n",
      "The CV is 2.4469118487916806\n",
      "The sample mean has a margin of error of: 1.8496914948571628.\n",
      "The sample mean has an upper confidence interval of: 5.849691494857163\n",
      "The sample mean has a lower confidence interval of 2.1503085051428372\n",
      "The sample size is 7.\n",
      "The standard deviation is 2.0\n",
      "The sample mean is 4.0.\n",
      "Alpha is 0.01\n",
      "The confidence level is 0.99\n",
      "The test is T\n",
      "The CV is 3.707428021324907\n",
      "The sample mean has a margin of error of: 2.802552156599421.\n",
      "The sample mean has an upper confidence interval of: 6.802552156599421\n",
      "The sample mean has a lower confidence interval of 1.197447843400579\n"
     ]
    }
   ],
   "source": [
    "import numpy as np\n",
    "from scipy.stats import norm\n",
    "from scipy.stats import t\n",
    "\n",
    "x = [1, 2, 3, 4, 5, 6, 7]\n",
    "\n",
    "#x = np.random.normal(loc=100, scale=20, size=300)\n",
    "\n",
    "def confidence_intervals(series, alpha):\n",
    "    n = len(series)\n",
    "    dof = n - 1\n",
    "    mean = np.mean(series)\n",
    "    std = np.std(series)\n",
    "    se = std / np.sqrt(n)\n",
    "    if len(series) >= 30:\n",
    "        cv = stats.norm.ppf(1-(alpha/2))\n",
    "        test = \"Z\"\n",
    "    else:\n",
    "        cv = stats.t.ppf(1-(alpha/2), df=dof)\n",
    "        test = \"T\"\n",
    "    moe = cv * se\n",
    "    upper = mean + moe\n",
    "    lower = mean - moe\n",
    "\n",
    "    print(f'The sample size is {n}.')\n",
    "    print(f'The standard deviation is {std}')\n",
    "    print(f'The sample mean is {mean}.')\n",
    "    print(f'Alpha is {alpha}')\n",
    "    print(f'The confidence level is {1-alpha}')\n",
    "    print(f'The test is {test}')\n",
    "    print(f'The CV is {cv}')\n",
    "    print(f'The sample mean has a margin of error of: {moe}.')\n",
    "    print(f'The sample mean has an upper confidence interval of: {upper}')\n",
    "    print(f'The sample mean has a lower confidence interval of {lower}')\n",
    "\n",
    "#confidence_intervals(x,0.05)\n",
    "\n",
    "alphas = [0.1, 0.05, 0.01]\n",
    "\n",
    "for i in alphas:\n",
    "    confidence_intervals(x,i)"
   ]
  },
  {
   "cell_type": "code",
   "execution_count": 7,
   "id": "612c5873-eb32-4cbe-96dc-53cd0cfd3418",
   "metadata": {
    "tags": []
   },
   "outputs": [
    {
     "name": "stdout",
     "output_type": "stream",
     "text": [
      "1.6448536269514722\n",
      "(84.03870769641574, 101.59810424199708)\n"
     ]
    }
   ],
   "source": [
    "import scipy.stats as stats\n",
    "alpha=.10\n",
    "cv = stats.norm.ppf(1-(alpha/2))\n",
    "print(cv)\n",
    "ci = stats.norm.interval(0.95, loc=sample_mean, scale=se)\n",
    "print(ci)"
   ]
  }
 ],
 "metadata": {
  "kernelspec": {
   "display_name": "Python 3 (ipykernel)",
   "language": "python",
   "name": "python3"
  },
  "language_info": {
   "codemirror_mode": {
    "name": "ipython",
    "version": 3
   },
   "file_extension": ".py",
   "mimetype": "text/x-python",
   "name": "python",
   "nbconvert_exporter": "python",
   "pygments_lexer": "ipython3",
   "version": "3.11.5"
  }
 },
 "nbformat": 4,
 "nbformat_minor": 5
}
