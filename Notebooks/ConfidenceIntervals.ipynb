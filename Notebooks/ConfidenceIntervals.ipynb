{
 "cells": [
  {
   "cell_type": "code",
   "execution_count": 14,
   "id": "3ca15bde-88a9-4925-affc-4600891f6535",
   "metadata": {
    "tags": []
   },
   "outputs": [
    {
     "name": "stdout",
     "output_type": "stream",
     "text": [
      "    Sample  Lower Bound  Sample Mean  Upper Bound  Mean in CI\n",
      "0        0    89.690966    98.439678   107.188390        True\n",
      "1        1    88.627337    97.376050   106.124762        True\n",
      "2        2    97.958410   106.707122   115.455834        True\n",
      "3        3    99.177348   107.926060   116.674773        True\n",
      "4        4    86.163881    94.912594   103.661306        True\n",
      "..     ...          ...          ...          ...         ...\n",
      "95      95    84.072372    92.821084   101.569796        True\n",
      "96      96    90.629894    99.378606   108.127318        True\n",
      "97      97    93.908385   102.657097   111.405810        True\n",
      "98      98    90.290667    99.039380   107.788092        True\n",
      "99      99    90.285017    99.033729   107.782442        True\n",
      "\n",
      "[100 rows x 5 columns]\n",
      "The population mean is 100.28916533674712\n",
      "The mean of the sample means is 100.28068240000336\n",
      "The max upper bound is 126.78916426248327\n",
      "The min lower bound is 79.71011438387191\n",
      "The percentage of intervals containing the true parameter is 98.0\n",
      "The percentage of intervals not containing the true parameter is 2.0\n"
     ]
    }
   ],
   "source": [
    "#The Logic of Confidence Intervals\n",
    "\n",
    "import pandas as pd\n",
    "import numpy as np\n",
    "import scipy.stats as stats\n",
    "\n",
    "population = np.random.normal(loc=100, scale=20, size=10000)\n",
    "\n",
    "population_mean = np.mean(population)\n",
    "population_std = np.std(population)\n",
    "\n",
    "num_samples = 100\n",
    "sample_size = 20\n",
    "\n",
    "sample_stats = []\n",
    "\n",
    "for i in range(num_samples):\n",
    "    sample = np.random.choice(population, size=sample_size, replace=False)\n",
    "    sample_mean = np.mean(sample)\n",
    "    se = population_std / np.sqrt(sample_size)\n",
    "    ci = stats.norm.interval(0.95, loc=sample_mean, scale=se)\n",
    "    \n",
    "    mean_in_interval = ci[0] <= population_mean <= ci[1]\n",
    "\n",
    "    sample_stats.append((ci[0], sample_mean, ci[1], mean_in_interval))\n",
    "\n",
    "\n",
    "table = pd.DataFrame(sample_stats, columns=[\"Lower Bound\", \"Sample Mean\", \"Upper Bound\", \"Mean in CI\"])\n",
    "table.index.name = 'Sample'\n",
    "table.reset_index(inplace=True)\n",
    "print(table)\n",
    "\n",
    "print(f'The population mean is {population_mean}')\n",
    "mean_of_means = table['Sample Mean'].mean()\n",
    "print(f'The mean of the sample means is {mean_of_means}')\n",
    "max_upper = table['Upper Bound'].max()\n",
    "min_lower = table['Lower Bound'].min()\n",
    "print(f'The max upper bound is {max_upper}')\n",
    "print(f'The min lower bound is {min_lower}')\n",
    "\n",
    "true_count = table[\"Mean in CI\"].sum()\n",
    "false_count = len(table) - true_count\n",
    "percentage_true = (true_count / len(table)) * 100\n",
    "percentage_false = (false_count / len(table)) * 100\n",
    "print(f'The percentage of intervals containing the true parameter is {percentage_true}') \n",
    "print(f'The percentage of intervals not containing the true parameter is {percentage_false}')"
   ]
  },
  {
   "cell_type": "code",
   "execution_count": 74,
   "id": "310b020c-c5d3-4a5a-8a70-1157d63367cb",
   "metadata": {
    "tags": []
   },
   "outputs": [
    {
     "name": "stdout",
     "output_type": "stream",
     "text": [
      "The sample size is 300.\n",
      "The standard deviation is 19.879444758346796\n",
      "The sample mean is 100.05007244414492.\n",
      "The test is Z\n",
      "The CV is 1.959963984540054\n",
      "The sample mean has a margin of error of: 2.249529608990056.\n",
      "The sample mean has an upper confidence interval of: 102.29960205313498\n",
      "The sample mean has a lower confidence interval of 97.80054283515486\n"
     ]
    }
   ],
   "source": [
    "import numpy as np\n",
    "from scipy.stats import norm\n",
    "from scipy.stats import t\n",
    "\n",
    "x = [1, 2, 3, 4, 5, 6, 7]\n",
    "\n",
    "x = np.random.normal(loc=100, scale=20, size=300)\n",
    "\n",
    "def confidence_intervals(series, alpha):\n",
    "    n = len(series)\n",
    "    dof = n - 1\n",
    "    mean = np.mean(series)\n",
    "    std = np.std(series)\n",
    "    se = std / np.sqrt(n)\n",
    "    if len(series) >= 30:\n",
    "        cv = stats.norm.ppf(1-(alpha/2))\n",
    "        test = \"Z\"\n",
    "    else:\n",
    "        cv = stats.t.ppf(1-(alpha/2), df=df)\n",
    "        test = \"T\"\n",
    "    moe = cv * se\n",
    "\n",
    "    print(f'The sample size is {n}.')\n",
    "    print(f'The standard deviation is {std}')\n",
    "    print(f'The sample mean is {mean}.')\n",
    "    print(f'The test is {test}')\n",
    "    print(f'The CV is {cv}')\n",
    "    print(f'The sample mean has a margin of error of: {moe}.')\n",
    "    print(f'The sample mean has an upper confidence interval of: {mean + moe}')\n",
    "    print(f'The sample mean has a lower confidence interval of {mean - moe}')\n",
    "\n",
    "confidence_intervals(x,0.05)\n",
    "\n",
    "levels = [0.90, 0.95, 0.99]\n",
    "\n",
    "for i in levels:\n",
    "    confidence_intervals(x,i)"
   ]
  },
  {
   "cell_type": "code",
   "execution_count": 58,
   "id": "14af15a6-d42b-41de-a953-ff9d37cf417e",
   "metadata": {
    "tags": []
   },
   "outputs": [
    {
     "data": {
      "text/plain": [
       "-1.9599639845400545"
      ]
     },
     "execution_count": 58,
     "metadata": {},
     "output_type": "execute_result"
    }
   ],
   "source": [
    "levels = [0.90, 0.95, 0.99]\n",
    "\n",
    "for i in levels:\n",
    "    confidence_intervals(x,i)"
   ]
  }
 ],
 "metadata": {
  "kernelspec": {
   "display_name": "Python 3 (ipykernel)",
   "language": "python",
   "name": "python3"
  },
  "language_info": {
   "codemirror_mode": {
    "name": "ipython",
    "version": 3
   },
   "file_extension": ".py",
   "mimetype": "text/x-python",
   "name": "python",
   "nbconvert_exporter": "python",
   "pygments_lexer": "ipython3",
   "version": "3.11.5"
  }
 },
 "nbformat": 4,
 "nbformat_minor": 5
}
