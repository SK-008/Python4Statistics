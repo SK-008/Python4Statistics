{
 "cells": [
  {
   "cell_type": "markdown",
   "id": "8fe9ab15-c66a-4e41-9e38-58c6f784406b",
   "metadata": {},
   "source": [
    "# Confidence Intervals"
   ]
  },
  {
   "cell_type": "code",
   "execution_count": 10,
   "id": "d3c63864-cd5b-4a5f-8226-84a6dcdecff6",
   "metadata": {
    "tags": []
   },
   "outputs": [],
   "source": [
    "import pandas as pd\n",
    "import numpy as np\n",
    "import scipy.stats as stats\n",
    "from scipy.stats import norm\n",
    "from scipy.stats import t"
   ]
  },
  {
   "cell_type": "code",
   "execution_count": 10,
   "id": "a50c4aa1-42ad-455f-a4c9-a8903d8202dc",
   "metadata": {
    "tags": []
   },
   "outputs": [
    {
     "name": "stdout",
     "output_type": "stream",
     "text": [
      "     Sample  Lower Bound  Sample Mean  Upper Bound  Mean in CI\n",
      "0         0    90.411653    99.177245   107.942836        True\n",
      "1         1    91.581333   100.346924   109.112516        True\n",
      "2         2    90.592729    99.358320   108.123912        True\n",
      "3         3    88.815475    97.581066   106.346658        True\n",
      "4         4    92.750680   101.516271   110.281863        True\n",
      "..      ...          ...          ...          ...         ...\n",
      "995     995    91.808823   100.574414   109.340005        True\n",
      "996     996    93.698680   102.464272   111.229863        True\n",
      "997     997    80.014508    88.780099    97.545690       False\n",
      "998     998    89.989939    98.755531   107.521122        True\n",
      "999     999    95.654975   104.420567   113.186158        True\n",
      "\n",
      "[1000 rows x 5 columns]\n",
      "The population mean is 100.0431005147114\n",
      "The mean of the sample means is 99.76734097717592\n",
      "The max upper bound is 120.4359111617432\n",
      "The min lower bound is 77.48150145940889\n",
      "The percentage of intervals containing the true parameter is 95.19999999999999\n",
      "The percentage of intervals not containing the true parameter is 4.8\n"
     ]
    }
   ],
   "source": [
    "population = np.random.normal(loc=100, scale=20, size=1000000)\n",
    "\n",
    "population_mean = np.mean(population)\n",
    "population_std = np.std(population)\n",
    "\n",
    "num_samples = 1000\n",
    "sample_size = 20\n",
    "\n",
    "sample_stats = []\n",
    "\n",
    "for i in range(num_samples):\n",
    "    sample = np.random.choice(population, size=sample_size, replace=False)\n",
    "    sample_mean = np.mean(sample)\n",
    "    se = population_std / np.sqrt(sample_size)\n",
    "    ci = stats.norm.interval(0.95, loc=sample_mean, scale=se)\n",
    "    \n",
    "    mean_in_interval = ci[0] <= population_mean <= ci[1]\n",
    "\n",
    "    sample_stats.append((ci[0], sample_mean, ci[1], mean_in_interval))\n",
    "\n",
    "table = pd.DataFrame(sample_stats, columns=[\"Lower Bound\", \"Sample Mean\", \"Upper Bound\", \"Mean in CI\"])\n",
    "table.index.name = 'Sample'\n",
    "table.reset_index(inplace=True)\n",
    "print(table)\n",
    "\n",
    "print(f'The population mean is {population_mean}')\n",
    "mean_of_means = table['Sample Mean'].mean()\n",
    "print(f'The mean of the sample means is {mean_of_means}')\n",
    "max_upper = table['Upper Bound'].max()\n",
    "min_lower = table['Lower Bound'].min()\n",
    "print(f'The max upper bound is {max_upper}')\n",
    "print(f'The min lower bound is {min_lower}')\n",
    "\n",
    "true_count = table[\"Mean in CI\"].sum()\n",
    "false_count = len(table) - true_count\n",
    "percentage_true = (true_count / len(table)) * 100\n",
    "percentage_false = (false_count / len(table)) * 100\n",
    "print(f'The percentage of intervals containing the true parameter is {percentage_true}') \n",
    "print(f'The percentage of intervals not containing the true parameter is {percentage_false}')"
   ]
  },
  {
   "cell_type": "code",
   "execution_count": 11,
   "id": "310b020c-c5d3-4a5a-8a70-1157d63367cb",
   "metadata": {
    "tags": []
   },
   "outputs": [
    {
     "name": "stdout",
     "output_type": "stream",
     "text": [
      "The sample size is 7.\n",
      "The standard deviation is 2.0\n",
      "The sample mean is 4.0.\n",
      "Alpha is 0.1\n",
      "The confidence level is 0.9\n",
      "The test is T\n",
      "The CV is 1.9431802803927816\n",
      "The sample mean has a margin of error of: 1.46890622128116.\n",
      "The sample mean has an upper confidence interval of: 5.46890622128116\n",
      "The sample mean has a lower confidence interval of 2.53109377871884\n",
      "The sample size is 7.\n",
      "The standard deviation is 2.0\n",
      "The sample mean is 4.0.\n",
      "Alpha is 0.05\n",
      "The confidence level is 0.95\n",
      "The test is T\n",
      "The CV is 2.4469118487916806\n",
      "The sample mean has a margin of error of: 1.8496914948571628.\n",
      "The sample mean has an upper confidence interval of: 5.849691494857163\n",
      "The sample mean has a lower confidence interval of 2.1503085051428372\n",
      "The sample size is 7.\n",
      "The standard deviation is 2.0\n",
      "The sample mean is 4.0.\n",
      "Alpha is 0.01\n",
      "The confidence level is 0.99\n",
      "The test is T\n",
      "The CV is 3.707428021324907\n",
      "The sample mean has a margin of error of: 2.802552156599421.\n",
      "The sample mean has an upper confidence interval of: 6.802552156599421\n",
      "The sample mean has a lower confidence interval of 1.197447843400579\n"
     ]
    }
   ],
   "source": [
    "x = [1, 2, 3, 4, 5, 6, 7]\n",
    "\n",
    "#x = np.random.normal(loc=100, scale=20, size=300)\n",
    "\n",
    "def confidence_intervals(series, alpha):\n",
    "    n = len(series)\n",
    "    dof = n - 1\n",
    "    mean = np.mean(series)\n",
    "    std = np.std(series)\n",
    "    se = std / np.sqrt(n)\n",
    "    if len(series) >= 30:\n",
    "        cv = stats.norm.ppf(1-(alpha/2))\n",
    "        test = \"Z\"\n",
    "    else:\n",
    "        cv = stats.t.ppf(1-(alpha/2), df=dof)\n",
    "        test = \"T\"\n",
    "    moe = cv * se\n",
    "    upper = mean + moe\n",
    "    lower = mean - moe\n",
    "\n",
    "    print(f'The sample size is {n}.')\n",
    "    print(f'The standard deviation is {std}')\n",
    "    print(f'The sample mean is {mean}.')\n",
    "    print(f'Alpha is {alpha}')\n",
    "    print(f'The confidence level is {1-alpha}')\n",
    "    print(f'The test is {test}')\n",
    "    print(f'The CV is {cv}')\n",
    "    print(f'The sample mean has a margin of error of: {moe}.')\n",
    "    print(f'The sample mean has an upper confidence interval of: {upper}')\n",
    "    print(f'The sample mean has a lower confidence interval of {lower}')\n",
    "\n",
    "#confidence_intervals(x,0.05)\n",
    "\n",
    "alphas = [0.1, 0.05, 0.01]\n",
    "\n",
    "for i in alphas:\n",
    "    confidence_intervals(x,i)"
   ]
  },
  {
   "cell_type": "code",
   "execution_count": 3,
   "id": "612c5873-eb32-4cbe-96dc-53cd0cfd3418",
   "metadata": {
    "tags": []
   },
   "outputs": [
    {
     "name": "stdout",
     "output_type": "stream",
     "text": [
      "1.6448536269514722\n",
      "(92.68420112704213, 110.16269274208715)\n"
     ]
    }
   ],
   "source": [
    "alpha=0.10\n",
    "cv = stats.norm.ppf(1-(alpha/2))\n",
    "print(cv)\n",
    "ci = stats.norm.interval(0.95, loc=sample_mean, scale=se)\n",
    "print(ci)"
   ]
  }
 ],
 "metadata": {
  "kernelspec": {
   "display_name": "Python 3 (ipykernel)",
   "language": "python",
   "name": "python3"
  },
  "language_info": {
   "codemirror_mode": {
    "name": "ipython",
    "version": 3
   },
   "file_extension": ".py",
   "mimetype": "text/x-python",
   "name": "python",
   "nbconvert_exporter": "python",
   "pygments_lexer": "ipython3",
   "version": "3.11.7"
  }
 },
 "nbformat": 4,
 "nbformat_minor": 5
}
