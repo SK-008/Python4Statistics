{
 "cells": [
  {
   "cell_type": "code",
   "execution_count": 5,
   "id": "c4d87186-638c-4e63-9ed8-85a34dfd7663",
   "metadata": {},
   "outputs": [
    {
     "name": "stdout",
     "output_type": "stream",
     "text": [
      "0.4069999999999999\n"
     ]
    }
   ],
   "source": [
    "#Emperical CDF\n",
    "import numpy as np\n",
    "from scipy.stats import percentileofscore\n",
    "\n",
    "data = np.random.rand(1000)  \n",
    "\n",
    "a = 0.3  #Lower interval bound\n",
    "b = 0.7  #Upper interval bound\n",
    "\n",
    "#Calculate CDF values\n",
    "cdf_b = percentileofscore(data, b) / 100\n",
    "cdf_a = percentileofscore(data, a) / 100\n",
    "\n",
    "#Probability of the interval\n",
    "probability = cdf_b - cdf_a\n",
    "print(probability)"
   ]
  },
  {
   "cell_type": "code",
   "execution_count": 11,
   "id": "28d34644-84e9-41a6-8af4-dc2ac3b02150",
   "metadata": {},
   "outputs": [
    {
     "data": {
      "text/plain": [
       "0.40966485375724265"
      ]
     },
     "execution_count": 11,
     "metadata": {},
     "output_type": "execute_result"
    }
   ],
   "source": [
    "#Kernel Density Estimate\n",
    "import numpy as np\n",
    "from scipy.stats import gaussian_kde\n",
    "\n",
    "data = np.random.rand(1000)  \n",
    "a = 0.3  #Lower interval bound\n",
    "b = 0.7  #Upper interval bound\n",
    "\n",
    "kde = gaussian_kde(data)\n",
    "\n",
    "#Integrate the KDE over the interval [a, b]\n",
    "probability = kde.integrate_box_1d(a, b)\n",
    "print(probability)"
   ]
  },
  {
   "cell_type": "code",
   "execution_count": 13,
   "id": "18c4e85b-d248-47f9-af75-364a471e1c8f",
   "metadata": {},
   "outputs": [
    {
     "name": "stdout",
     "output_type": "stream",
     "text": [
      "0.24423291689030835\n"
     ]
    }
   ],
   "source": [
    "#Using the exponential distribution\n",
    "from scipy.stats import expon  \n",
    "\n",
    "scale = 1  #Example scale parameter\n",
    "a = 0.3  #Lower bound\n",
    "b = 0.7  #Upper bound\n",
    "\n",
    "# Probability of the interval\n",
    "probability = expon.cdf(b, scale=scale) - expon.cdf(a, scale=scale)\n",
    "print(probability)"
   ]
  }
 ],
 "metadata": {
  "kernelspec": {
   "display_name": "Python 3 (ipykernel)",
   "language": "python",
   "name": "python3"
  },
  "language_info": {
   "codemirror_mode": {
    "name": "ipython",
    "version": 3
   },
   "file_extension": ".py",
   "mimetype": "text/x-python",
   "name": "python",
   "nbconvert_exporter": "python",
   "pygments_lexer": "ipython3",
   "version": "3.11.0"
  }
 },
 "nbformat": 4,
 "nbformat_minor": 5
}
