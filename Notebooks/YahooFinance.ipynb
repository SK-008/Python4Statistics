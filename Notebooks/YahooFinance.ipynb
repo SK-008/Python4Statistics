{
 "cells": [
  {
   "cell_type": "markdown",
   "id": "b8a16ad0-967d-47f6-9971-d9c2a7b170e3",
   "metadata": {},
   "source": [
    "# Using the Yahoo Finance API"
   ]
  },
  {
   "cell_type": "code",
   "execution_count": 1,
   "id": "0a777f8c",
   "metadata": {},
   "outputs": [
    {
     "name": "stdout",
     "output_type": "stream",
     "text": [
      "[*********************100%***********************]  1 of 1 completed\n",
      "                  Open        High         Low       Close   Adj Close  \\\n",
      "Date                                                                     \n",
      "1980-12-12    0.128348    0.128906    0.128348    0.128348    0.099584   \n",
      "1980-12-15    0.122210    0.122210    0.121652    0.121652    0.094388   \n",
      "1980-12-16    0.113281    0.113281    0.112723    0.112723    0.087461   \n",
      "1980-12-17    0.115513    0.116071    0.115513    0.115513    0.089625   \n",
      "1980-12-18    0.118862    0.119420    0.118862    0.118862    0.092224   \n",
      "...                ...         ...         ...         ...         ...   \n",
      "2023-06-08  177.899994  180.839996  177.460007  180.570007  180.570007   \n",
      "2023-06-09  181.500000  182.229996  180.630005  180.960007  180.960007   \n",
      "2023-06-12  181.270004  183.889999  180.970001  183.789993  183.789993   \n",
      "2023-06-13  182.800003  184.149994  182.440002  183.309998  183.309998   \n",
      "2023-06-14  183.369995  184.384995  182.910004  184.039993  184.039993   \n",
      "\n",
      "               Volume  \n",
      "Date                   \n",
      "1980-12-12  469033600  \n",
      "1980-12-15  175884800  \n",
      "1980-12-16  105728000  \n",
      "1980-12-17   86441600  \n",
      "1980-12-18   73449600  \n",
      "...               ...  \n",
      "2023-06-08   50214900  \n",
      "2023-06-09   48870700  \n",
      "2023-06-12   54274900  \n",
      "2023-06-13   54868400  \n",
      "2023-06-14   22414028  \n",
      "\n",
      "[10716 rows x 6 columns]\n"
     ]
    }
   ],
   "source": [
    "import yfinance as yf\n",
    "ticker_symbol = \"AAPL\" \n",
    "stock_data = yf.download(ticker_symbol)\n",
    "print(stock_data)"
   ]
  }
 ],
 "metadata": {
  "kernelspec": {
   "display_name": "Python 3 (ipykernel)",
   "language": "python",
   "name": "python3"
  },
  "language_info": {
   "codemirror_mode": {
    "name": "ipython",
    "version": 3
   },
   "file_extension": ".py",
   "mimetype": "text/x-python",
   "name": "python",
   "nbconvert_exporter": "python",
   "pygments_lexer": "ipython3",
   "version": "3.11.7"
  }
 },
 "nbformat": 4,
 "nbformat_minor": 5
}
