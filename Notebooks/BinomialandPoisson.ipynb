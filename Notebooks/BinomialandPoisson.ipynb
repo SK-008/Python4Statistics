{
 "cells": [
  {
   "cell_type": "markdown",
   "id": "76ab5ce6-4056-4215-8c50-69b535b23da8",
   "metadata": {},
   "source": [
    "Discrete Probability Distributions - Binomial and Poisson"
   ]
  },
  {
   "cell_type": "code",
   "execution_count": 2,
   "id": "abc59a42-4c09-4168-a7e5-1972c4347ed2",
   "metadata": {},
   "outputs": [],
   "source": [
    "import math\n",
    "import matplotlib.pyplot as plt"
   ]
  },
  {
   "cell_type": "code",
   "execution_count": 4,
   "id": "5c4bda68-b820-442d-b91c-382a89670b88",
   "metadata": {},
   "outputs": [
    {
     "data": {
      "text/plain": [
       "120"
      ]
     },
     "execution_count": 4,
     "metadata": {},
     "output_type": "execute_result"
    }
   ],
   "source": [
    "#Factorials\n",
    "#Factorials = n! = Multiply a number by all the integers below it \n",
    "#5! = 5x4x3x2x1 = 120\n",
    "#0! = 1, 1! = 1\n",
    "\n",
    "def factorial(n):\n",
    "    if n == 0 or n == 1:\n",
    "        return 1\n",
    "    else:\n",
    "        result = 1\n",
    "        for i in range(2, n + 1): #n + 1 since range stops before last number\n",
    "            result *= i #inplace multiplication\n",
    "        return result\n",
    "    \n",
    "factorial(5)"
   ]
  },
  {
   "cell_type": "code",
   "execution_count": 5,
   "id": "004872cb-c60a-4f96-b3b8-4ac68baea34a",
   "metadata": {},
   "outputs": [
    {
     "data": {
      "text/plain": [
       "210"
      ]
     },
     "execution_count": 5,
     "metadata": {},
     "output_type": "execute_result"
    }
   ],
   "source": [
    "#Combinations\n",
    "#Combinations = How many sets of k-size can be made out of n-items, if order doesnt matter\n",
    "\n",
    "def combination(n, k):\n",
    "    combinations = factorial(n) / ((factorial(k) * factorial(n - k)))\n",
    "    return int(combinations)\n",
    "\n",
    "combination(10,4)"
   ]
  },
  {
   "cell_type": "markdown",
   "id": "4c9fafbf-9ea1-4a3b-a6ef-6bdacfeecf71",
   "metadata": {},
   "source": [
    "The Binomial Distribution "
   ]
  },
  {
   "cell_type": "code",
   "execution_count": 6,
   "id": "a4fad561-b5c6-47f0-a62a-6e8138e16bba",
   "metadata": {},
   "outputs": [
    {
     "name": "stdout",
     "output_type": "stream",
     "text": [
      "120\n",
      "210\n"
     ]
    }
   ],
   "source": [
    "#Alternatively...\n",
    "import math\n",
    "print(math.factorial(5))\n",
    "print(math.comb(10,4))"
   ]
  },
  {
   "cell_type": "code",
   "execution_count": 7,
   "id": "49597dbc-fdaa-42bc-8eb6-923b13f6359e",
   "metadata": {},
   "outputs": [
    {
     "data": {
      "text/plain": [
       "0.24300000000000005"
      ]
     },
     "execution_count": 7,
     "metadata": {},
     "output_type": "execute_result"
    }
   ],
   "source": [
    "#The Binomial Formula\n",
    "def binomial(x,n,pi):\n",
    "    c = combination(n,x)\n",
    "    p = c * (pi**x)*(1-pi)**(n-x)\n",
    "    return p\n",
    "\n",
    "binomial(1,3,0.1)"
   ]
  },
  {
   "cell_type": "code",
   "execution_count": 8,
   "id": "250afe42-30b1-4369-b1b1-31c3dfb3d2b3",
   "metadata": {},
   "outputs": [
    {
     "data": {
      "text/plain": [
       "0.011160261000000003"
      ]
     },
     "execution_count": 8,
     "metadata": {},
     "output_type": "execute_result"
    }
   ],
   "source": [
    "#p(x=4)\n",
    "n = 10\n",
    "x = 4\n",
    "pi = 0.10\n",
    "binomial(x,n,pi)"
   ]
  },
  {
   "cell_type": "code",
   "execution_count": 9,
   "id": "295781df-f36e-4288-af56-c36ac986ddc9",
   "metadata": {},
   "outputs": [
    {
     "name": "stdout",
     "output_type": "stream",
     "text": [
      "[0.3486784401000001, 0.3874204890000001, 0.19371024450000007, 0.05739562800000002, 0.011160261000000003, 0.0014880348000000005]\n"
     ]
    }
   ],
   "source": [
    "#Creating a probability distribution\n",
    "successes = [0,1,2,3,4,5]\n",
    "pi = 0.1\n",
    "n = 10\n",
    "probs = []\n",
    "\n",
    "for i in successes:\n",
    "    p = binomial(i,n,pi)\n",
    "    probs.append(p)\n",
    "    \n",
    "print(probs)"
   ]
  },
  {
   "cell_type": "code",
   "execution_count": 11,
   "id": "51f30ab4-0710-4670-a2f4-cc820e2aa835",
   "metadata": {},
   "outputs": [
    {
     "data": {
      "image/png": "[encoded data removed]",
      "text/plain": [
       "<Figure size 640x480 with 1 Axes>"
      ]
     },
     "metadata": {},
     "output_type": "display_data"
    }
   ],
   "source": [
    "plt.bar(successes, probs)\n",
    "plt.title('Binomial Probability Mass Function')\n",
    "plt.xlabel('X')\n",
    "plt.ylabel('Probability')\n",
    "plt.show()"
   ]
  },
  {
   "cell_type": "code",
   "execution_count": 51,
   "id": "b531c469-89d2-42fc-bbe8-03fd225e4526",
   "metadata": {},
   "outputs": [
    {
     "name": "stdout",
     "output_type": "stream",
     "text": [
      "0.9983650626000002\n"
     ]
    }
   ],
   "source": [
    "#p(x<=4)\n",
    "n = 10\n",
    "x = 4\n",
    "pi = 0.10\n",
    "c = 0\n",
    "\n",
    "for i in range(0,x+1): #x+1 instead of x for <= vs <\n",
    "    c += binomial(i,n,pi)\n",
    "\n",
    "print(c)"
   ]
  },
  {
   "cell_type": "code",
   "execution_count": 52,
   "id": "92c890b8-25bc-4a90-b5c1-0117b39b3405",
   "metadata": {},
   "outputs": [
    {
     "name": "stdout",
     "output_type": "stream",
     "text": [
      "0.9872048016000002\n"
     ]
    }
   ],
   "source": [
    "#p(x<4)\n",
    "n = 10\n",
    "x = 4\n",
    "pi = 0.10\n",
    "c = 0\n",
    "\n",
    "for i in range(0,x): #x instead of x+1 for < vs <=\n",
    "    c += binomial(i,n,pi)\n",
    "\n",
    "print(c)"
   ]
  },
  {
   "cell_type": "code",
   "execution_count": 53,
   "id": "f0eb62c8-9e0a-4298-a233-a1e379fd9e73",
   "metadata": {},
   "outputs": [
    {
     "name": "stdout",
     "output_type": "stream",
     "text": [
      "0.0016349373999997585\n"
     ]
    }
   ],
   "source": [
    "#(x>4)\n",
    "n = 10\n",
    "x = 4\n",
    "pi = 0.10\n",
    "c = 0\n",
    "\n",
    "for i in range(0,x+1):\n",
    "    c += binomial(i,n,pi)\n",
    "    \n",
    "print(1-c)"
   ]
  },
  {
   "cell_type": "code",
   "execution_count": 54,
   "id": "60bb9f4a-cebb-424f-af4a-160461a37b24",
   "metadata": {},
   "outputs": [
    {
     "name": "stdout",
     "output_type": "stream",
     "text": [
      "0.012795198399999763\n"
     ]
    }
   ],
   "source": [
    "#(x>=4)\n",
    "n = 10\n",
    "x = 4\n",
    "pi = 0.10\n",
    "c = 0\n",
    "\n",
    "for i in range(0,x):\n",
    "    c += binomial(i,n,pi)\n",
    "    \n",
    "print(1-c)"
   ]
  },
  {
   "cell_type": "markdown",
   "id": "aaa2297f-94d2-44fc-829b-fc6a2a13a97d",
   "metadata": {},
   "source": [
    "The Poisson Distribution"
   ]
  },
  {
   "cell_type": "code",
   "execution_count": 14,
   "id": "3de117b8-83fa-4c78-9a1d-0afbcebfb384",
   "metadata": {},
   "outputs": [
    {
     "data": {
      "text/plain": [
       "0.018916637401035354"
      ]
     },
     "execution_count": 14,
     "metadata": {},
     "output_type": "execute_result"
    }
   ],
   "source": [
    "import math #import math to call the exponentiate function: exp()\n",
    "#l = lambda = average rate \n",
    "#k = number of events\n",
    "\n",
    "def poisson(l,k):\n",
    "    numerator = (l**k)*(math.exp(-l))\n",
    "    denominator = factorial(k)\n",
    "    p = numerator / denominator\n",
    "    return p\n",
    "    \n",
    "poisson(10,4)"
   ]
  },
  {
   "cell_type": "code",
   "execution_count": 15,
   "id": "644e3c34-0cb5-47b3-9c9f-f46ec8ba2d3e",
   "metadata": {},
   "outputs": [
    {
     "name": "stdout",
     "output_type": "stream",
     "text": [
      "[0.1353352832366127, 0.2706705664732254, 0.2706705664732254, 0.1804470443154836, 0.0902235221577418, 0.03608940886309672, 0.012029802954365574]\n"
     ]
    }
   ],
   "source": [
    "#Creating a probability distribution\n",
    "x = [0,1,2,3,4,5,6]\n",
    "p_of_x = []\n",
    "l = 2\n",
    "\n",
    "for i in x:\n",
    "    p_of_x.append(poisson(l,i))\n",
    "\n",
    "print(p_of_x)"
   ]
  },
  {
   "cell_type": "code",
   "execution_count": 16,
   "id": "d33e2f36-8649-4a5e-bbf4-5f56576434bb",
   "metadata": {},
   "outputs": [
    {
     "data": {
      "image/png": "[encoded data removed]",
      "text/plain": [
       "<Figure size 640x480 with 1 Axes>"
      ]
     },
     "metadata": {},
     "output_type": "display_data"
    }
   ],
   "source": [
    "plt.bar(x, p_of_x)\n",
    "plt.title('Poisson Probability Mass Function')\n",
    "plt.xlabel('X')\n",
    "plt.ylabel('Probability')\n",
    "plt.show()"
   ]
  },
  {
   "cell_type": "code",
   "execution_count": null,
   "id": "c91a4fba-6397-4090-ad24-8f6bc6a897da",
   "metadata": {},
   "outputs": [],
   "source": [
    "from scipy.stats import poisson\n",
    "from scipy.stats import binom\n",
    "\n",
    "#Binomial Probability Mass Fuction\n",
    "#prob = binom.pmf(k, n, p)\n",
    "\n",
    "#Binomial Cumulative Distribution Function\n",
    "#cum_prob = binom.cdf(k, n, p)\n",
    "\n",
    "#Poisson Probability Mass Fuction\n",
    "#prob = poisson.pmf(k, mu)\n",
    "\n",
    "#Poisson Cumulative Distribution Fuction\n",
    "#cum_prob = poisson.cdf(k, mu)\n",
    "\n"
   ]
  }
 ],
 "metadata": {
  "kernelspec": {
   "display_name": "Python 3 (ipykernel)",
   "language": "python",
   "name": "python3"
  },
  "language_info": {
   "codemirror_mode": {
    "name": "ipython",
    "version": 3
   },
   "file_extension": ".py",
   "mimetype": "text/x-python",
   "name": "python",
   "nbconvert_exporter": "python",
   "pygments_lexer": "ipython3",
   "version": "3.10.9"
  }
 },
 "nbformat": 4,
 "nbformat_minor": 5
}
