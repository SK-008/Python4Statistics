{
 "cells": [
  {
   "cell_type": "markdown",
   "id": "76ab5ce6-4056-4215-8c50-69b535b23da8",
   "metadata": {},
   "source": [
    "# Discrete Probability Distributions - Binomial and Poisson"
   ]
  },
  {
   "cell_type": "code",
   "execution_count": 4,
   "id": "abc59a42-4c09-4168-a7e5-1972c4347ed2",
   "metadata": {
    "tags": []
   },
   "outputs": [],
   "source": [
    "import math\n",
    "import matplotlib.pyplot as plt"
   ]
  },
  {
   "cell_type": "code",
   "execution_count": 6,
   "id": "5c4bda68-b820-442d-b91c-382a89670b88",
   "metadata": {
    "tags": []
   },
   "outputs": [
    {
     "data": {
      "text/plain": [
       "120"
      ]
     },
     "execution_count": 6,
     "metadata": {},
     "output_type": "execute_result"
    }
   ],
   "source": [
    "#Factorials\n",
    "#Factorials = n! = Multiply a number by all the integers below it \n",
    "#5! = 5x4x3x2x1 = 120\n",
    "#0! = 1, 1! = 1\n",
    "\n",
    "def factorial(n):\n",
    "    if n == 0 or n == 1:\n",
    "        return 1\n",
    "    else:\n",
    "        result = 1\n",
    "        for i in range(2, n + 1): #n + 1 since range stops before last number\n",
    "            result *= i #inplace multiplication\n",
    "        return result\n",
    "    \n",
    "factorial(5)"
   ]
  },
  {
   "cell_type": "code",
   "execution_count": 8,
   "id": "004872cb-c60a-4f96-b3b8-4ac68baea34a",
   "metadata": {
    "tags": []
   },
   "outputs": [
    {
     "data": {
      "text/plain": [
       "210"
      ]
     },
     "execution_count": 8,
     "metadata": {},
     "output_type": "execute_result"
    }
   ],
   "source": [
    "#Combinations\n",
    "#Combinations = How many sets of k-size can be made out of n-items, if order doesnt matter\n",
    "\n",
    "def combination(n, k):\n",
    "    combinations = factorial(n) / ((factorial(k) * factorial(n - k)))\n",
    "    return int(combinations)\n",
    "\n",
    "combination(10,4)"
   ]
  },
  {
   "cell_type": "markdown",
   "id": "4c9fafbf-9ea1-4a3b-a6ef-6bdacfeecf71",
   "metadata": {},
   "source": [
    "# The Binomial Distribution "
   ]
  },
  {
   "cell_type": "code",
   "execution_count": 11,
   "id": "a4fad561-b5c6-47f0-a62a-6e8138e16bba",
   "metadata": {
    "tags": []
   },
   "outputs": [
    {
     "name": "stdout",
     "output_type": "stream",
     "text": [
      "120\n",
      "210\n"
     ]
    }
   ],
   "source": [
    "#Alternatively...\n",
    "print(math.factorial(5))\n",
    "print(math.comb(10,4))"
   ]
  },
  {
   "cell_type": "code",
   "execution_count": 21,
   "id": "49597dbc-fdaa-42bc-8eb6-923b13f6359e",
   "metadata": {
    "tags": []
   },
   "outputs": [],
   "source": [
    "#Creating a binomial formula function\n",
    "#x = number of successes, n = number of trials, pi = probability of success\n",
    "def binomial(x,n,pi):\n",
    "    c = combination(n,x)\n",
    "    p = c * (pi**x)*(1-pi)**(n-x)\n",
    "    return p"
   ]
  },
  {
   "cell_type": "code",
   "execution_count": 111,
   "id": "295781df-f36e-4288-af56-c36ac986ddc9",
   "metadata": {
    "tags": []
   },
   "outputs": [
    {
     "name": "stdout",
     "output_type": "stream",
     "text": [
      "[0.3486784401000001, 0.3874204890000001, 0.19371024450000007, 0.05739562800000002, 0.011160261000000003, 0.0014880348000000005, 0.00013778100000000007, 8.748000000000003e-06, 3.6450000000000023e-07, 9.000000000000004e-09, 1.0000000000000006e-10]\n"
     ]
    }
   ],
   "source": [
    "#Creating a probability distribution\n",
    "successes = [0,1,2,3,4,5,6,7,8,9,10]\n",
    "pi = 0.1\n",
    "n = 10\n",
    "probs = []\n",
    "\n",
    "for i in successes:\n",
    "    p = binomial(i,n,pi)\n",
    "    probs.append(p)\n",
    "    \n",
    "print(probs)"
   ]
  },
  {
   "cell_type": "code",
   "execution_count": 113,
   "id": "51f30ab4-0710-4670-a2f4-cc820e2aa835",
   "metadata": {
    "tags": []
   },
   "outputs": [
    {
     "data": {
      "image/png": "[encoded data removed]",
      "text/plain": [
       "<Figure size 640x480 with 1 Axes>"
      ]
     },
     "metadata": {},
     "output_type": "display_data"
    }
   ],
   "source": [
    "#Plotting the distribution \n",
    "plt.bar(successes, probs)\n",
    "plt.title('Binomial Probability Mass Function')\n",
    "plt.xlabel('X')\n",
    "plt.ylabel('Probability')\n",
    "plt.show()"
   ]
  },
  {
   "cell_type": "code",
   "execution_count": 150,
   "id": "250afe42-30b1-4369-b1b1-31c3dfb3d2b3",
   "metadata": {
    "tags": []
   },
   "outputs": [
    {
     "data": {
      "text/plain": [
       "0.19371024450000007"
      ]
     },
     "execution_count": 150,
     "metadata": {},
     "output_type": "execute_result"
    }
   ],
   "source": [
    "#p(x=2), 10 trials, 2 successes, probability of success = 10%\n",
    "n = 10\n",
    "x = 2\n",
    "pi = 0.10\n",
    "binomial(x,n,pi)"
   ]
  },
  {
   "cell_type": "code",
   "execution_count": 47,
   "id": "92c890b8-25bc-4a90-b5c1-0117b39b3405",
   "metadata": {
    "tags": []
   },
   "outputs": [
    {
     "name": "stdout",
     "output_type": "stream",
     "text": [
      "0.7360989291000002\n"
     ]
    }
   ],
   "source": [
    "#p(x<2)\n",
    "n = 10\n",
    "x = 2\n",
    "pi = 0.10\n",
    "p = 0\n",
    "\n",
    "for i in range(0, x): #Use x for p(x<X) and x+1 for p(x<=X)\n",
    "    p += binomial(i, n, pi)\n",
    "\n",
    "print(p)"
   ]
  },
  {
   "cell_type": "code",
   "execution_count": 45,
   "id": "b531c469-89d2-42fc-bbe8-03fd225e4526",
   "metadata": {
    "tags": []
   },
   "outputs": [
    {
     "name": "stdout",
     "output_type": "stream",
     "text": [
      "0.9298091736000003\n"
     ]
    }
   ],
   "source": [
    "#p(x<=2)\n",
    "n = 10\n",
    "x = 2\n",
    "pi = 0.10\n",
    "p = 0\n",
    "\n",
    "for i in range(0, x + 1): \n",
    "    p += binomial(i,n,pi)\n",
    "\n",
    "print(p)"
   ]
  },
  {
   "cell_type": "code",
   "execution_count": 120,
   "id": "60bb9f4a-cebb-424f-af4a-160461a37b24",
   "metadata": {
    "tags": []
   },
   "outputs": [
    {
     "name": "stdout",
     "output_type": "stream",
     "text": [
      "0.07019082639999974\n"
     ]
    }
   ],
   "source": [
    "#(x>2)\n",
    "n = 10\n",
    "x = 2\n",
    "pi = 0.10\n",
    "c = 0\n",
    "\n",
    "for i in range(0, x + 1):\n",
    "    c += binomial(i, n, pi)\n",
    "    p = 1 - c\n",
    "    \n",
    "print(p)"
   ]
  },
  {
   "cell_type": "code",
   "execution_count": 122,
   "id": "48189548-cb64-4b07-830d-208a312c392f",
   "metadata": {
    "tags": []
   },
   "outputs": [
    {
     "name": "stdout",
     "output_type": "stream",
     "text": [
      "0.2639010708999998\n"
     ]
    }
   ],
   "source": [
    "#(x>=2)\n",
    "n = 10\n",
    "x = 2\n",
    "pi = 0.10\n",
    "c = 0\n",
    "\n",
    "for i in range(0, x):\n",
    "    c += binomial(i, n, pi)\n",
    "    p = 1 - c\n",
    "    \n",
    "print(p)"
   ]
  },
  {
   "cell_type": "code",
   "execution_count": 138,
   "id": "b86f3586-bd54-443b-8ee4-e4624a7b5517",
   "metadata": {
    "tags": []
   },
   "outputs": [
    {
     "name": "stdout",
     "output_type": "stream",
     "text": [
      "0.19371024450000007\n",
      "0.07019082639999974\n",
      "0.2639010708999998\n",
      "0.7360989291000002\n",
      "0.9298091736000003\n"
     ]
    }
   ],
   "source": [
    "#Custom function to find binomially distributed probabilities\n",
    "def binom_prob_finder(n, x, pi, test_type):\n",
    "    if test_type == \"=\":\n",
    "        p = binomial(x, n, pi)\n",
    "    elif test_type == \"x>=\":\n",
    "        c = 0\n",
    "        for i in range(0, x):\n",
    "            c += binomial(i, n, pi)\n",
    "            p = 1 - c\n",
    "    elif test_type == \"x>\":\n",
    "        c = 0\n",
    "        for i in range(0, x + 1):\n",
    "            c += binomial(i, n, pi)\n",
    "            p = 1 - c\n",
    "    elif test_type == \"x<=\":\n",
    "        p = 0\n",
    "        for i in range(0, x + 1): #Use x+1 for p(x<=X) and x for p(x<X)\n",
    "            p += binomial(i,n,pi)\n",
    "    elif test_type == \"x<\":\n",
    "        p = 0\n",
    "        for i in range(0, x):\n",
    "            p += binomial(i, n, pi)\n",
    "    return p\n",
    "\n",
    "print(binom_prob_finder(10, 2, 0.1, \"=\"))\n",
    "print(binom_prob_finder(10, 2, 0.1, \"x>\"))\n",
    "print(binom_prob_finder(10, 2, 0.1, \"x>=\"))\n",
    "print(binom_prob_finder(10, 2, 0.1, \"x<\"))\n",
    "print(binom_prob_finder(10, 2, 0.1, \"x<=\"))"
   ]
  },
  {
   "cell_type": "markdown",
   "id": "aaa2297f-94d2-44fc-829b-fc6a2a13a97d",
   "metadata": {},
   "source": [
    "# The Poisson Distribution"
   ]
  },
  {
   "cell_type": "code",
   "execution_count": 144,
   "id": "3de117b8-83fa-4c78-9a1d-0afbcebfb384",
   "metadata": {
    "tags": []
   },
   "outputs": [],
   "source": [
    "#Creating a poisson formula function\n",
    "#l = lambda = average rate of events, x = number of events\n",
    "\n",
    "def poisson(l,x):\n",
    "    numerator = (l**k)*(math.exp(-l))\n",
    "    denominator = factorial(x)\n",
    "    p = numerator / denominator\n",
    "    return p"
   ]
  },
  {
   "cell_type": "code",
   "execution_count": 192,
   "id": "644e3c34-0cb5-47b3-9c9f-f46ec8ba2d3e",
   "metadata": {
    "tags": []
   },
   "outputs": [
    {
     "name": "stdout",
     "output_type": "stream",
     "text": [
      "[0.1353352832366127, 0.2706705664732254, 0.2706705664732254, 0.1804470443154836, 0.0902235221577418, 0.03608940886309672, 0.012029802954365574, 0.0034370865583901638, 0.0008592716395975409, 0.00019094925324389798, 3.8189850648779595e-05]\n"
     ]
    }
   ],
   "source": [
    "#Creating a probability mass function\n",
    "x = [0,1,2,3,4,5,6,7,8,9,10]\n",
    "l = 2\n",
    "\n",
    "ps = []\n",
    "\n",
    "for i in x:\n",
    "    ps.append(poisson(l,i))\n",
    "\n",
    "print(ps)"
   ]
  },
  {
   "cell_type": "code",
   "execution_count": 194,
   "id": "d33e2f36-8649-4a5e-bbf4-5f56576434bb",
   "metadata": {
    "tags": []
   },
   "outputs": [
    {
     "data": {
      "image/png": "[encoded data removed]",
      "text/plain": [
       "<Figure size 640x480 with 1 Axes>"
      ]
     },
     "metadata": {},
     "output_type": "display_data"
    }
   ],
   "source": [
    "#Plotting the probability mass function\n",
    "plt.bar(x, ps)\n",
    "plt.title('Poisson Probability Mass Function')\n",
    "plt.xlabel('X')\n",
    "plt.ylabel('Probability')\n",
    "plt.show()"
   ]
  },
  {
   "cell_type": "code",
   "execution_count": 172,
   "id": "d2ef9751-7350-4711-8197-9256563189c2",
   "metadata": {
    "tags": []
   },
   "outputs": [
    {
     "data": {
      "text/plain": [
       "0.14037389581428056"
      ]
     },
     "execution_count": 172,
     "metadata": {},
     "output_type": "execute_result"
    }
   ],
   "source": [
    "#Calculating probabilities - lambda = 5\n",
    "#(x=3)\n",
    "x=3\n",
    "l=5\n",
    "\n",
    "poisson(l,x)"
   ]
  },
  {
   "cell_type": "code",
   "execution_count": 180,
   "id": "8e6bcedd-d19b-4fd2-b6ca-d9721844b006",
   "metadata": {
    "tags": []
   },
   "outputs": [
    {
     "data": {
      "text/plain": [
       "0.12465201948308113"
      ]
     },
     "execution_count": 180,
     "metadata": {},
     "output_type": "execute_result"
    }
   ],
   "source": [
    "#p(x<3)\n",
    "x=3\n",
    "l=5\n",
    "\n",
    "p=0\n",
    "for i in range(0, x): #Use x+1 for p(x<=X) and x for p(x<X)\n",
    "    p += poisson(l,i)\n",
    "    \n",
    "p  "
   ]
  },
  {
   "cell_type": "code",
   "execution_count": 182,
   "id": "94acb6d1-fdc7-42d5-abe6-eee118bdb568",
   "metadata": {
    "tags": []
   },
   "outputs": [
    {
     "data": {
      "text/plain": [
       "0.2650259152973617"
      ]
     },
     "execution_count": 182,
     "metadata": {},
     "output_type": "execute_result"
    }
   ],
   "source": [
    "#p(x<=3)\n",
    "x=3\n",
    "l=5\n",
    "\n",
    "p=0\n",
    "for i in range(0, x+1): \n",
    "    p += poisson(l,i)\n",
    "    \n",
    "p  "
   ]
  },
  {
   "cell_type": "code",
   "execution_count": 186,
   "id": "f39b194f-37fc-47d9-b31a-0d7264a5707d",
   "metadata": {
    "tags": []
   },
   "outputs": [
    {
     "data": {
      "text/plain": [
       "0.7349740847026383"
      ]
     },
     "execution_count": 186,
     "metadata": {},
     "output_type": "execute_result"
    }
   ],
   "source": [
    "#p(x>3)\n",
    "x=3\n",
    "l=5\n",
    "\n",
    "p=0\n",
    "c=0\n",
    "\n",
    "for i in range(0, x+1): \n",
    "    c += poisson(l,i)\n",
    "    p = 1 - c\n",
    "    \n",
    "p "
   ]
  },
  {
   "cell_type": "code",
   "execution_count": 188,
   "id": "f6bd303b-4036-448c-adac-59a11ac2f8f2",
   "metadata": {
    "tags": []
   },
   "outputs": [
    {
     "data": {
      "text/plain": [
       "0.8753479805169189"
      ]
     },
     "execution_count": 188,
     "metadata": {},
     "output_type": "execute_result"
    }
   ],
   "source": [
    "#p(x>=3)\n",
    "x=3\n",
    "l=5\n",
    "\n",
    "p=0\n",
    "c=0\n",
    "\n",
    "for i in range(0, x): \n",
    "    c += poisson(l,i)\n",
    "    p = 1 - c\n",
    "    \n",
    "p  "
   ]
  },
  {
   "cell_type": "code",
   "execution_count": 220,
   "id": "c91a4fba-6397-4090-ad24-8f6bc6a897da",
   "metadata": {
    "tags": []
   },
   "outputs": [
    {
     "name": "stdout",
     "output_type": "stream",
     "text": [
      "0.99144\n"
     ]
    }
   ],
   "source": [
    "#The easy way...\n",
    "from scipy.stats import poisson\n",
    "from scipy.stats import binom\n",
    "\n",
    "#Binomial Probability Mass Fuction\n",
    "#prob = binom.pmf(k, n, p)\n",
    "\n",
    "#Binomial Cumulative Distribution Function\n",
    "#cum_prob = binom.cdf(k, n, p)\n",
    "\n",
    "#Poisson Probability Mass Fuction\n",
    "#prob = poisson.pmf(k, mu)\n",
    "\n",
    "#Poisson Cumulative Distribution Fuction\n",
    "#cum_prob = poisson.cdf(k, mu)"
   ]
  }
 ],
 "metadata": {
  "kernelspec": {
   "display_name": "Python 3 (ipykernel)",
   "language": "python",
   "name": "python3"
  },
  "language_info": {
   "codemirror_mode": {
    "name": "ipython",
    "version": 3
   },
   "file_extension": ".py",
   "mimetype": "text/x-python",
   "name": "python",
   "nbconvert_exporter": "python",
   "pygments_lexer": "ipython3",
   "version": "3.11.0"
  }
 },
 "nbformat": 4,
 "nbformat_minor": 5
}
