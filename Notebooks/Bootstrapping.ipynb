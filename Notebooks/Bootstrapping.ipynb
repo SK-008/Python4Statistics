{
 "cells": [
  {
   "cell_type": "markdown",
   "id": "b1c57c11-2564-472e-befb-c28086829af2",
   "metadata": {},
   "source": [
    "# Bootstrapping - Incomplete"
   ]
  },
  {
   "cell_type": "code",
   "execution_count": 36,
   "id": "e7252125-7c07-4a82-ace1-265d8ea714b3",
   "metadata": {
    "tags": []
   },
   "outputs": [],
   "source": [
    "import numpy as np\n",
    "import pandas as pd\n",
    "import statsmodels.api as sm\n",
    "from sklearn.metrics import accuracy_score, classification_report, confusion_matrix, mean_squared_error, r2_score\n",
    "from sklearn.utils import resample\n",
    "from sklearn.linear_model import LogisticRegression"
   ]
  },
  {
   "cell_type": "code",
   "execution_count": 58,
   "id": "d300cf59-9adb-4525-ba47-8e7530838328",
   "metadata": {
    "tags": []
   },
   "outputs": [
    {
     "data": {
      "text/plain": [
       "300"
      ]
     },
     "execution_count": 58,
     "metadata": {},
     "output_type": "execute_result"
    }
   ],
   "source": [
    "df = pd.read_csv('../Data/affairs.csv')\n",
    "df.head()\n",
    "len(df)\n",
    "df = df.iloc[:300]\n",
    "len(df)"
   ]
  },
  {
   "cell_type": "code",
   "execution_count": 50,
   "id": "b6a17602-57d2-46f1-9c77-3500226f8fba",
   "metadata": {
    "tags": []
   },
   "outputs": [],
   "source": [
    "def had_affair(x):\n",
    "    if x > 0:\n",
    "        return 1\n",
    "    else:\n",
    "        return 0\n",
    "    \n",
    "df['had_affair'] = df['affair_count'].map(had_affair)"
   ]
  },
  {
   "cell_type": "code",
   "execution_count": 52,
   "id": "ebd0b37d-4816-4a69-89dc-7575028a616f",
   "metadata": {
    "tags": []
   },
   "outputs": [],
   "source": [
    "y = df['had_affair']\n",
    "X = df[['religiousness_1to5','years_of_education','have_kids','years_married','marriage_rating_1to5']]"
   ]
  },
  {
   "cell_type": "code",
   "execution_count": 60,
   "id": "d71f2c16-547a-461f-b7ce-0030374b361c",
   "metadata": {
    "tags": []
   },
   "outputs": [
    {
     "name": "stdout",
     "output_type": "stream",
     "text": [
      "Accuracy: 0.902\n",
      "Mean Squared Error w/o Bootstrapping: 0.098\n"
     ]
    }
   ],
   "source": [
    "model = sm.Logit(y,X)\n",
    "results = model.fit(disp=False)\n",
    "y_probs = results.predict(X)\n",
    "y_preds = np.round(y_probs).astype(int)\n",
    "accuracy = accuracy_score(y, y_preds)\n",
    "mse = mean_squared_error(y, y_preds)\n",
    "print(\"Accuracy:\", accuracy)\n",
    "print(f'Mean Squared Error w/o Bootstrapping: {mse}')"
   ]
  },
  {
   "cell_type": "code",
   "execution_count": 56,
   "id": "b4388ab6-0c47-441d-8392-a132d2a96ff5",
   "metadata": {
    "tags": []
   },
   "outputs": [
    {
     "name": "stdout",
     "output_type": "stream",
     "text": [
      "Accuracy w/ Bootstrapping: 0.902\n",
      "Accuracy Improvement: 0.0\n",
      "Mean Squared Error w/ Bootstrapping: 0.098\n",
      "MSE Improvement: -0.0\n"
     ]
    }
   ],
   "source": [
    "#Bootstrapping, n = 100\n",
    "bootstraps = 100\n",
    "y_probabilities_bootstrap_array = np.zeros_like(y, dtype=float) #Create an array of zeros\n",
    "\n",
    "for i in range(bootstraps):\n",
    "    X_resampled, y_resampled = resample(X, y) #Resample with replacement\n",
    "    model = sm.Logit(y_resampled, X_resampled)\n",
    "    result = model.fit(disp=False)\n",
    "    y_probabilities = result.predict(X)\n",
    "    y_probabilities_bootstrap_array += y_probabilities\n",
    "\n",
    "y_probabilities_bootstrapped = y_probabilities_bootstrap_array / bootstraps #Average the accumulated predictions\n",
    "y_predictions_bootstrapped = (y_probabilities_bootstrapped >= 0.5).astype(int)\n",
    "\n",
    "accuracy2 = accuracy_score(y, y_predictions_bootstrapped)\n",
    "mse2 = mean_squared_error(y, y_predictions_bootstrapped)\n",
    "print(\"Accuracy w/ Bootstrapping:\", accuracy2)\n",
    "print(f\"Accuracy Improvement: {accuracy2-accuracy}\")\n",
    "print(f'Mean Squared Error w/ Bootstrapping: {mse2}')\n",
    "print(f\"MSE Improvement: -{mse2-mse}\")"
   ]
  },
  {
   "cell_type": "code",
   "execution_count": 14,
   "id": "6101b569-528f-46aa-8dd6-68f7e8a680c7",
   "metadata": {
    "tags": []
   },
   "outputs": [
    {
     "name": "stdout",
     "output_type": "stream",
     "text": [
      "Accuracy: 0.7587354409317804\n",
      "Accuracy Improvement: 0.0\n",
      "Mean Squared Error w/ Bootstrapping: 0.24126455906821964\n",
      "MSE Improvement: 0.0\n"
     ]
    }
   ],
   "source": [
    "#Bootstrapping, n=100\n",
    "bootstraps = 100\n",
    "y_probabilities_bootstrap_array = np.zeros_like(y, dtype=float) #Create an array of zeros\n",
    "\n",
    "for i in range(bootstraps):\n",
    "    X_resampled, y_resampled = resample(X, y) #Resample with replacement\n",
    "    model = sm.Logit(y_resampled, X_resampled)\n",
    "    result = model.fit(disp=False)\n",
    "    y_probabilities = result.predict(X)\n",
    "    y_probabilities_bootstrap_array += y_probabilities\n",
    "\n",
    "y_probabilities_bootstrapped = y_probabilities_bootstrap_array / bootstraps #Average the accumulated predictions\n",
    "y_predictions_bootstrapped = (y_probabilities_bootstrapped >= 0.5).astype(int)\n",
    "\n",
    "accuracy3 = accuracy_score(y, y_predictions_bootstrapped)\n",
    "mse3 = mean_squared_error(y, y_predictions_bootstrapped)\n",
    "\n",
    "print(\"Accuracy:\", accuracy3)\n",
    "print(f\"Accuracy Improvement: {accuracy3-accuracy}\")\n",
    "print(f'Mean Squared Error w/ Bootstrapping: {mse3}')\n",
    "print(f\"MSE Improvement: {mse3-mse}\")"
   ]
  }
 ],
 "metadata": {
  "kernelspec": {
   "display_name": "Python 3 (ipykernel)",
   "language": "python",
   "name": "python3"
  },
  "language_info": {
   "codemirror_mode": {
    "name": "ipython",
    "version": 3
   },
   "file_extension": ".py",
   "mimetype": "text/x-python",
   "name": "python",
   "nbconvert_exporter": "python",
   "pygments_lexer": "ipython3",
   "version": "3.11.0"
  }
 },
 "nbformat": 4,
 "nbformat_minor": 5
}
