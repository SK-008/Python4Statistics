{
 "cells": [
  {
   "cell_type": "markdown",
   "id": "eefdb3c6-de59-478e-bbaf-cf1dcd9a7d0d",
   "metadata": {
    "tags": []
   },
   "source": [
    "# Meta-Analysis\n",
    "### Used to combine the results of multiple studies"
   ]
  },
  {
   "cell_type": "code",
   "execution_count": 29,
   "id": "a0c4a0aa-3460-4064-91e2-df54f816f5ad",
   "metadata": {
    "tags": []
   },
   "outputs": [],
   "source": [
    "import pandas as pd\n",
    "import numpy as np\n",
    "import matplotlib.pyplot as plt\n",
    "from scipy.stats import chi2"
   ]
  },
  {
   "cell_type": "code",
   "execution_count": 15,
   "id": "754a4451-f22d-404d-b45f-acdf8aa0fd43",
   "metadata": {
    "tags": []
   },
   "outputs": [
    {
     "name": "stdout",
     "output_type": "stream",
     "text": [
      "    study  effect_size  std_error\n",
      "0  Study1          0.2       0.11\n",
      "1  Study2          0.5       0.23\n",
      "2  Study3         -0.1       0.19\n",
      "3  Study4          0.4       0.15\n",
      "4  Study5          0.3       0.20\n"
     ]
    }
   ],
   "source": [
    "#Fake Data\n",
    "data = {\n",
    "    'study': ['Study1', 'Study2', 'Study3', 'Study4', 'Study5'],\n",
    "    'effect_size': [0.2, 0.5, -0.1, 0.4, 0.3],\n",
    "    'std_error': [0.11, 0.23, 0.19, 0.15, 0.2]\n",
    "}\n",
    "\n",
    "df = pd.DataFrame(data)\n",
    "print(df)"
   ]
  },
  {
   "cell_type": "code",
   "execution_count": 17,
   "id": "571256ad-8af1-42c5-b4cf-0eee9cae6c15",
   "metadata": {
    "tags": []
   },
   "outputs": [
    {
     "name": "stdout",
     "output_type": "stream",
     "text": [
      "    study  effect_size  std_error  variance     weight\n",
      "0  Study1          0.2       0.11    0.0121  82.644628\n",
      "1  Study2          0.5       0.23    0.0529  18.903592\n",
      "2  Study3         -0.1       0.19    0.0361  27.700831\n",
      "3  Study4          0.4       0.15    0.0225  44.444444\n",
      "4  Study5          0.3       0.20    0.0400  25.000000\n"
     ]
    }
   ],
   "source": [
    "# Calculate weights - Give lower variance estimates greater weights\n",
    "df['variance'] = df['std_error'] ** 2 #Calculate variance\n",
    "df['weight'] = 1 / df['variance'] #Weight is inverse of variance\n",
    "print(df)"
   ]
  },
  {
   "cell_type": "code",
   "execution_count": 21,
   "id": "ff6d007e-5221-41b8-89fa-854047e5927c",
   "metadata": {
    "tags": []
   },
   "outputs": [
    {
     "name": "stdout",
     "output_type": "stream",
     "text": [
      "Combined Effect Size: 0.24403625330101453\n",
      "Combined Standard Error: 0.07094277546772182\n"
     ]
    }
   ],
   "source": [
    "#Calculate combined effect size - Fixed effects\n",
    "#Use when studies are similar, or little variation among effect sizes\n",
    "combined_effect_size = np.sum(df['effect_size'] * df['weight']) / np.sum(df['weight'])\n",
    "combined_variance = 1 / np.sum(df['weight'])\n",
    "combined_std_error = np.sqrt(combined_variance)\n",
    "\n",
    "print(f'Combined Effect Size (Fixed Effects): {combined_effect_size}')\n",
    "print(f'Combined Standard Error (Fixed Effects): {combined_std_error}')"
   ]
  },
  {
   "cell_type": "code",
   "execution_count": 23,
   "id": "609c660b-a2cf-414d-bee3-27f7206613f3",
   "metadata": {
    "tags": []
   },
   "outputs": [
    {
     "name": "stdout",
     "output_type": "stream",
     "text": [
      "Combined Effect Size (Random Effects): 0.24862837668646365\n",
      "Combined Standard Error (Random Effects): 0.08990255314532769\n"
     ]
    }
   ],
   "source": [
    "#Calculate combined effect size - Random effects\n",
    "#Use when studies are less similar, or larger variation among effect sizes\n",
    "Q = np.sum(df['weight'] * (df['effect_size'] - combined_effect_size)**2)\n",
    "df_degrees_of_freedom = len(df) - 1\n",
    "C = np.sum(df['weight']) - np.sum(df['weight']**2) / np.sum(df['weight'])\n",
    "tau_squared = (Q - df_degrees_of_freedom) / C\n",
    "\n",
    "df['random_weight'] = 1 / (df['variance'] + tau_squared)\n",
    "\n",
    "combined_effect_size_random = np.sum(df['effect_size'] * df['random_weight']) / np.sum(df['random_weight'])\n",
    "combined_variance_random = 1 / np.sum(df['random_weight'])\n",
    "combined_std_error_random = np.sqrt(combined_variance_random)\n",
    "\n",
    "print(f'Combined Effect Size (Random Effects): {combined_effect_size_random}')\n",
    "print(f'Combined Standard Error (Random Effects): {combined_std_error_random}')"
   ]
  },
  {
   "cell_type": "code",
   "execution_count": 25,
   "id": "b392ef10-bf16-4147-af44-cba3a8a9b82a",
   "metadata": {
    "tags": []
   },
   "outputs": [
    {
     "data": {
      "image/png": "[encoded data removed]",
      "text/plain": [
       "<Figure size 640x480 with 1 Axes>"
      ]
     },
     "metadata": {},
     "output_type": "display_data"
    }
   ],
   "source": [
    "#Plot forest plot\n",
    "plt.errorbar(df['effect_size'], df['study'], xerr=df['std_error'], fmt='o', label='Studies')\n",
    "plt.axvline(combined_effect_size, color='red', linestyle='--', label='Fixed Effect')\n",
    "plt.axvline(combined_effect_size_random, color='blue', linestyle='--', label='Random Effect')\n",
    "plt.xlabel('Effect Size')\n",
    "plt.title('Forest Plot')\n",
    "plt.legend()\n",
    "plt.show()"
   ]
  }
 ],
 "metadata": {
  "kernelspec": {
   "display_name": "Python 3 (ipykernel)",
   "language": "python",
   "name": "python3"
  },
  "language_info": {
   "codemirror_mode": {
    "name": "ipython",
    "version": 3
   },
   "file_extension": ".py",
   "mimetype": "text/x-python",
   "name": "python",
   "nbconvert_exporter": "python",
   "pygments_lexer": "ipython3",
   "version": "3.11.7"
  }
 },
 "nbformat": 4,
 "nbformat_minor": 5
}
