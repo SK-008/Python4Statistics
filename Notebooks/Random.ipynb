{
 "cells": [
  {
   "cell_type": "markdown",
   "id": "6bb33ac4-d933-49e2-a12a-91c3bed650d2",
   "metadata": {},
   "source": [
    "# Python's Random Module"
   ]
  },
  {
   "cell_type": "code",
   "execution_count": 3,
   "id": "005e2771-106a-4ba4-b35e-f9a2e416ce5e",
   "metadata": {},
   "outputs": [],
   "source": [
    "import random "
   ]
  },
  {
   "cell_type": "code",
   "execution_count": 6,
   "id": "6075eeb4-5186-4285-ba78-9ee0342db7b4",
   "metadata": {},
   "outputs": [],
   "source": [
    "#Set seed for reproducing randomness\n",
    "random.seed(1663)"
   ]
  },
  {
   "cell_type": "code",
   "execution_count": 43,
   "id": "abbc0462-8a77-4662-9197-3e89372c7976",
   "metadata": {},
   "outputs": [
    {
     "data": {
      "text/plain": [
       "78"
      ]
     },
     "execution_count": 43,
     "metadata": {},
     "output_type": "execute_result"
    }
   ],
   "source": [
    "#Generate a random integer between two values\n",
    "random.randint(1,100)"
   ]
  },
  {
   "cell_type": "code",
   "execution_count": 51,
   "id": "72221319-0e38-4070-9cd5-03c8856b0bbd",
   "metadata": {},
   "outputs": [
    {
     "data": {
      "text/plain": [
       "'python'"
      ]
     },
     "execution_count": 51,
     "metadata": {},
     "output_type": "execute_result"
    }
   ],
   "source": [
    "#Select an item from a list at random\n",
    "languages = ['python','r','swift','javascript','julia']\n",
    "random.choice(languages)"
   ]
  },
  {
   "cell_type": "code",
   "execution_count": 54,
   "id": "de3aa790-6af7-4418-a8a1-97d396a5df2a",
   "metadata": {},
   "outputs": [
    {
     "data": {
      "text/plain": [
       "['javascript', 'javascript', 'julia']"
      ]
     },
     "execution_count": 54,
     "metadata": {},
     "output_type": "execute_result"
    }
   ],
   "source": [
    "#Select k items from a list at random\n",
    "languages = ['python','r','swift','javascript','julia']\n",
    "random.choices(languages, k=3)"
   ]
  },
  {
   "cell_type": "code",
   "execution_count": 85,
   "id": "42d86ee5-c735-49a2-be13-157a890ff0fe",
   "metadata": {},
   "outputs": [
    {
     "data": {
      "text/plain": [
       "['javascript', 'python', 'r']"
      ]
     },
     "execution_count": 85,
     "metadata": {},
     "output_type": "execute_result"
    }
   ],
   "source": [
    "#Select items from a list at random, with weights\n",
    "languages = ['python','r','swift','javascript','julia']\n",
    "random.choices(languages, weights=[5,3,1,1,1], k=3)"
   ]
  },
  {
   "cell_type": "code",
   "execution_count": 73,
   "id": "4b94a8b9-56c1-44fb-8788-ac512ddfee14",
   "metadata": {},
   "outputs": [
    {
     "data": {
      "text/plain": [
       "['javascript', 'swift', 'julia', 'r', 'python']"
      ]
     },
     "execution_count": 73,
     "metadata": {},
     "output_type": "execute_result"
    }
   ],
   "source": [
    "#Randomly reorder a list\n",
    "languages = ['python','r','swift','javascript','julia']\n",
    "random.shuffle(languages)\n",
    "languages"
   ]
  },
  {
   "cell_type": "code",
   "execution_count": 75,
   "id": "c9229e5c-f036-489f-adc3-ac95c87c0159",
   "metadata": {},
   "outputs": [
    {
     "data": {
      "text/plain": [
       "['r', 'javascript', 'swift']"
      ]
     },
     "execution_count": 75,
     "metadata": {},
     "output_type": "execute_result"
    }
   ],
   "source": [
    "#Select a sample of k length\n",
    "languages = ['python','r','swift','javascript','julia']\n",
    "random.sample(languages, k=3)"
   ]
  },
  {
   "cell_type": "code",
   "execution_count": 76,
   "id": "16cc6b53-c405-4d85-b95f-dbb203afd3b4",
   "metadata": {},
   "outputs": [
    {
     "data": {
      "text/plain": [
       "0.39627156972339905"
      ]
     },
     "execution_count": 76,
     "metadata": {},
     "output_type": "execute_result"
    }
   ],
   "source": [
    "#Random float between 0 and 1\n",
    "random.random()"
   ]
  },
  {
   "cell_type": "code",
   "execution_count": 81,
   "id": "1daab446-96b8-483f-a68e-356e3f33765d",
   "metadata": {},
   "outputs": [
    {
     "data": {
      "text/plain": [
       "58.724402814929825"
      ]
     },
     "execution_count": 81,
     "metadata": {},
     "output_type": "execute_result"
    }
   ],
   "source": [
    "#Random floats between two integers\n",
    "random.uniform(0,100)"
   ]
  },
  {
   "cell_type": "code",
   "execution_count": 84,
   "id": "f59c2520-0379-44f6-bb0c-082cbc1a8d3a",
   "metadata": {},
   "outputs": [
    {
     "data": {
      "text/plain": [
       "96.88292496724688"
      ]
     },
     "execution_count": 84,
     "metadata": {},
     "output_type": "execute_result"
    }
   ],
   "source": [
    "#Random floats normal distribution given mean and standard deviation\n",
    "random.normalvariate(100,25)"
   ]
  }
 ],
 "metadata": {
  "kernelspec": {
   "display_name": "Python 3 (ipykernel)",
   "language": "python",
   "name": "python3"
  },
  "language_info": {
   "codemirror_mode": {
    "name": "ipython",
    "version": 3
   },
   "file_extension": ".py",
   "mimetype": "text/x-python",
   "name": "python",
   "nbconvert_exporter": "python",
   "pygments_lexer": "ipython3",
   "version": "3.11.7"
  }
 },
 "nbformat": 4,
 "nbformat_minor": 5
}
