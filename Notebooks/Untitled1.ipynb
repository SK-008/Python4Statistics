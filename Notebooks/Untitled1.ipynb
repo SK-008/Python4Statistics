{
 "cells": [
  {
   "cell_type": "code",
   "execution_count": 8,
   "id": "7ef9ce49-7acf-4d76-b45b-3ab51104338a",
   "metadata": {
    "tags": []
   },
   "outputs": [
    {
     "name": "stdout",
     "output_type": "stream",
     "text": [
      "    Sample  Lower Bound  Sample Mean  Upper Bound  Mean in CI\n",
      "0        0    -0.277686     0.156298     0.590281        True\n",
      "1        1     0.086373     0.520357     0.954340       False\n",
      "2        2    -0.732888    -0.298904     0.135079        True\n",
      "3        3    -0.354032     0.079952     0.513935        True\n",
      "4        4    -0.646044    -0.212060     0.221923        True\n",
      "..     ...          ...          ...          ...         ...\n",
      "95      95    -0.592209    -0.158225     0.275758        True\n",
      "96      96    -0.144526     0.289457     0.723441        True\n",
      "97      97    -0.264965     0.169019     0.603002        True\n",
      "98      98    -0.232584     0.201400     0.635383        True\n",
      "99      99    -0.629664    -0.195680     0.238303        True\n",
      "\n",
      "[100 rows x 5 columns]\n",
      "96.0\n",
      "4.0\n"
     ]
    }
   ],
   "source": [
    "import pandas as pd\n",
    "import numpy as np\n",
    "import scipy.stats as stats\n",
    "\n",
    "population = np.random.normal(loc=0, scale=1, size=10000)\n",
    "\n",
    "population_mean = np.mean(population)\n",
    "population_std = np.std(population)\n",
    "\n",
    "num_samples = 100\n",
    "sample_size = 20\n",
    "\n",
    "sample_stats = []\n",
    "\n",
    "for i in range(num_samples):\n",
    "    sample = np.random.choice(population, size=sample_size, replace=False)\n",
    "    sample_mean = np.mean(sample)\n",
    "    se = population_std / np.sqrt(sample_size)\n",
    "    ci = stats.norm.interval(0.95, loc=sample_mean, scale=se)\n",
    "    \n",
    "    mean_in_interval = ci[0] <= population_mean <= ci[1]\n",
    "\n",
    "    sample_stats.append((ci[0], sample_mean, ci[1], mean_in_interval))\n",
    "\n",
    "\n",
    "table = pd.DataFrame(sample_stats, columns=[\"Lower Bound\", \"Sample Mean\", \"Upper Bound\", \"Mean in CI\"])\n",
    "table.index.name = 'Sample'\n",
    "table.reset_index(inplace=True)\n",
    "print(table)\n",
    "\n",
    "true_count = table[\"Mean in CI\"].sum()\n",
    "false_count = len(table) - true_count\n",
    "\n",
    "percentage_true = (true_count / len(table)) * 100\n",
    "percentage_false = (false_count / len(table)) * 100\n",
    "\n",
    "print(percentage_true) \n",
    "print(percentage_false)\n"
   ]
  },
  {
   "cell_type": "code",
   "execution_count": null,
   "id": "bcb7f31b-a594-4577-b882-f358f5798ae1",
   "metadata": {
    "tags": []
   },
   "outputs": [],
   "source": []
  },
  {
   "cell_type": "code",
   "execution_count": null,
   "id": "b0dd1312-ae1c-4df8-8c94-cfffc351330b",
   "metadata": {},
   "outputs": [],
   "source": []
  }
 ],
 "metadata": {
  "kernelspec": {
   "display_name": "Python 3 (ipykernel)",
   "language": "python",
   "name": "python3"
  },
  "language_info": {
   "codemirror_mode": {
    "name": "ipython",
    "version": 3
   },
   "file_extension": ".py",
   "mimetype": "text/x-python",
   "name": "python",
   "nbconvert_exporter": "python",
   "pygments_lexer": "ipython3",
   "version": "3.11.5"
  }
 },
 "nbformat": 4,
 "nbformat_minor": 5
}
