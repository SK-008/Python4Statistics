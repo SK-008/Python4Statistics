{
 "cells": [
  {
   "cell_type": "code",
   "execution_count": 1,
   "id": "45bce25f",
   "metadata": {},
   "outputs": [],
   "source": [
    "#Lists\n",
    "\n",
    "#Creating empty lists\n",
    "el = []"
   ]
  },
  {
   "cell_type": "code",
   "execution_count": 2,
   "id": "29d13477",
   "metadata": {},
   "outputs": [
    {
     "name": "stdout",
     "output_type": "stream",
     "text": [
      "['Toyota', 'Honda', 'BMW', 'Ford']\n"
     ]
    }
   ],
   "source": [
    "car_brands = ['Toyota', 'Honda', 'BMW', 'Ford']\n",
    "print(car_brands)"
   ]
  },
  {
   "cell_type": "code",
   "execution_count": 3,
   "id": "63ca8e53",
   "metadata": {},
   "outputs": [
    {
     "name": "stdout",
     "output_type": "stream",
     "text": [
      "Toyota Ford\n"
     ]
    }
   ],
   "source": [
    "#Accessing Elements\n",
    "first_brand = car_brands[0]\n",
    "last_brand = car_brands[-1]\n",
    "print(first_brand, last_brand)"
   ]
  },
  {
   "cell_type": "code",
   "execution_count": 4,
   "id": "159dd451",
   "metadata": {},
   "outputs": [
    {
     "name": "stdout",
     "output_type": "stream",
     "text": [
      "['Honda', 'BMW']\n"
     ]
    }
   ],
   "source": [
    "#Slicing\n",
    "subset = car_brands[1:3]\n",
    "print(subset)"
   ]
  },
  {
   "cell_type": "code",
   "execution_count": 5,
   "id": "26b17e42",
   "metadata": {},
   "outputs": [
    {
     "name": "stdout",
     "output_type": "stream",
     "text": [
      "4\n"
     ]
    }
   ],
   "source": [
    "#Length\n",
    "length = len(car_brands)\n",
    "print(length)"
   ]
  },
  {
   "cell_type": "code",
   "execution_count": 6,
   "id": "bd2cb0af",
   "metadata": {},
   "outputs": [
    {
     "name": "stdout",
     "output_type": "stream",
     "text": [
      "['Toyota', 'Honda', 'BMW', 'Ford', 'Mercedes', 'Audi']\n"
     ]
    }
   ],
   "source": [
    "#Concatenation\n",
    "more_brands = ['Mercedes', 'Audi']\n",
    "combined = car_brands + more_brands\n",
    "print(combined)"
   ]
  },
  {
   "cell_type": "code",
   "execution_count": 7,
   "id": "d468a22a",
   "metadata": {},
   "outputs": [
    {
     "name": "stdout",
     "output_type": "stream",
     "text": [
      "['Toyota', 'Chevrolet', 'BMW', 'Ford']\n"
     ]
    }
   ],
   "source": [
    "#Modifying Elements\n",
    "car_brands[1] = 'Chevrolet'\n",
    "print(car_brands)"
   ]
  },
  {
   "cell_type": "code",
   "execution_count": 8,
   "id": "5a2ea98d",
   "metadata": {},
   "outputs": [
    {
     "name": "stdout",
     "output_type": "stream",
     "text": [
      "['Toyota', 'Chevrolet', 'BMW', 'Ford', 'Nissan']\n"
     ]
    }
   ],
   "source": [
    "#Appending Elements\n",
    "car_brands.append('Nissan')\n",
    "print(car_brands)"
   ]
  },
  {
   "cell_type": "code",
   "execution_count": 9,
   "id": "9ed29181",
   "metadata": {},
   "outputs": [
    {
     "name": "stdout",
     "output_type": "stream",
     "text": [
      "['Toyota', 'Chevrolet', 'Tesla', 'BMW', 'Ford', 'Nissan']\n"
     ]
    }
   ],
   "source": [
    "#Inserting Elements\n",
    "car_brands.insert(2, 'Tesla')\n",
    "print(car_brands)"
   ]
  },
  {
   "cell_type": "code",
   "execution_count": 10,
   "id": "42f9c74b",
   "metadata": {},
   "outputs": [
    {
     "name": "stdout",
     "output_type": "stream",
     "text": [
      "['Toyota', 'Chevrolet', 'Tesla', 'Ford', 'Nissan']\n"
     ]
    }
   ],
   "source": [
    "#Removing Elements - Remove\n",
    "car_brands.remove('BMW')\n",
    "print(car_brands)"
   ]
  },
  {
   "cell_type": "code",
   "execution_count": 11,
   "id": "ad458f30",
   "metadata": {},
   "outputs": [
    {
     "name": "stdout",
     "output_type": "stream",
     "text": [
      "Chevrolet ['Toyota', 'Tesla', 'Ford', 'Nissan']\n"
     ]
    }
   ],
   "source": [
    "#Removing Elements - Pop\n",
    "#Note that this changes the \"car_brands\" list too\n",
    "popped_brand = car_brands.pop(1)\n",
    "print(popped_brand, car_brands)"
   ]
  },
  {
   "cell_type": "code",
   "execution_count": 12,
   "id": "eccaff20",
   "metadata": {},
   "outputs": [
    {
     "name": "stdout",
     "output_type": "stream",
     "text": [
      "['Ford', 'Nissan', 'Tesla', 'Toyota']\n",
      "['Toyota', 'Tesla', 'Nissan', 'Ford']\n"
     ]
    }
   ],
   "source": [
    "#Sorting\n",
    "car_brands.sort()\n",
    "print(car_brands)\n",
    "\n",
    "#Reversing\n",
    "car_brands.reverse()\n",
    "print(car_brands)"
   ]
  },
  {
   "cell_type": "code",
   "execution_count": 13,
   "id": "bfc089aa",
   "metadata": {},
   "outputs": [
    {
     "name": "stdout",
     "output_type": "stream",
     "text": [
      "List Counting: 1\n"
     ]
    }
   ],
   "source": [
    "#Counting\n",
    "count = car_brands.count('Toyota')\n",
    "print(\"List Counting:\", count)"
   ]
  },
  {
   "cell_type": "code",
   "execution_count": null,
   "id": "116a2ff8",
   "metadata": {},
   "outputs": [],
   "source": [
    "#List comprehensions\n",
    "#Make lists using iteration and generation at same time / in one line\n",
    "\n",
    "#Syntax: [expression for item in iterable if condition]\n",
    "\n",
    "#Expression: Computed expression to be included in the final list\n",
    "#Item: What will be processed\n",
    "#Iterable: Object or sequence to loop over\n",
    "#If condition (Optional): Conditions under which to apply the expression\n",
    "\n",
    "squares = [x ** 2 for x in range(1, 9)]\n",
    "print(squares)\n",
    "squares_lt3 = [x ** 2 for x in range(1, 9) if x < 3]\n",
    "print(squares_lt3)"
   ]
  },
  {
   "cell_type": "code",
   "execution_count": 14,
   "id": "9fd57737",
   "metadata": {},
   "outputs": [
    {
     "name": "stdout",
     "output_type": "stream",
     "text": [
      "[2, 4, 6, 8, 10]\n",
      "[1, 3, 5, 7, 9]\n"
     ]
    }
   ],
   "source": [
    "#Collect only even numbers\n",
    "numbers = [1, 2, 3, 4, 5, 6, 7, 8, 9, 10]\n",
    "even_numbers = [n for n in numbers if n % 2 == 0]\n",
    "print(even_numbers)\n",
    "odd_numbers = [n for n in numbers if n % 2 == 1]\n",
    "print(odd_numbers)"
   ]
  },
  {
   "cell_type": "code",
   "execution_count": 15,
   "id": "74b4eebd",
   "metadata": {},
   "outputs": [
    {
     "name": "stdout",
     "output_type": "stream",
     "text": [
      "[(1, 1, 1), (2, 4, 8), (3, 9, 27), (4, 16, 64), (5, 25, 125)]\n"
     ]
    }
   ],
   "source": [
    "#Create a tuple from x, x**2, and x**3\n",
    "numbers = [1, 2, 3, 4, 5]\n",
    "numbers_squared_cubed = [(num, num ** 2, num ** 3) for num in numbers]\n",
    "print(numbers_squared_cubed)"
   ]
  },
  {
   "cell_type": "code",
   "execution_count": 16,
   "id": "0963e12d",
   "metadata": {},
   "outputs": [
    {
     "name": "stdout",
     "output_type": "stream",
     "text": [
      "{1: 1, 2: 4, 3: 9, 4: 16, 5: 25}\n"
     ]
    }
   ],
   "source": [
    "#Create a dictionary from x and x**2 using \"dictionary comprehensions\"\n",
    "numbers = [1, 2, 3, 4, 5]\n",
    "x = [1, 2, 3, 4, 5]\n",
    "d = {num: num ** 2 for num in x} #Note the braces\n",
    "print(d)"
   ]
  },
  {
   "cell_type": "code",
   "execution_count": 17,
   "id": "85c3fef3",
   "metadata": {},
   "outputs": [
    {
     "name": "stdout",
     "output_type": "stream",
     "text": [
      "['ALPHA', 'BETA', 'GAMMA']\n"
     ]
    }
   ],
   "source": [
    "#Capitalize all the words and put them in a new list \n",
    "words = ['alpha', 'beta', 'gamma']\n",
    "uppercase_words = [word.upper() for word in words]\n",
    "print(uppercase_words)"
   ]
  }
 ],
 "metadata": {
  "kernelspec": {
   "display_name": "Python 3 (ipykernel)",
   "language": "python",
   "name": "python3"
  },
  "language_info": {
   "codemirror_mode": {
    "name": "ipython",
    "version": 3
   },
   "file_extension": ".py",
   "mimetype": "text/x-python",
   "name": "python",
   "nbconvert_exporter": "python",
   "pygments_lexer": "ipython3",
   "version": "3.11.5"
  }
 },
 "nbformat": 4,
 "nbformat_minor": 5
}
